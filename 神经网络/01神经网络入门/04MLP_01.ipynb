{
 "cells": [
  {
   "cell_type": "code",
   "execution_count": 1,
   "metadata": {},
   "outputs": [],
   "source": [
    "import matplotlib as mpl\n",
    "import matplotlib.pyplot as plt\n",
    "%matplotlib inline\n",
    "import numpy as np\n",
    "import sklearn\n",
    "import pandas as pd\n",
    "import os\n",
    "import sys\n",
    "import time\n",
    "import tensorflow as tf\n",
    "\n",
    "from tensorflow import keras\n",
    "\n",
    "from tensorflow.keras.datasets import imdb"
   ]
  },
  {
   "cell_type": "code",
   "execution_count": 2,
   "metadata": {},
   "outputs": [],
   "source": [
    "(train_data, train_labels),(test_data,test_labels) = imdb.load_data(num_words=10000)"
   ]
  },
  {
   "cell_type": "code",
   "execution_count": 3,
   "metadata": {},
   "outputs": [],
   "source": [
    "def vectorize_sequences(sequences, dimension=10000):\n",
    "    results = np.zeros((len(sequences), dimension)) #数据集长度，每个评论维度10000\n",
    "    for i, sequence in enumerate(sequences):\n",
    "        results[i, sequence] = 1 # one-hot\n",
    "    return results\n",
    "\n",
    "x_train = vectorize_sequences(train_data)\n",
    "x_test = vectorize_sequences(test_data)\n",
    "\n",
    "y_train = np.asarray(train_labels).astype('float32') # 向量化标签数据\n",
    "y_test = np.asarray(test_labels).astype('float32')"
   ]
  },
  {
   "cell_type": "code",
   "execution_count": 4,
   "metadata": {},
   "outputs": [
    {
     "name": "stdout",
     "output_type": "stream",
     "text": [
      "(25000, 10000) (25000,)\n",
      "(25000, 10000) (25000,)\n"
     ]
    }
   ],
   "source": [
    "print(x_train.shape,y_train.shape)\n",
    "print(x_test.shape,y_test.shape)"
   ]
  },
  {
   "cell_type": "code",
   "execution_count": 5,
   "metadata": {},
   "outputs": [
    {
     "name": "stdout",
     "output_type": "stream",
     "text": [
      "Model: \"sequential\"\n",
      "_________________________________________________________________\n",
      "Layer (type)                 Output Shape              Param #   \n",
      "=================================================================\n",
      "dense (Dense)                (None, 200)               2000200   \n",
      "_________________________________________________________________\n",
      "dense_1 (Dense)              (None, 1)                 201       \n",
      "=================================================================\n",
      "Total params: 2,000,401\n",
      "Trainable params: 2,000,401\n",
      "Non-trainable params: 0\n",
      "_________________________________________________________________\n"
     ]
    }
   ],
   "source": [
    "mlp = keras.models.Sequential()\n",
    "mlp.add(keras.layers.Dense(units=200, input_dim=x_train.shape[1], activation='sigmoid'))\n",
    "mlp.add(keras.layers.Dense(units=1, activation='sigmoid'))\n",
    "mlp.summary()"
   ]
  },
  {
   "cell_type": "code",
   "execution_count": 6,
   "metadata": {},
   "outputs": [],
   "source": [
    "mlp.compile(optimizer='adam', loss='binary_crossentropy')"
   ]
  },
  {
   "cell_type": "code",
   "execution_count": 7,
   "metadata": {},
   "outputs": [
    {
     "name": "stdout",
     "output_type": "stream",
     "text": [
      "Epoch 1/100\n",
      "782/782 [==============================] - 5s 6ms/step - loss: 0.3188\n",
      "Epoch 2/100\n",
      "782/782 [==============================] - 5s 6ms/step - loss: 0.1924\n",
      "Epoch 3/100\n",
      "782/782 [==============================] - 5s 6ms/step - loss: 0.1517\n",
      "Epoch 4/100\n",
      "782/782 [==============================] - 5s 6ms/step - loss: 0.1204\n",
      "Epoch 5/100\n",
      "782/782 [==============================] - 5s 6ms/step - loss: 0.0999\n",
      "Epoch 6/100\n",
      "782/782 [==============================] - 5s 6ms/step - loss: 0.0817\n",
      "Epoch 7/100\n",
      "782/782 [==============================] - 5s 6ms/step - loss: 0.0647\n",
      "Epoch 8/100\n",
      "782/782 [==============================] - 5s 6ms/step - loss: 0.0510\n",
      "Epoch 9/100\n",
      "782/782 [==============================] - 5s 6ms/step - loss: 0.0404\n",
      "Epoch 10/100\n",
      "782/782 [==============================] - 5s 6ms/step - loss: 0.0310\n",
      "Epoch 11/100\n",
      "782/782 [==============================] - 5s 6ms/step - loss: 0.0249\n",
      "Epoch 12/100\n",
      "782/782 [==============================] - 5s 6ms/step - loss: 0.0215\n",
      "Epoch 13/100\n",
      "782/782 [==============================] - 5s 6ms/step - loss: 0.0151\n",
      "Epoch 14/100\n",
      "782/782 [==============================] - 5s 6ms/step - loss: 0.0102\n",
      "Epoch 15/100\n",
      "782/782 [==============================] - 5s 6ms/step - loss: 0.0069\n",
      "Epoch 16/100\n",
      "782/782 [==============================] - 5s 6ms/step - loss: 0.0096\n",
      "Epoch 17/100\n",
      "782/782 [==============================] - 5s 6ms/step - loss: 0.0137\n",
      "Epoch 18/100\n",
      "782/782 [==============================] - 5s 6ms/step - loss: 0.0092\n",
      "Epoch 19/100\n",
      "782/782 [==============================] - 5s 6ms/step - loss: 0.0080\n",
      "Epoch 20/100\n",
      "782/782 [==============================] - 5s 6ms/step - loss: 0.0045\n",
      "Epoch 21/100\n",
      "782/782 [==============================] - 5s 7ms/step - loss: 0.0040\n",
      "Epoch 22/100\n",
      "782/782 [==============================] - 5s 7ms/step - loss: 0.0027\n",
      "Epoch 23/100\n",
      "782/782 [==============================] - 5s 7ms/step - loss: 0.0031\n",
      "Epoch 24/100\n",
      "782/782 [==============================] - 5s 7ms/step - loss: 0.0059\n",
      "Epoch 25/100\n",
      "782/782 [==============================] - 6s 7ms/step - loss: 0.0062\n",
      "Epoch 26/100\n",
      "782/782 [==============================] - 6s 7ms/step - loss: 0.0021\n",
      "Epoch 27/100\n",
      "782/782 [==============================] - 5s 7ms/step - loss: 6.4795e-04\n",
      "Epoch 28/100\n",
      "782/782 [==============================] - 5s 7ms/step - loss: 1.6944e-04\n",
      "Epoch 29/100\n",
      "782/782 [==============================] - 5s 7ms/step - loss: 9.3810e-05\n",
      "Epoch 30/100\n",
      "782/782 [==============================] - 5s 7ms/step - loss: 6.8125e-05\n",
      "Epoch 31/100\n",
      "782/782 [==============================] - 5s 7ms/step - loss: 5.0963e-05\n",
      "Epoch 32/100\n",
      "782/782 [==============================] - 6s 7ms/step - loss: 3.8083e-05\n",
      "Epoch 33/100\n",
      "782/782 [==============================] - 5s 7ms/step - loss: 2.8622e-05\n",
      "Epoch 34/100\n",
      "782/782 [==============================] - 5s 7ms/step - loss: 2.1081e-05\n",
      "Epoch 35/100\n",
      "782/782 [==============================] - 5s 7ms/step - loss: 1.5677e-05\n",
      "Epoch 36/100\n",
      "782/782 [==============================] - 5s 7ms/step - loss: 1.1269e-05\n",
      "Epoch 37/100\n",
      "782/782 [==============================] - 5s 7ms/step - loss: 8.0469e-06\n",
      "Epoch 38/100\n",
      "782/782 [==============================] - 5s 7ms/step - loss: 5.6966e-06\n",
      "Epoch 39/100\n",
      "782/782 [==============================] - 5s 7ms/step - loss: 4.0545e-06\n",
      "Epoch 40/100\n",
      "782/782 [==============================] - 5s 7ms/step - loss: 2.8752e-06\n",
      "Epoch 41/100\n",
      "782/782 [==============================] - 5s 7ms/step - loss: 1.9930e-06\n",
      "Epoch 42/100\n",
      "782/782 [==============================] - 5s 7ms/step - loss: 1.3994e-06\n",
      "Epoch 43/100\n",
      "782/782 [==============================] - 5s 7ms/step - loss: 9.9037e-07\n",
      "Epoch 44/100\n",
      "782/782 [==============================] - 5s 7ms/step - loss: 6.9962e-07\n",
      "Epoch 45/100\n",
      "782/782 [==============================] - 5s 7ms/step - loss: 4.9013e-07\n",
      "Epoch 46/100\n",
      "782/782 [==============================] - 5s 7ms/step - loss: 3.4597e-07\n",
      "Epoch 47/100\n",
      "782/782 [==============================] - 5s 7ms/step - loss: 2.4831e-07\n",
      "Epoch 48/100\n",
      "782/782 [==============================] - 5s 7ms/step - loss: 1.7796e-07\n",
      "Epoch 49/100\n",
      "782/782 [==============================] - 5s 7ms/step - loss: 1.2967e-07\n",
      "Epoch 50/100\n",
      "782/782 [==============================] - 5s 7ms/step - loss: 9.3983e-08\n",
      "Epoch 51/100\n",
      "782/782 [==============================] - 5s 7ms/step - loss: 7.0574e-08\n",
      "Epoch 52/100\n",
      "782/782 [==============================] - 6s 7ms/step - loss: 5.3812e-08\n",
      "Epoch 53/100\n",
      "782/782 [==============================] - 5s 7ms/step - loss: 4.1717e-08\n",
      "Epoch 54/100\n",
      "782/782 [==============================] - 5s 6ms/step - loss: 3.3224e-08\n",
      "Epoch 55/100\n",
      "782/782 [==============================] - 5s 7ms/step - loss: 2.6986e-08\n",
      "Epoch 56/100\n",
      "782/782 [==============================] - 5s 6ms/step - loss: 2.2403e-08\n",
      "Epoch 57/100\n",
      "782/782 [==============================] - 5s 6ms/step - loss: 1.9004e-08\n",
      "Epoch 58/100\n",
      "782/782 [==============================] - 5s 7ms/step - loss: 1.6396e-08\n",
      "Epoch 59/100\n",
      "782/782 [==============================] - 5s 7ms/step - loss: 1.4326e-08\n",
      "Epoch 60/100\n",
      "782/782 [==============================] - 5s 7ms/step - loss: 1.2759e-08\n",
      "Epoch 61/100\n",
      "782/782 [==============================] - 5s 7ms/step - loss: 1.1479e-08\n",
      "Epoch 62/100\n",
      "782/782 [==============================] - 5s 7ms/step - loss: 1.0409e-08\n",
      "Epoch 63/100\n",
      "782/782 [==============================] - 5s 7ms/step - loss: 9.5136e-09\n",
      "Epoch 64/100\n",
      "782/782 [==============================] - 5s 7ms/step - loss: 8.7632e-09\n",
      "Epoch 65/100\n",
      "782/782 [==============================] - 5s 7ms/step - loss: 8.1349e-09\n",
      "Epoch 66/100\n",
      "782/782 [==============================] - 5s 7ms/step - loss: 7.5825e-09\n",
      "Epoch 67/100\n",
      "782/782 [==============================] - 5s 7ms/step - loss: 7.0827e-09\n",
      "Epoch 68/100\n",
      "782/782 [==============================] - 5s 7ms/step - loss: 6.6783e-09\n",
      "Epoch 69/100\n",
      "782/782 [==============================] - 5s 7ms/step - loss: 6.3002e-09\n",
      "Epoch 70/100\n",
      "782/782 [==============================] - 5s 7ms/step - loss: 5.9698e-09\n",
      "Epoch 71/100\n",
      "782/782 [==============================] - 5s 7ms/step - loss: 5.6770e-09\n",
      "Epoch 72/100\n",
      "782/782 [==============================] - 5s 7ms/step - loss: 5.3926e-09\n",
      "Epoch 73/100\n",
      "782/782 [==============================] - 5s 7ms/step - loss: 5.1685e-09\n",
      "Epoch 74/100\n",
      "782/782 [==============================] - 5s 7ms/step - loss: 4.9396e-09\n",
      "Epoch 75/100\n",
      "782/782 [==============================] - 5s 7ms/step - loss: 4.7380e-09\n",
      "Epoch 76/100\n",
      "782/782 [==============================] - 5s 7ms/step - loss: 4.5452e-09\n",
      "Epoch 77/100\n",
      "782/782 [==============================] - 5s 7ms/step - loss: 4.3835e-09\n",
      "Epoch 78/100\n",
      "782/782 [==============================] - 5s 7ms/step - loss: 4.2321e-09\n",
      "Epoch 79/100\n",
      "782/782 [==============================] - 5s 7ms/step - loss: 4.0974e-09\n",
      "Epoch 80/100\n",
      "782/782 [==============================] - 5s 7ms/step - loss: 3.9460e-09\n",
      "Epoch 81/100\n",
      "782/782 [==============================] - 5s 7ms/step - loss: 3.8333e-09\n",
      "Epoch 82/100\n",
      "782/782 [==============================] - 5s 7ms/step - loss: 3.7190e-09\n",
      "Epoch 83/100\n",
      "782/782 [==============================] - 5s 7ms/step - loss: 3.6109e-09\n",
      "Epoch 84/100\n",
      "782/782 [==============================] - 5s 7ms/step - loss: 3.5104e-09\n",
      "Epoch 85/100\n",
      "782/782 [==============================] - 5s 7ms/step - loss: 3.4156e-09\n",
      "Epoch 86/100\n",
      "782/782 [==============================] - 5s 7ms/step - loss: 3.3251e-09\n",
      "Epoch 87/100\n",
      "782/782 [==============================] - 5s 7ms/step - loss: 3.2451e-09\n",
      "Epoch 88/100\n",
      "782/782 [==============================] - 5s 7ms/step - loss: 3.1703e-09\n",
      "Epoch 89/100\n",
      "782/782 [==============================] - 5s 7ms/step - loss: 3.0887e-09\n",
      "Epoch 90/100\n",
      "782/782 [==============================] - 5s 7ms/step - loss: 3.0206e-09\n",
      "Epoch 91/100\n",
      "782/782 [==============================] - 5s 7ms/step - loss: 2.9648e-09\n",
      "Epoch 92/100\n",
      "782/782 [==============================] - 5s 7ms/step - loss: 2.8928e-09\n",
      "Epoch 93/100\n",
      "782/782 [==============================] - 5s 7ms/step - loss: 2.8330e-09\n",
      "Epoch 94/100\n",
      "782/782 [==============================] - 6s 7ms/step - loss: 2.7763e-09\n",
      "Epoch 95/100\n",
      "782/782 [==============================] - 5s 7ms/step - loss: 2.7241e-09\n",
      "Epoch 96/100\n",
      "782/782 [==============================] - 5s 7ms/step - loss: 2.6715e-09\n",
      "Epoch 97/100\n",
      "782/782 [==============================] - 5s 7ms/step - loss: 2.6289e-09\n",
      "Epoch 98/100\n",
      "782/782 [==============================] - 5s 7ms/step - loss: 2.5753e-09\n",
      "Epoch 99/100\n",
      "782/782 [==============================] - 5s 7ms/step - loss: 2.5360e-09\n",
      "Epoch 100/100\n",
      "782/782 [==============================] - 5s 7ms/step - loss: 2.4892e-09\n",
      "Wall time: 8min 41s\n"
     ]
    },
    {
     "data": {
      "text/plain": [
       "<tensorflow.python.keras.callbacks.History at 0x12ea23cb9a0>"
      ]
     },
     "execution_count": 7,
     "metadata": {},
     "output_type": "execute_result"
    }
   ],
   "source": [
    "%%time\n",
    "mlp.fit(x_train, y_train, epochs=100)"
   ]
  },
  {
   "cell_type": "code",
   "execution_count": 13,
   "metadata": {},
   "outputs": [
    {
     "name": "stdout",
     "output_type": "stream",
     "text": [
      "0.84192\n"
     ]
    }
   ],
   "source": [
    "y_predict = mlp.predict_classes(x_test)\n",
    "from sklearn.metrics import  accuracy_score\n",
    "accuracy_test = accuracy_score(y_test, y_predict)\n",
    "print(accuracy_test)"
   ]
  },
  {
   "cell_type": "code",
   "execution_count": 14,
   "metadata": {},
   "outputs": [
    {
     "name": "stdout",
     "output_type": "stream",
     "text": [
      "1.0\n"
     ]
    }
   ],
   "source": [
    "y_predict_train = mlp.predict_classes(x_train)\n",
    "accuracy_train = accuracy_score(y_train, y_predict_train)\n",
    "print(accuracy_train)"
   ]
  },
  {
   "cell_type": "code",
   "execution_count": null,
   "metadata": {},
   "outputs": [],
   "source": []
  }
 ],
 "metadata": {
  "kernelspec": {
   "display_name": "tf2_gpu",
   "language": "python",
   "name": "tf2_gpu"
  },
  "language_info": {
   "codemirror_mode": {
    "name": "ipython",
    "version": 3
   },
   "file_extension": ".py",
   "mimetype": "text/x-python",
   "name": "python",
   "nbconvert_exporter": "python",
   "pygments_lexer": "ipython3",
   "version": "3.8.3"
  }
 },
 "nbformat": 4,
 "nbformat_minor": 4
}
