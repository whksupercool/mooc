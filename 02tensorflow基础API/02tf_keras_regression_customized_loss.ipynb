{
 "cells": [
  {
   "cell_type": "code",
   "execution_count": 1,
   "metadata": {},
   "outputs": [],
   "source": [
    "import matplotlib as mpl\n",
    "import matplotlib.pyplot as plt\n",
    "%matplotlib inline\n",
    "import numpy as np\n",
    "import sklearn\n",
    "import pandas as pd\n",
    "import os\n",
    "import sys\n",
    "import time\n",
    "import tensorflow as tf\n",
    "\n",
    "from tensorflow import keras"
   ]
  },
  {
   "cell_type": "code",
   "execution_count": 2,
   "metadata": {},
   "outputs": [
    {
     "name": "stdout",
     "output_type": "stream",
     "text": [
      ".. _california_housing_dataset:\n",
      "\n",
      "California Housing dataset\n",
      "--------------------------\n",
      "\n",
      "**Data Set Characteristics:**\n",
      "\n",
      "    :Number of Instances: 20640\n",
      "\n",
      "    :Number of Attributes: 8 numeric, predictive attributes and the target\n",
      "\n",
      "    :Attribute Information:\n",
      "        - MedInc        median income in block\n",
      "        - HouseAge      median house age in block\n",
      "        - AveRooms      average number of rooms\n",
      "        - AveBedrms     average number of bedrooms\n",
      "        - Population    block population\n",
      "        - AveOccup      average house occupancy\n",
      "        - Latitude      house block latitude\n",
      "        - Longitude     house block longitude\n",
      "\n",
      "    :Missing Attribute Values: None\n",
      "\n",
      "This dataset was obtained from the StatLib repository.\n",
      "http://lib.stat.cmu.edu/datasets/\n",
      "\n",
      "The target variable is the median house value for California districts.\n",
      "\n",
      "This dataset was derived from the 1990 U.S. census, using one row per census\n",
      "block group. A block group is the smallest geographical unit for which the U.S.\n",
      "Census Bureau publishes sample data (a block group typically has a population\n",
      "of 600 to 3,000 people).\n",
      "\n",
      "It can be downloaded/loaded using the\n",
      ":func:`sklearn.datasets.fetch_california_housing` function.\n",
      "\n",
      ".. topic:: References\n",
      "\n",
      "    - Pace, R. Kelley and Ronald Barry, Sparse Spatial Autoregressions,\n",
      "      Statistics and Probability Letters, 33 (1997) 291-297\n",
      "\n",
      "(20640, 8)\n",
      "(20640,)\n"
     ]
    }
   ],
   "source": [
    "from sklearn.datasets import fetch_california_housing\n",
    "\n",
    "housing = fetch_california_housing()\n",
    "print(housing.DESCR)\n",
    "print(housing.data.shape)\n",
    "print(housing.target.shape)"
   ]
  },
  {
   "cell_type": "code",
   "execution_count": 3,
   "metadata": {},
   "outputs": [
    {
     "name": "stdout",
     "output_type": "stream",
     "text": [
      "(11610, 8) (11610,)\n",
      "(3870, 8) (3870,)\n",
      "(5160, 8) (5160,)\n"
     ]
    }
   ],
   "source": [
    "from sklearn.model_selection import train_test_split\n",
    "\n",
    "x_train_all, x_test, y_train_all, y_test = train_test_split(housing.data, housing.target, random_state=7)\n",
    "x_train, x_valid, y_train, y_valid = train_test_split(x_train_all, y_train_all, random_state=11)\n",
    "\n",
    "print(x_train.shape, y_train.shape)\n",
    "print(x_valid.shape, y_valid.shape)\n",
    "print(x_test.shape, y_test.shape)"
   ]
  },
  {
   "cell_type": "code",
   "execution_count": 4,
   "metadata": {},
   "outputs": [],
   "source": [
    "from sklearn.preprocessing import StandardScaler\n",
    "\n",
    "scaler = StandardScaler()\n",
    "x_train_scaled = scaler.fit_transform(x_train)\n",
    "x_valid_scaled = scaler.transform(x_valid)\n",
    "x_test_scaled = scaler.transform(x_test)"
   ]
  },
  {
   "cell_type": "code",
   "execution_count": 5,
   "metadata": {},
   "outputs": [
    {
     "name": "stdout",
     "output_type": "stream",
     "text": [
      "Model: \"sequential\"\n",
      "_________________________________________________________________\n",
      "Layer (type)                 Output Shape              Param #   \n",
      "=================================================================\n",
      "dense (Dense)                (None, 30)                270       \n",
      "_________________________________________________________________\n",
      "dense_1 (Dense)              (None, 1)                 31        \n",
      "=================================================================\n",
      "Total params: 301\n",
      "Trainable params: 301\n",
      "Non-trainable params: 0\n",
      "_________________________________________________________________\n"
     ]
    }
   ],
   "source": [
    "def customized_mse(y_true, y_pred):\n",
    "    \"\"\"自定义损失函数\"\"\"\n",
    "    return tf.reduce_mean(tf.square(y_pred - y_true))\n",
    "    \n",
    "\n",
    "model = keras.models.Sequential([\n",
    "    keras.layers.Dense(30, activation=\"relu\", input_shape=x_train.shape[1:]),\n",
    "    keras.layers.Dense(1)\n",
    "])\n",
    "model.summary()\n",
    "model.compile(loss=customized_mse, optimizer=keras.optimizers.SGD(0.001), metrics=[\"mean_squared_error\"])\n",
    "callbacks = [keras.callbacks.EarlyStopping(patience=5, min_delta=1e-2)]"
   ]
  },
  {
   "cell_type": "code",
   "execution_count": 6,
   "metadata": {},
   "outputs": [
    {
     "name": "stdout",
     "output_type": "stream",
     "text": [
      "Epoch 1/100\n",
      "363/363 [==============================] - 0s 742us/step - loss: 1.8948 - mean_squared_error: 1.8948 - val_loss: 0.9114 - val_mean_squared_error: 0.9114\n",
      "Epoch 2/100\n",
      "363/363 [==============================] - 0s 469us/step - loss: 0.7355 - mean_squared_error: 0.7355 - val_loss: 0.7549 - val_mean_squared_error: 0.7549\n",
      "Epoch 3/100\n",
      "363/363 [==============================] - 0s 462us/step - loss: 0.6676 - mean_squared_error: 0.6676 - val_loss: 0.7139 - val_mean_squared_error: 0.7139\n",
      "Epoch 4/100\n",
      "363/363 [==============================] - 0s 442us/step - loss: 0.6391 - mean_squared_error: 0.6391 - val_loss: 0.6838 - val_mean_squared_error: 0.6838\n",
      "Epoch 5/100\n",
      "363/363 [==============================] - 0s 459us/step - loss: 0.6165 - mean_squared_error: 0.6165 - val_loss: 0.6586 - val_mean_squared_error: 0.6586\n",
      "Epoch 6/100\n",
      "363/363 [==============================] - 0s 456us/step - loss: 0.5960 - mean_squared_error: 0.5960 - val_loss: 0.6403 - val_mean_squared_error: 0.6403\n",
      "Epoch 7/100\n",
      "363/363 [==============================] - 0s 456us/step - loss: 0.5795 - mean_squared_error: 0.5795 - val_loss: 0.6187 - val_mean_squared_error: 0.6187\n",
      "Epoch 8/100\n",
      "363/363 [==============================] - 0s 446us/step - loss: 0.5643 - mean_squared_error: 0.5643 - val_loss: 0.6047 - val_mean_squared_error: 0.6047\n",
      "Epoch 9/100\n",
      "363/363 [==============================] - 0s 444us/step - loss: 0.5502 - mean_squared_error: 0.5502 - val_loss: 0.5942 - val_mean_squared_error: 0.5942\n",
      "Epoch 10/100\n",
      "363/363 [==============================] - 0s 451us/step - loss: 0.5407 - mean_squared_error: 0.5407 - val_loss: 0.5814 - val_mean_squared_error: 0.5814\n",
      "Epoch 11/100\n",
      "363/363 [==============================] - 0s 480us/step - loss: 0.5293 - mean_squared_error: 0.5293 - val_loss: 0.5694 - val_mean_squared_error: 0.5694\n",
      "Epoch 12/100\n",
      "363/363 [==============================] - 0s 465us/step - loss: 0.5201 - mean_squared_error: 0.5201 - val_loss: 0.5573 - val_mean_squared_error: 0.5573\n",
      "Epoch 13/100\n",
      "363/363 [==============================] - 0s 446us/step - loss: 0.5128 - mean_squared_error: 0.5128 - val_loss: 0.5484 - val_mean_squared_error: 0.5484\n",
      "Epoch 14/100\n",
      "363/363 [==============================] - 0s 440us/step - loss: 0.5051 - mean_squared_error: 0.5051 - val_loss: 0.5413 - val_mean_squared_error: 0.5413\n",
      "Epoch 15/100\n",
      "363/363 [==============================] - 0s 448us/step - loss: 0.4987 - mean_squared_error: 0.4987 - val_loss: 0.5356 - val_mean_squared_error: 0.5356\n",
      "Epoch 16/100\n",
      "363/363 [==============================] - 0s 445us/step - loss: 0.4926 - mean_squared_error: 0.4926 - val_loss: 0.5268 - val_mean_squared_error: 0.5268\n",
      "Epoch 17/100\n",
      "363/363 [==============================] - 0s 445us/step - loss: 0.4873 - mean_squared_error: 0.4873 - val_loss: 0.5217 - val_mean_squared_error: 0.5217\n",
      "Epoch 18/100\n",
      "363/363 [==============================] - 0s 442us/step - loss: 0.4824 - mean_squared_error: 0.4824 - val_loss: 0.5148 - val_mean_squared_error: 0.5148\n",
      "Epoch 19/100\n",
      "363/363 [==============================] - 0s 444us/step - loss: 0.4793 - mean_squared_error: 0.4793 - val_loss: 0.5100 - val_mean_squared_error: 0.5100\n",
      "Epoch 20/100\n",
      "363/363 [==============================] - 0s 445us/step - loss: 0.4744 - mean_squared_error: 0.4744 - val_loss: 0.5075 - val_mean_squared_error: 0.5075\n",
      "Epoch 21/100\n",
      "363/363 [==============================] - 0s 440us/step - loss: 0.4715 - mean_squared_error: 0.4715 - val_loss: 0.5029 - val_mean_squared_error: 0.5029\n",
      "Epoch 22/100\n",
      "363/363 [==============================] - 0s 445us/step - loss: 0.4672 - mean_squared_error: 0.4672 - val_loss: 0.4994 - val_mean_squared_error: 0.4994\n",
      "Epoch 23/100\n",
      "363/363 [==============================] - 0s 449us/step - loss: 0.4644 - mean_squared_error: 0.4644 - val_loss: 0.4945 - val_mean_squared_error: 0.4945\n",
      "Epoch 24/100\n",
      "363/363 [==============================] - 0s 442us/step - loss: 0.4610 - mean_squared_error: 0.4610 - val_loss: 0.4919 - val_mean_squared_error: 0.4919\n",
      "Epoch 25/100\n",
      "363/363 [==============================] - 0s 442us/step - loss: 0.4581 - mean_squared_error: 0.4581 - val_loss: 0.4861 - val_mean_squared_error: 0.4861\n",
      "Epoch 26/100\n",
      "363/363 [==============================] - 0s 434us/step - loss: 0.4563 - mean_squared_error: 0.4563 - val_loss: 0.4855 - val_mean_squared_error: 0.4855\n",
      "Epoch 27/100\n",
      "363/363 [==============================] - 0s 453us/step - loss: 0.4535 - mean_squared_error: 0.4535 - val_loss: 0.4811 - val_mean_squared_error: 0.4811\n",
      "Epoch 28/100\n",
      "363/363 [==============================] - 0s 448us/step - loss: 0.4514 - mean_squared_error: 0.4514 - val_loss: 0.4797 - val_mean_squared_error: 0.4797\n",
      "Epoch 29/100\n",
      "363/363 [==============================] - 0s 448us/step - loss: 0.4494 - mean_squared_error: 0.4494 - val_loss: 0.4762 - val_mean_squared_error: 0.4762\n",
      "Epoch 30/100\n",
      "363/363 [==============================] - 0s 442us/step - loss: 0.4471 - mean_squared_error: 0.4471 - val_loss: 0.4733 - val_mean_squared_error: 0.4733\n",
      "Epoch 31/100\n",
      "363/363 [==============================] - 0s 452us/step - loss: 0.4452 - mean_squared_error: 0.4452 - val_loss: 0.4718 - val_mean_squared_error: 0.4718\n",
      "Epoch 32/100\n",
      "363/363 [==============================] - 0s 461us/step - loss: 0.4429 - mean_squared_error: 0.4429 - val_loss: 0.4707 - val_mean_squared_error: 0.4707\n",
      "Epoch 33/100\n",
      "363/363 [==============================] - 0s 456us/step - loss: 0.4415 - mean_squared_error: 0.4415 - val_loss: 0.4681 - val_mean_squared_error: 0.4681\n",
      "Epoch 34/100\n",
      "363/363 [==============================] - 0s 451us/step - loss: 0.4393 - mean_squared_error: 0.4393 - val_loss: 0.4646 - val_mean_squared_error: 0.4646\n",
      "Epoch 35/100\n",
      "363/363 [==============================] - 0s 442us/step - loss: 0.4384 - mean_squared_error: 0.4384 - val_loss: 0.4661 - val_mean_squared_error: 0.4661\n",
      "Epoch 36/100\n",
      "363/363 [==============================] - 0s 448us/step - loss: 0.4360 - mean_squared_error: 0.4360 - val_loss: 0.4610 - val_mean_squared_error: 0.4610\n",
      "Epoch 37/100\n",
      "363/363 [==============================] - 0s 445us/step - loss: 0.4341 - mean_squared_error: 0.4341 - val_loss: 0.4579 - val_mean_squared_error: 0.4579\n",
      "Epoch 38/100\n",
      "363/363 [==============================] - 0s 442us/step - loss: 0.4330 - mean_squared_error: 0.4330 - val_loss: 0.4572 - val_mean_squared_error: 0.4572\n",
      "Epoch 39/100\n",
      "363/363 [==============================] - 0s 448us/step - loss: 0.4311 - mean_squared_error: 0.4311 - val_loss: 0.4548 - val_mean_squared_error: 0.4548\n",
      "Epoch 40/100\n",
      "363/363 [==============================] - 0s 451us/step - loss: 0.4294 - mean_squared_error: 0.4294 - val_loss: 0.4537 - val_mean_squared_error: 0.4537\n",
      "Epoch 41/100\n",
      "363/363 [==============================] - 0s 460us/step - loss: 0.4280 - mean_squared_error: 0.4280 - val_loss: 0.4508 - val_mean_squared_error: 0.4508\n",
      "Epoch 42/100\n",
      "363/363 [==============================] - 0s 453us/step - loss: 0.4270 - mean_squared_error: 0.4270 - val_loss: 0.4497 - val_mean_squared_error: 0.4497\n"
     ]
    }
   ],
   "source": [
    "history = model.fit(x_train_scaled, y_train,\n",
    "                   validation_data=(x_valid_scaled, y_valid),\n",
    "                   epochs=100,\n",
    "                   callbacks=callbacks)"
   ]
  },
  {
   "cell_type": "code",
   "execution_count": 7,
   "metadata": {},
   "outputs": [
    {
     "data": {
      "image/png": "[encoded data removed]",
      "text/plain": [
       "<Figure size 576x360 with 1 Axes>"
      ]
     },
     "metadata": {
      "needs_background": "light"
     },
     "output_type": "display_data"
    }
   ],
   "source": [
    "def plot_learning_curves(history):\n",
    "    pd.DataFrame(history.history).plot(figsize=(8, 5))\n",
    "    plt.grid(True)\n",
    "    plt.gca().set_ylim(0, 1)\n",
    "    plt.show()\n",
    "\n",
    "plot_learning_curves(history)"
   ]
  },
  {
   "cell_type": "code",
   "execution_count": null,
   "metadata": {},
   "outputs": [],
   "source": [
    "model.evaluate(x_test_scaled, y_test)"
   ]
  },
  {
   "cell_type": "code",
   "execution_count": null,
   "metadata": {},
   "outputs": [],
   "source": []
  }
 ],
 "metadata": {
  "kernelspec": {
   "display_name": "tf2_gpu",
   "language": "python",
   "name": "tf2_gpu"
  },
  "language_info": {
   "codemirror_mode": {
    "name": "ipython",
    "version": 3
   },
   "file_extension": ".py",
   "mimetype": "text/x-python",
   "name": "python",
   "nbconvert_exporter": "python",
   "pygments_lexer": "ipython3",
   "version": "3.8.3"
  }
 },
 "nbformat": 4,
 "nbformat_minor": 4
}
