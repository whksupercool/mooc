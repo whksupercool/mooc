{
 "cells": [
  {
   "cell_type": "code",
   "execution_count": 6,
   "metadata": {},
   "outputs": [],
   "source": [
    "import matplotlib as mpl\n",
    "import matplotlib.pyplot as plt\n",
    "%matplotlib inline\n",
    "import numpy as np\n",
    "import sklearn\n",
    "import pandas as pd\n",
    "import os\n",
    "import sys\n",
    "import time\n",
    "import tensorflow as tf\n",
    "\n",
    "from tensorflow import keras"
   ]
  },
  {
   "cell_type": "code",
   "execution_count": 7,
   "metadata": {},
   "outputs": [
    {
     "name": "stdout",
     "output_type": "stream",
     "text": [
      "(5000, 28, 28) (5000,)\n",
      "(55000, 28, 28) (55000,)\n",
      "(10000, 28, 28) (10000,)\n"
     ]
    }
   ],
   "source": [
    "fashion_mnist = keras.datasets.fashion_mnist\n",
    "(x_train_all, y_train_all), (x_test, y_test) = fashion_mnist.load_data()\n",
    "x_valid, x_train = x_train_all[:5000], x_train_all[5000:]\n",
    "y_valid, y_train = y_train_all[:5000], y_train_all[5000:]\n",
    "\n",
    "print(x_valid.shape, y_valid.shape)\n",
    "print(x_train.shape, y_train.shape)\n",
    "print(x_test.shape, y_test.shape)"
   ]
  },
  {
   "cell_type": "code",
   "execution_count": 8,
   "metadata": {},
   "outputs": [],
   "source": [
    "\"\"\"\n",
    "归一化 x = (x - u) / std  u:均值，std:方差\n",
    "\"\"\"\n",
    "from sklearn.preprocessing import StandardScaler\n",
    "\n",
    "scaler = StandardScaler()\n",
    "#x_train:[None, 28, 28] -> [None, 784]\n",
    "x_train_scaler = scaler.fit_transform(x_train.astype(np.float32).reshape(-1, 1)).reshape(-1, 28, 28) \n",
    "x_valid_scaler = scaler.transform(x_valid.astype(np.float32).reshape(-1, 1)).reshape(-1, 28, 28)   \n",
    "x_test_scaler = scaler.transform(x_test.astype(np.float32).reshape(-1, 1)).reshape(-1, 28, 28)   "
   ]
  },
  {
   "cell_type": "code",
   "execution_count": 12,
   "metadata": {},
   "outputs": [],
   "source": [
    "# tf.keras.models.Sequential()\n",
    "model = keras.models.Sequential()\n",
    "model.add(keras.layers.Flatten(input_shape=[28, 28]))\n",
    "for _ in range(20):\n",
    "    model.add(keras.layers.Dense(100, activation=\"relu\"))\n",
    "model.add(keras.layers.Dense(10, activation=\"softmax\"))\n",
    "\n",
    "# relu: y = max(0, x)\n",
    "# softmax: 将向量变成概率分布. x = [x1, x2, x3], \n",
    "#          y = [e^x1/sum, e^x2/sum, e^x3/sum], sum = e^x1 + e^x2 + e^x3\n",
    "\n",
    "# reason for sparse: y->index. y->one_hot->[] \n",
    "model.compile(loss=\"sparse_categorical_crossentropy\",\n",
    "              optimizer = keras.optimizers.SGD(0.001),\n",
    "              metrics = [\"accuracy\"])"
   ]
  },
  {
   "cell_type": "code",
   "execution_count": 13,
   "metadata": {},
   "outputs": [
    {
     "name": "stdout",
     "output_type": "stream",
     "text": [
      "Model: \"sequential\"\n",
      "_________________________________________________________________\n",
      "Layer (type)                 Output Shape              Param #   \n",
      "=================================================================\n",
      "flatten (Flatten)            (None, 784)               0         \n",
      "_________________________________________________________________\n",
      "dense (Dense)                (None, 100)               78500     \n",
      "_________________________________________________________________\n",
      "dense_1 (Dense)              (None, 100)               10100     \n",
      "_________________________________________________________________\n",
      "dense_2 (Dense)              (None, 100)               10100     \n",
      "_________________________________________________________________\n",
      "dense_3 (Dense)              (None, 100)               10100     \n",
      "_________________________________________________________________\n",
      "dense_4 (Dense)              (None, 100)               10100     \n",
      "_________________________________________________________________\n",
      "dense_5 (Dense)              (None, 100)               10100     \n",
      "_________________________________________________________________\n",
      "dense_6 (Dense)              (None, 100)               10100     \n",
      "_________________________________________________________________\n",
      "dense_7 (Dense)              (None, 100)               10100     \n",
      "_________________________________________________________________\n",
      "dense_8 (Dense)              (None, 100)               10100     \n",
      "_________________________________________________________________\n",
      "dense_9 (Dense)              (None, 100)               10100     \n",
      "_________________________________________________________________\n",
      "dense_10 (Dense)             (None, 100)               10100     \n",
      "_________________________________________________________________\n",
      "dense_11 (Dense)             (None, 100)               10100     \n",
      "_________________________________________________________________\n",
      "dense_12 (Dense)             (None, 100)               10100     \n",
      "_________________________________________________________________\n",
      "dense_13 (Dense)             (None, 100)               10100     \n",
      "_________________________________________________________________\n",
      "dense_14 (Dense)             (None, 100)               10100     \n",
      "_________________________________________________________________\n",
      "dense_15 (Dense)             (None, 100)               10100     \n",
      "_________________________________________________________________\n",
      "dense_16 (Dense)             (None, 100)               10100     \n",
      "_________________________________________________________________\n",
      "dense_17 (Dense)             (None, 100)               10100     \n",
      "_________________________________________________________________\n",
      "dense_18 (Dense)             (None, 100)               10100     \n",
      "_________________________________________________________________\n",
      "dense_19 (Dense)             (None, 100)               10100     \n",
      "_________________________________________________________________\n",
      "dense_20 (Dense)             (None, 10)                1010      \n",
      "=================================================================\n",
      "Total params: 271,410\n",
      "Trainable params: 271,410\n",
      "Non-trainable params: 0\n",
      "_________________________________________________________________\n"
     ]
    }
   ],
   "source": [
    "model.summary()"
   ]
  },
  {
   "cell_type": "code",
   "execution_count": 14,
   "metadata": {},
   "outputs": [
    {
     "name": "stdout",
     "output_type": "stream",
     "text": [
      "Epoch 1/50\n",
      "   1/1719 [..............................] - ETA: 0s - loss: 2.3026 - accuracy: 0.0625WARNING:tensorflow:From D:\\software\\anaconda\\lib\\site-packages\\tensorflow\\python\\ops\\summary_ops_v2.py:1277: stop (from tensorflow.python.eager.profiler) is deprecated and will be removed after 2020-07-01.\n",
      "Instructions for updating:\n",
      "use `tf.profiler.experimental.stop` instead.\n",
      "WARNING:tensorflow:Callbacks method `on_train_batch_end` is slow compared to the batch time (batch time: 0.0020s vs `on_train_batch_end` time: 0.0234s). Check your callbacks.\n",
      "1719/1719 [==============================] - 3s 2ms/step - loss: 2.3018 - accuracy: 0.1395 - val_loss: 2.3010 - val_accuracy: 0.1812\n",
      "Epoch 2/50\n",
      "1719/1719 [==============================] - 2s 1ms/step - loss: 2.2999 - accuracy: 0.2059 - val_loss: 2.2987 - val_accuracy: 0.1812\n",
      "Epoch 3/50\n",
      "1719/1719 [==============================] - 3s 1ms/step - loss: 2.2965 - accuracy: 0.2162 - val_loss: 2.2939 - val_accuracy: 0.2242\n",
      "Epoch 4/50\n",
      "1719/1719 [==============================] - 3s 1ms/step - loss: 2.2901 - accuracy: 0.2083 - val_loss: 2.2850 - val_accuracy: 0.2872\n",
      "Epoch 5/50\n",
      "1719/1719 [==============================] - 3s 1ms/step - loss: 2.2780 - accuracy: 0.2909 - val_loss: 2.2679 - val_accuracy: 0.3040\n",
      "Epoch 6/50\n",
      "1719/1719 [==============================] - 2s 1ms/step - loss: 2.2533 - accuracy: 0.3054 - val_loss: 2.2317 - val_accuracy: 0.3162\n",
      "Epoch 7/50\n",
      "1719/1719 [==============================] - 3s 1ms/step - loss: 2.1961 - accuracy: 0.3105 - val_loss: 2.1433 - val_accuracy: 0.3142\n",
      "Epoch 8/50\n",
      "1719/1719 [==============================] - 2s 1ms/step - loss: 2.0432 - accuracy: 0.2938 - val_loss: 1.9106 - val_accuracy: 0.3084\n",
      "Epoch 9/50\n",
      "1719/1719 [==============================] - 2s 1ms/step - loss: 1.7749 - accuracy: 0.3565 - val_loss: 1.6475 - val_accuracy: 0.4102\n",
      "Epoch 10/50\n",
      "1719/1719 [==============================] - 2s 1ms/step - loss: 1.4850 - accuracy: 0.4578 - val_loss: 1.2716 - val_accuracy: 0.5606\n",
      "Epoch 11/50\n",
      "1719/1719 [==============================] - 2s 1ms/step - loss: 1.0775 - accuracy: 0.6132 - val_loss: 0.9072 - val_accuracy: 0.6708\n",
      "Epoch 12/50\n",
      "1719/1719 [==============================] - 2s 1ms/step - loss: 0.8288 - accuracy: 0.6895 - val_loss: 0.7260 - val_accuracy: 0.7352\n",
      "Epoch 13/50\n",
      "1719/1719 [==============================] - 2s 1ms/step - loss: 0.6923 - accuracy: 0.7425 - val_loss: 0.6530 - val_accuracy: 0.7646\n",
      "Epoch 14/50\n",
      "1719/1719 [==============================] - 3s 1ms/step - loss: 0.6176 - accuracy: 0.7742 - val_loss: 0.5788 - val_accuracy: 0.7942\n",
      "Epoch 15/50\n",
      "1719/1719 [==============================] - 2s 1ms/step - loss: 0.5716 - accuracy: 0.7926 - val_loss: 0.5585 - val_accuracy: 0.8020\n",
      "Epoch 16/50\n",
      "1719/1719 [==============================] - 2s 1ms/step - loss: 0.5354 - accuracy: 0.8076 - val_loss: 0.5222 - val_accuracy: 0.8166\n",
      "Epoch 17/50\n",
      "1719/1719 [==============================] - 2s 1ms/step - loss: 0.5065 - accuracy: 0.8185 - val_loss: 0.5227 - val_accuracy: 0.8212\n",
      "Epoch 18/50\n",
      "1719/1719 [==============================] - 2s 1ms/step - loss: 0.4822 - accuracy: 0.8299 - val_loss: 0.5448 - val_accuracy: 0.8118\n",
      "Epoch 19/50\n",
      "1719/1719 [==============================] - 2s 1ms/step - loss: 0.4632 - accuracy: 0.8371 - val_loss: 0.4616 - val_accuracy: 0.8420\n",
      "Epoch 20/50\n",
      "1719/1719 [==============================] - 3s 1ms/step - loss: 0.4445 - accuracy: 0.8430 - val_loss: 0.4542 - val_accuracy: 0.8456\n",
      "Epoch 21/50\n",
      "1719/1719 [==============================] - 2s 1ms/step - loss: 0.4287 - accuracy: 0.8502 - val_loss: 0.4385 - val_accuracy: 0.8466\n",
      "Epoch 22/50\n",
      "1719/1719 [==============================] - 2s 1ms/step - loss: 0.4161 - accuracy: 0.8535 - val_loss: 0.4397 - val_accuracy: 0.8490\n",
      "Epoch 23/50\n",
      "1719/1719 [==============================] - 2s 1ms/step - loss: 0.4036 - accuracy: 0.8567 - val_loss: 0.4265 - val_accuracy: 0.8530\n",
      "Epoch 24/50\n",
      "1719/1719 [==============================] - 2s 1ms/step - loss: 0.3920 - accuracy: 0.8615 - val_loss: 0.4614 - val_accuracy: 0.8422\n",
      "Epoch 25/50\n",
      "1719/1719 [==============================] - 2s 1ms/step - loss: 0.3822 - accuracy: 0.8648 - val_loss: 0.4130 - val_accuracy: 0.8578\n",
      "Epoch 26/50\n",
      "1719/1719 [==============================] - 2s 1ms/step - loss: 0.3718 - accuracy: 0.8689 - val_loss: 0.4219 - val_accuracy: 0.8516\n",
      "Epoch 27/50\n",
      "1719/1719 [==============================] - 3s 1ms/step - loss: 0.3625 - accuracy: 0.8709 - val_loss: 0.4114 - val_accuracy: 0.8524\n",
      "Epoch 28/50\n",
      "1719/1719 [==============================] - 2s 1ms/step - loss: 0.3551 - accuracy: 0.8728 - val_loss: 0.3978 - val_accuracy: 0.8648\n",
      "Epoch 29/50\n",
      "1719/1719 [==============================] - 3s 1ms/step - loss: 0.3485 - accuracy: 0.8763 - val_loss: 0.3947 - val_accuracy: 0.8612\n",
      "Epoch 30/50\n",
      "1719/1719 [==============================] - 2s 1ms/step - loss: 0.3410 - accuracy: 0.8794 - val_loss: 0.4044 - val_accuracy: 0.8580\n",
      "Epoch 31/50\n",
      "1719/1719 [==============================] - 3s 1ms/step - loss: 0.3335 - accuracy: 0.8816 - val_loss: 0.3907 - val_accuracy: 0.8630\n",
      "Epoch 32/50\n",
      "1719/1719 [==============================] - 2s 1ms/step - loss: 0.3276 - accuracy: 0.8846 - val_loss: 0.4007 - val_accuracy: 0.8612\n",
      "Epoch 33/50\n",
      "1719/1719 [==============================] - 3s 1ms/step - loss: 0.3211 - accuracy: 0.8876 - val_loss: 0.3986 - val_accuracy: 0.8584\n",
      "Epoch 34/50\n",
      "1719/1719 [==============================] - 2s 1ms/step - loss: 0.3153 - accuracy: 0.8892 - val_loss: 0.3796 - val_accuracy: 0.8662\n",
      "Epoch 35/50\n",
      "1719/1719 [==============================] - 2s 1ms/step - loss: 0.3106 - accuracy: 0.8901 - val_loss: 0.4088 - val_accuracy: 0.8590\n",
      "Epoch 36/50\n",
      "1719/1719 [==============================] - 2s 1ms/step - loss: 0.3049 - accuracy: 0.8913 - val_loss: 0.3925 - val_accuracy: 0.8680\n",
      "Epoch 37/50\n",
      "1719/1719 [==============================] - 2s 1ms/step - loss: 0.3007 - accuracy: 0.8953 - val_loss: 0.4197 - val_accuracy: 0.8566\n",
      "Epoch 38/50\n",
      "1719/1719 [==============================] - 2s 1ms/step - loss: 0.2950 - accuracy: 0.8948 - val_loss: 0.3850 - val_accuracy: 0.8672\n",
      "Epoch 39/50\n",
      "1719/1719 [==============================] - 3s 1ms/step - loss: 0.2886 - accuracy: 0.8992 - val_loss: 0.3782 - val_accuracy: 0.8694\n",
      "Epoch 40/50\n",
      "1719/1719 [==============================] - 2s 1ms/step - loss: 0.2850 - accuracy: 0.8998 - val_loss: 0.3797 - val_accuracy: 0.8698\n",
      "Epoch 41/50\n",
      "1719/1719 [==============================] - 2s 1ms/step - loss: 0.2813 - accuracy: 0.8997 - val_loss: 0.3959 - val_accuracy: 0.8666\n",
      "Epoch 42/50\n",
      "1719/1719 [==============================] - 2s 1ms/step - loss: 0.2774 - accuracy: 0.9010 - val_loss: 0.3802 - val_accuracy: 0.8696\n",
      "Epoch 43/50\n",
      "1719/1719 [==============================] - 2s 1ms/step - loss: 0.2722 - accuracy: 0.9037 - val_loss: 0.3830 - val_accuracy: 0.8714\n",
      "Epoch 44/50\n",
      "1719/1719 [==============================] - 2s 1ms/step - loss: 0.2671 - accuracy: 0.9048 - val_loss: 0.3816 - val_accuracy: 0.8710\n"
     ]
    }
   ],
   "source": [
    "# Tensorboard, earlystopping, Modelcheckpoint\n",
    "logdir = \"./dnn_callbacks\"\n",
    "if not os.path.exists(logdir):\n",
    "    os.mkdir(logdir)\n",
    "output_model_file = os.path.join(logdir, \"fashion_mnist_model.h5\")\n",
    "callbacks = [\n",
    "    keras.callbacks.TensorBoard(logdir),\n",
    "    keras.callbacks.ModelCheckpoint(output_model_file,save_best_only=True),\n",
    "    keras.callbacks.EarlyStopping(patience=5, min_delta=1e-3)\n",
    "]\n",
    "\n",
    "history = model.fit(x_train_scaler, y_train, epochs=50,\n",
    "                    validation_data=(x_valid_scaler, y_valid),\n",
    "                    callbacks=callbacks)"
   ]
  },
  {
   "cell_type": "code",
   "execution_count": 17,
   "metadata": {},
   "outputs": [
    {
     "data": {
      "image/png": "[encoded data removed]",
      "text/plain": [
       "<Figure size 576x360 with 1 Axes>"
      ]
     },
     "metadata": {
      "needs_background": "light"
     },
     "output_type": "display_data"
    }
   ],
   "source": [
    "def plot_learning_curves(history):\n",
    "    pd.DataFrame(history.history).plot(figsize=(8, 5))\n",
    "    plt.grid(True)\n",
    "    plt.gca().set_ylim(0, 3)\n",
    "    plt.show()\n",
    "\n",
    "plot_learning_curves(history)"
   ]
  },
  {
   "cell_type": "code",
   "execution_count": 18,
   "metadata": {},
   "outputs": [
    {
     "name": "stdout",
     "output_type": "stream",
     "text": [
      "313/313 [==============================] - 0s 660us/step - loss: 0.4170 - accuracy: 0.8610\n"
     ]
    },
    {
     "data": {
      "text/plain": [
       "[0.41704896092414856, 0.8610000014305115]"
      ]
     },
     "execution_count": 18,
     "metadata": {},
     "output_type": "execute_result"
    }
   ],
   "source": [
    "model.evaluate(x_test_scaler, y_test)"
   ]
  },
  {
   "cell_type": "code",
   "execution_count": null,
   "metadata": {},
   "outputs": [],
   "source": []
  }
 ],
 "metadata": {
  "kernelspec": {
   "display_name": "tf2_gpu",
   "language": "python",
   "name": "tf2_gpu"
  },
  "language_info": {
   "codemirror_mode": {
    "name": "ipython",
    "version": 3
   },
   "file_extension": ".py",
   "mimetype": "text/x-python",
   "name": "python",
   "nbconvert_exporter": "python",
   "pygments_lexer": "ipython3",
   "version": "3.8.3"
  }
 },
 "nbformat": 4,
 "nbformat_minor": 4
}
