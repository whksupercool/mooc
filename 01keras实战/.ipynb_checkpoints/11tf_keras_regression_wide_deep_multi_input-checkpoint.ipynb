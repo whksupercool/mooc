{
 "cells": [
  {
   "cell_type": "code",
   "execution_count": 1,
   "metadata": {},
   "outputs": [],
   "source": [
    "import matplotlib as mpl\n",
    "import matplotlib.pyplot as plt\n",
    "%matplotlib inline\n",
    "import numpy as np\n",
    "import sklearn\n",
    "import pandas as pd\n",
    "import os\n",
    "import sys\n",
    "import time\n",
    "import tensorflow as tf\n",
    "\n",
    "from tensorflow import keras"
   ]
  },
  {
   "cell_type": "code",
   "execution_count": 2,
   "metadata": {},
   "outputs": [
    {
     "name": "stdout",
     "output_type": "stream",
     "text": [
      "(20640, 8)\n",
      "(20640,)\n"
     ]
    }
   ],
   "source": [
    "from sklearn.datasets import fetch_california_housing\n",
    "\n",
    "housing = fetch_california_housing()\n",
    "# print(housing.DESCR)\n",
    "print(housing.data.shape)\n",
    "print(housing.target.shape)"
   ]
  },
  {
   "cell_type": "code",
   "execution_count": 3,
   "metadata": {},
   "outputs": [
    {
     "name": "stdout",
     "output_type": "stream",
     "text": [
      "(11610, 8) (11610,)\n",
      "(3870, 8) (3870,)\n",
      "(5160, 8) (5160,)\n"
     ]
    }
   ],
   "source": [
    "from sklearn.model_selection import train_test_split\n",
    "\n",
    "x_train_all, x_test, y_train_all, y_test = train_test_split(housing.data, housing.target, random_state=7)\n",
    "x_train, x_valid, y_train, y_valid = train_test_split(x_train_all, y_train_all, random_state=11)\n",
    "\n",
    "print(x_train.shape, y_train.shape)\n",
    "print(x_valid.shape, y_valid.shape)\n",
    "print(x_test.shape, y_test.shape)"
   ]
  },
  {
   "cell_type": "code",
   "execution_count": 4,
   "metadata": {},
   "outputs": [],
   "source": [
    "from sklearn.preprocessing import StandardScaler\n",
    "\n",
    "scaler = StandardScaler()\n",
    "x_train_scaled = scaler.fit_transform(x_train)\n",
    "x_valid_scaled = scaler.transform(x_valid)\n",
    "x_test_scaled = scaler.transform(x_test)"
   ]
  },
  {
   "cell_type": "code",
   "execution_count": 6,
   "metadata": {},
   "outputs": [
    {
     "name": "stdout",
     "output_type": "stream",
     "text": [
      "Model: \"wide_deep_model_1\"\n",
      "_________________________________________________________________\n",
      "Layer (type)                 Output Shape              Param #   \n",
      "=================================================================\n",
      "dense_3 (Dense)              multiple                  270       \n",
      "_________________________________________________________________\n",
      "dense_4 (Dense)              multiple                  930       \n",
      "_________________________________________________________________\n",
      "dense_5 (Dense)              multiple                  39        \n",
      "=================================================================\n",
      "Total params: 1,239\n",
      "Trainable params: 1,239\n",
      "Non-trainable params: 0\n",
      "_________________________________________________________________\n"
     ]
    }
   ],
   "source": [
    "# 子类API\n",
    "class WideDeepModel(keras.models.Model):\n",
    "    def __init__(self):\n",
    "        super(WideDeepModel, self).__init__()\n",
    "        \"\"\"定义模型的层次\"\"\"\n",
    "        self.hidden1_layer = keras.layers.Dense(30, activation=\"relu\")\n",
    "        self.hidden2_layer = keras.layers.Dense(30, activation=\"relu\")\n",
    "        self.output_layer = keras.layers.Dense(1)\n",
    "        \n",
    "    def call(self, input):\n",
    "        \"\"\"完成模型的正向计算\"\"\"\n",
    "        hidden1 = self.hidden1_layer(input)\n",
    "        hidden2 = self.hidden2_layer(hidden1)\n",
    "        concat = keras.layers.concatenate([input, hidden2])\n",
    "        output = self.output_layer(concat)\n",
    "        return output\n",
    "model = WideDeepModel()\n",
    "model.build(input_shape=(None, 8))\n",
    "\n",
    "model.summary()\n",
    "model.compile(loss=\"mean_squared_error\", optimizer=keras.optimizers.SGD(0.001))\n",
    "callbacks = [keras.callbacks.EarlyStopping(patience=5, min_delta=1e-2)]"
   ]
  },
  {
   "cell_type": "code",
   "execution_count": 7,
   "metadata": {},
   "outputs": [
    {
     "name": "stdout",
     "output_type": "stream",
     "text": [
      "Epoch 1/100\n",
      "363/363 [==============================] - 0s 1ms/step - loss: 1.5902 - val_loss: 0.7493\n",
      "Epoch 2/100\n",
      "363/363 [==============================] - 0s 464us/step - loss: 0.6634 - val_loss: 0.6809\n",
      "Epoch 3/100\n",
      "363/363 [==============================] - 0s 463us/step - loss: 0.6127 - val_loss: 0.6488\n",
      "Epoch 4/100\n",
      "363/363 [==============================] - 0s 471us/step - loss: 0.5865 - val_loss: 0.6211\n",
      "Epoch 5/100\n",
      "363/363 [==============================] - 0s 456us/step - loss: 0.5645 - val_loss: 0.6000\n",
      "Epoch 6/100\n",
      "363/363 [==============================] - 0s 470us/step - loss: 0.5559 - val_loss: 0.5807\n",
      "Epoch 7/100\n",
      "363/363 [==============================] - 0s 459us/step - loss: 0.5361 - val_loss: 0.5689\n",
      "Epoch 8/100\n",
      "363/363 [==============================] - 0s 467us/step - loss: 0.5250 - val_loss: 0.5530\n",
      "Epoch 9/100\n",
      "363/363 [==============================] - 0s 463us/step - loss: 0.5154 - val_loss: 0.5430\n",
      "Epoch 10/100\n",
      "363/363 [==============================] - 0s 475us/step - loss: 0.5057 - val_loss: 0.5366\n",
      "Epoch 11/100\n",
      "363/363 [==============================] - 0s 453us/step - loss: 0.4991 - val_loss: 0.5252\n",
      "Epoch 12/100\n",
      "363/363 [==============================] - 0s 452us/step - loss: 0.4945 - val_loss: 0.5193\n",
      "Epoch 13/100\n",
      "363/363 [==============================] - 0s 448us/step - loss: 0.4864 - val_loss: 0.5132\n",
      "Epoch 14/100\n",
      "363/363 [==============================] - 0s 449us/step - loss: 0.4786 - val_loss: 0.5054\n",
      "Epoch 15/100\n",
      "363/363 [==============================] - 0s 453us/step - loss: 0.4744 - val_loss: 0.5012\n",
      "Epoch 16/100\n",
      "363/363 [==============================] - 0s 454us/step - loss: 0.4723 - val_loss: 0.4968\n",
      "Epoch 17/100\n",
      "363/363 [==============================] - 0s 451us/step - loss: 0.4655 - val_loss: 0.4902\n",
      "Epoch 18/100\n",
      "363/363 [==============================] - 0s 448us/step - loss: 0.4615 - val_loss: 0.4862\n",
      "Epoch 19/100\n",
      "363/363 [==============================] - 0s 456us/step - loss: 0.4582 - val_loss: 0.4855\n",
      "Epoch 20/100\n",
      "363/363 [==============================] - 0s 448us/step - loss: 0.4537 - val_loss: 0.4780\n",
      "Epoch 21/100\n",
      "363/363 [==============================] - 0s 451us/step - loss: 0.4508 - val_loss: 0.4750\n",
      "Epoch 22/100\n",
      "363/363 [==============================] - 0s 463us/step - loss: 0.4476 - val_loss: 0.4715\n",
      "Epoch 23/100\n",
      "363/363 [==============================] - 0s 448us/step - loss: 0.4436 - val_loss: 0.4714\n",
      "Epoch 24/100\n",
      "363/363 [==============================] - 0s 451us/step - loss: 0.4405 - val_loss: 0.4641\n",
      "Epoch 25/100\n",
      "363/363 [==============================] - 0s 453us/step - loss: 0.4380 - val_loss: 0.4614\n",
      "Epoch 26/100\n",
      "363/363 [==============================] - 0s 448us/step - loss: 0.4350 - val_loss: 0.4591\n",
      "Epoch 27/100\n",
      "363/363 [==============================] - 0s 449us/step - loss: 0.4328 - val_loss: 0.4554\n",
      "Epoch 28/100\n",
      "363/363 [==============================] - 0s 453us/step - loss: 0.4287 - val_loss: 0.4529\n",
      "Epoch 29/100\n",
      "363/363 [==============================] - 0s 451us/step - loss: 0.4269 - val_loss: 0.4484\n",
      "Epoch 30/100\n",
      "363/363 [==============================] - 0s 448us/step - loss: 0.4242 - val_loss: 0.4453\n",
      "Epoch 31/100\n",
      "363/363 [==============================] - 0s 451us/step - loss: 0.4240 - val_loss: 0.4445\n",
      "Epoch 32/100\n",
      "363/363 [==============================] - 0s 451us/step - loss: 0.4230 - val_loss: 0.4402\n",
      "Epoch 33/100\n",
      "363/363 [==============================] - 0s 449us/step - loss: 0.4163 - val_loss: 0.4378\n",
      "Epoch 34/100\n",
      "363/363 [==============================] - 0s 451us/step - loss: 0.4137 - val_loss: 0.4362\n",
      "Epoch 35/100\n",
      "363/363 [==============================] - 0s 448us/step - loss: 0.4110 - val_loss: 0.4334\n",
      "Epoch 36/100\n",
      "363/363 [==============================] - 0s 448us/step - loss: 0.4097 - val_loss: 0.4302\n",
      "Epoch 37/100\n",
      "363/363 [==============================] - 0s 448us/step - loss: 0.4067 - val_loss: 0.4282\n",
      "Epoch 38/100\n",
      "363/363 [==============================] - 0s 445us/step - loss: 0.4045 - val_loss: 0.4258\n",
      "Epoch 39/100\n",
      "363/363 [==============================] - 0s 442us/step - loss: 0.4024 - val_loss: 0.4232\n",
      "Epoch 40/100\n",
      "363/363 [==============================] - 0s 448us/step - loss: 0.4002 - val_loss: 0.4214\n",
      "Epoch 41/100\n",
      "363/363 [==============================] - 0s 448us/step - loss: 0.3981 - val_loss: 0.4178\n",
      "Epoch 42/100\n",
      "363/363 [==============================] - 0s 447us/step - loss: 0.3961 - val_loss: 0.4171\n",
      "Epoch 43/100\n",
      "363/363 [==============================] - 0s 451us/step - loss: 0.3950 - val_loss: 0.4149\n",
      "Epoch 44/100\n",
      "363/363 [==============================] - 0s 448us/step - loss: 0.3928 - val_loss: 0.4128\n",
      "Epoch 45/100\n",
      "363/363 [==============================] - 0s 448us/step - loss: 0.3904 - val_loss: 0.4107\n",
      "Epoch 46/100\n",
      "363/363 [==============================] - 0s 446us/step - loss: 0.3887 - val_loss: 0.4088\n"
     ]
    }
   ],
   "source": [
    "history = model.fit(x_train_scaled, y_train,\n",
    "                   validation_data=(x_valid_scaled, y_valid),\n",
    "                   epochs=100,\n",
    "                   callbacks=callbacks)"
   ]
  },
  {
   "cell_type": "code",
   "execution_count": 8,
   "metadata": {},
   "outputs": [
    {
     "data": {
      "image/png": "[encoded data removed]",
      "text/plain": [
       "<Figure size 576x360 with 1 Axes>"
      ]
     },
     "metadata": {
      "needs_background": "light"
     },
     "output_type": "display_data"
    }
   ],
   "source": [
    "def plot_learning_curves(history):\n",
    "    pd.DataFrame(history.history).plot(figsize=(8, 5))\n",
    "    plt.grid(True)\n",
    "    plt.gca().set_ylim(0, 1)\n",
    "    plt.show()\n",
    "\n",
    "plot_learning_curves(history)"
   ]
  },
  {
   "cell_type": "code",
   "execution_count": 9,
   "metadata": {},
   "outputs": [
    {
     "name": "stdout",
     "output_type": "stream",
     "text": [
      "162/162 [==============================] - 0s 295us/step - loss: 0.4085\n"
     ]
    },
    {
     "data": {
      "text/plain": [
       "0.4085314869880676"
      ]
     },
     "execution_count": 9,
     "metadata": {},
     "output_type": "execute_result"
    }
   ],
   "source": [
    "model.evaluate(x_test_scaled, y_test)"
   ]
  },
  {
   "cell_type": "code",
   "execution_count": null,
   "metadata": {},
   "outputs": [],
   "source": []
  }
 ],
 "metadata": {
  "kernelspec": {
   "display_name": "tf2_gpu",
   "language": "python",
   "name": "tf2_gpu"
  },
  "language_info": {
   "codemirror_mode": {
    "name": "ipython",
    "version": 3
   },
   "file_extension": ".py",
   "mimetype": "text/x-python",
   "name": "python",
   "nbconvert_exporter": "python",
   "pygments_lexer": "ipython3",
   "version": "3.8.3"
  }
 },
 "nbformat": 4,
 "nbformat_minor": 4
}
