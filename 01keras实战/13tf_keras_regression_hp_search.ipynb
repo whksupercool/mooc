{
 "cells": [
  {
   "cell_type": "code",
   "execution_count": 1,
   "metadata": {},
   "outputs": [],
   "source": [
    "import matplotlib as mpl\n",
    "import matplotlib.pyplot as plt\n",
    "%matplotlib inline\n",
    "import numpy as np\n",
    "import sklearn\n",
    "import pandas as pd\n",
    "import os\n",
    "import sys\n",
    "import time\n",
    "import tensorflow as tf\n",
    "\n",
    "from tensorflow import keras"
   ]
  },
  {
   "cell_type": "code",
   "execution_count": 2,
   "metadata": {},
   "outputs": [
    {
     "name": "stdout",
     "output_type": "stream",
     "text": [
      ".. _california_housing_dataset:\n",
      "\n",
      "California Housing dataset\n",
      "--------------------------\n",
      "\n",
      "**Data Set Characteristics:**\n",
      "\n",
      "    :Number of Instances: 20640\n",
      "\n",
      "    :Number of Attributes: 8 numeric, predictive attributes and the target\n",
      "\n",
      "    :Attribute Information:\n",
      "        - MedInc        median income in block\n",
      "        - HouseAge      median house age in block\n",
      "        - AveRooms      average number of rooms\n",
      "        - AveBedrms     average number of bedrooms\n",
      "        - Population    block population\n",
      "        - AveOccup      average house occupancy\n",
      "        - Latitude      house block latitude\n",
      "        - Longitude     house block longitude\n",
      "\n",
      "    :Missing Attribute Values: None\n",
      "\n",
      "This dataset was obtained from the StatLib repository.\n",
      "http://lib.stat.cmu.edu/datasets/\n",
      "\n",
      "The target variable is the median house value for California districts.\n",
      "\n",
      "This dataset was derived from the 1990 U.S. census, using one row per census\n",
      "block group. A block group is the smallest geographical unit for which the U.S.\n",
      "Census Bureau publishes sample data (a block group typically has a population\n",
      "of 600 to 3,000 people).\n",
      "\n",
      "It can be downloaded/loaded using the\n",
      ":func:`sklearn.datasets.fetch_california_housing` function.\n",
      "\n",
      ".. topic:: References\n",
      "\n",
      "    - Pace, R. Kelley and Ronald Barry, Sparse Spatial Autoregressions,\n",
      "      Statistics and Probability Letters, 33 (1997) 291-297\n",
      "\n",
      "(20640, 8)\n",
      "(20640,)\n"
     ]
    }
   ],
   "source": [
    "from sklearn.datasets import fetch_california_housing\n",
    "\n",
    "housing = fetch_california_housing()\n",
    "print(housing.DESCR)\n",
    "print(housing.data.shape)\n",
    "print(housing.target.shape)"
   ]
  },
  {
   "cell_type": "code",
   "execution_count": 3,
   "metadata": {},
   "outputs": [
    {
     "name": "stdout",
     "output_type": "stream",
     "text": [
      "(11610, 8) (11610,)\n",
      "(3870, 8) (3870,)\n",
      "(5160, 8) (5160,)\n"
     ]
    }
   ],
   "source": [
    "from sklearn.model_selection import train_test_split\n",
    "\n",
    "x_train_all, x_test, y_train_all, y_test = train_test_split(housing.data, housing.target, random_state=7)\n",
    "x_train, x_valid, y_train, y_valid = train_test_split(x_train_all, y_train_all, random_state=11)\n",
    "\n",
    "print(x_train.shape, y_train.shape)\n",
    "print(x_valid.shape, y_valid.shape)\n",
    "print(x_test.shape, y_test.shape)"
   ]
  },
  {
   "cell_type": "code",
   "execution_count": 4,
   "metadata": {},
   "outputs": [],
   "source": [
    "from sklearn.preprocessing import StandardScaler\n",
    "\n",
    "scaler = StandardScaler()\n",
    "x_train_scaled = scaler.fit_transform(x_train)\n",
    "x_valid_scaled = scaler.transform(x_valid)\n",
    "x_test_scaled = scaler.transform(x_test)"
   ]
  },
  {
   "cell_type": "code",
   "execution_count": 5,
   "metadata": {},
   "outputs": [
    {
     "name": "stdout",
     "output_type": "stream",
     "text": [
      "Epoch 1/100\n",
      "363/363 [==============================] - 0s 670us/step - loss: 5.1865 - val_loss: 4.5304\n",
      "Epoch 2/100\n",
      "363/363 [==============================] - 0s 429us/step - loss: 3.6621 - val_loss: 3.2759\n",
      "Epoch 3/100\n",
      "363/363 [==============================] - 0s 431us/step - loss: 2.6704 - val_loss: 2.4479\n",
      "Epoch 4/100\n",
      "363/363 [==============================] - 0s 424us/step - loss: 2.0140 - val_loss: 1.8938\n",
      "Epoch 5/100\n",
      "363/363 [==============================] - 0s 426us/step - loss: 1.5754 - val_loss: 1.5203\n",
      "Epoch 6/100\n",
      "363/363 [==============================] - 0s 423us/step - loss: 1.2817 - val_loss: 1.2681\n",
      "Epoch 7/100\n",
      "363/363 [==============================] - 0s 420us/step - loss: 1.0844 - val_loss: 1.0980\n",
      "Epoch 8/100\n",
      "363/363 [==============================] - 0s 423us/step - loss: 0.9517 - val_loss: 0.9827\n",
      "Epoch 9/100\n",
      "363/363 [==============================] - 0s 420us/step - loss: 0.8617 - val_loss: 0.9032\n",
      "Epoch 10/100\n",
      "363/363 [==============================] - 0s 428us/step - loss: 0.7998 - val_loss: 0.8471\n",
      "Epoch 11/100\n",
      "363/363 [==============================] - 0s 422us/step - loss: 0.7559 - val_loss: 0.8067\n",
      "Epoch 12/100\n",
      "363/363 [==============================] - 0s 440us/step - loss: 0.7242 - val_loss: 0.7768\n",
      "Epoch 13/100\n",
      "363/363 [==============================] - 0s 437us/step - loss: 0.7007 - val_loss: 0.7541\n",
      "Epoch 14/100\n",
      "363/363 [==============================] - 0s 426us/step - loss: 0.6829 - val_loss: 0.7366\n",
      "Epoch 15/100\n",
      "363/363 [==============================] - 0s 427us/step - loss: 0.6689 - val_loss: 0.7225\n",
      "Epoch 16/100\n",
      "363/363 [==============================] - 0s 426us/step - loss: 0.6577 - val_loss: 0.7110\n",
      "Epoch 17/100\n",
      "363/363 [==============================] - 0s 431us/step - loss: 0.6485 - val_loss: 0.7015\n",
      "Epoch 18/100\n",
      "363/363 [==============================] - 0s 426us/step - loss: 0.6409 - val_loss: 0.6934\n",
      "Epoch 19/100\n",
      "363/363 [==============================] - 0s 428us/step - loss: 0.6343 - val_loss: 0.6864\n",
      "Epoch 20/100\n",
      "363/363 [==============================] - 0s 434us/step - loss: 0.6285 - val_loss: 0.6802\n",
      "Epoch 21/100\n",
      "363/363 [==============================] - 0s 439us/step - loss: 0.6233 - val_loss: 0.6746\n",
      "Epoch 22/100\n",
      "363/363 [==============================] - 0s 458us/step - loss: 0.6187 - val_loss: 0.6696\n",
      "Epoch 23/100\n",
      "363/363 [==============================] - 0s 440us/step - loss: 0.6145 - val_loss: 0.6649\n",
      "Epoch 24/100\n",
      "363/363 [==============================] - 0s 434us/step - loss: 0.6105 - val_loss: 0.6606\n",
      "Epoch 25/100\n",
      "363/363 [==============================] - 0s 422us/step - loss: 0.6069 - val_loss: 0.6566\n",
      "Epoch 26/100\n",
      "363/363 [==============================] - 0s 434us/step - loss: 0.6034 - val_loss: 0.6528\n",
      "Epoch 27/100\n",
      "363/363 [==============================] - 0s 434us/step - loss: 0.6002 - val_loss: 0.6492\n",
      "Epoch 28/100\n",
      "363/363 [==============================] - 0s 418us/step - loss: 0.5970 - val_loss: 0.6458\n",
      "Epoch 29/100\n",
      "363/363 [==============================] - 0s 423us/step - loss: 0.5941 - val_loss: 0.6425\n",
      "Epoch 30/100\n",
      "363/363 [==============================] - 0s 429us/step - loss: 0.5912 - val_loss: 0.6394\n",
      "Epoch 31/100\n",
      "363/363 [==============================] - 0s 418us/step - loss: 0.5885 - val_loss: 0.6364\n",
      "Epoch 32/100\n",
      "363/363 [==============================] - 0s 419us/step - loss: 0.5858 - val_loss: 0.6334\n",
      "Epoch 33/100\n",
      "363/363 [==============================] - 0s 420us/step - loss: 0.5832 - val_loss: 0.6305\n",
      "Epoch 34/100\n",
      "363/363 [==============================] - 0s 428us/step - loss: 0.5807 - val_loss: 0.6278\n",
      "Epoch 35/100\n",
      "363/363 [==============================] - 0s 422us/step - loss: 0.5783 - val_loss: 0.6251\n",
      "Epoch 36/100\n",
      "363/363 [==============================] - 0s 426us/step - loss: 0.5760 - val_loss: 0.6225\n",
      "Epoch 37/100\n",
      "363/363 [==============================] - 0s 426us/step - loss: 0.5737 - val_loss: 0.6199\n",
      "Epoch 38/100\n",
      "363/363 [==============================] - 0s 420us/step - loss: 0.5714 - val_loss: 0.6174\n",
      "Epoch 39/100\n",
      "363/363 [==============================] - 0s 420us/step - loss: 0.5692 - val_loss: 0.6150\n",
      "Epoch 40/100\n",
      "363/363 [==============================] - 0s 420us/step - loss: 0.5671 - val_loss: 0.6127\n",
      "Epoch 41/100\n",
      "363/363 [==============================] - 0s 423us/step - loss: 0.5650 - val_loss: 0.6104\n",
      "Epoch 42/100\n",
      "363/363 [==============================] - 0s 423us/step - loss: 0.5630 - val_loss: 0.6082\n",
      "Epoch 43/100\n",
      "363/363 [==============================] - 0s 422us/step - loss: 0.5610 - val_loss: 0.6060\n",
      "Epoch 44/100\n",
      "363/363 [==============================] - 0s 421us/step - loss: 0.5591 - val_loss: 0.6038\n",
      "Epoch 45/100\n",
      "363/363 [==============================] - 0s 418us/step - loss: 0.5572 - val_loss: 0.6017\n",
      "Epoch 46/100\n",
      "363/363 [==============================] - 0s 429us/step - loss: 0.5553 - val_loss: 0.5997\n",
      "Epoch 47/100\n",
      "363/363 [==============================] - 0s 423us/step - loss: 0.5535 - val_loss: 0.5977\n",
      "Epoch 48/100\n",
      "363/363 [==============================] - 0s 431us/step - loss: 0.5517 - val_loss: 0.5957\n",
      "Epoch 49/100\n",
      "363/363 [==============================] - 0s 426us/step - loss: 0.5500 - val_loss: 0.5938\n",
      "Epoch 50/100\n",
      "363/363 [==============================] - 0s 422us/step - loss: 0.5483 - val_loss: 0.5919\n",
      "Epoch 51/100\n",
      "363/363 [==============================] - 0s 422us/step - loss: 0.5466 - val_loss: 0.5901\n",
      "Epoch 1/100\n",
      "363/363 [==============================] - 0s 795us/step - loss: 3.2081 - val_loss: 2.5090\n",
      "Epoch 2/100\n",
      "363/363 [==============================] - 0s 420us/step - loss: 1.9492 - val_loss: 1.6910\n",
      "Epoch 3/100\n",
      "363/363 [==============================] - 0s 425us/step - loss: 1.3998 - val_loss: 1.2790\n",
      "Epoch 4/100\n",
      "363/363 [==============================] - 0s 429us/step - loss: 1.1002 - val_loss: 1.0470\n",
      "Epoch 5/100\n",
      "363/363 [==============================] - 0s 437us/step - loss: 0.9235 - val_loss: 0.9116\n",
      "Epoch 6/100\n",
      "363/363 [==============================] - 0s 418us/step - loss: 0.8174 - val_loss: 0.8314\n",
      "Epoch 7/100\n",
      "363/363 [==============================] - 0s 418us/step - loss: 0.7538 - val_loss: 0.7841\n",
      "Epoch 8/100\n",
      "363/363 [==============================] - 0s 420us/step - loss: 0.7146 - val_loss: 0.7548\n",
      "Epoch 9/100\n",
      "363/363 [==============================] - 0s 420us/step - loss: 0.6896 - val_loss: 0.7357\n",
      "Epoch 10/100\n",
      "363/363 [==============================] - 0s 419us/step - loss: 0.6724 - val_loss: 0.7219\n",
      "Epoch 11/100\n",
      "363/363 [==============================] - 0s 415us/step - loss: 0.6596 - val_loss: 0.7112\n",
      "Epoch 12/100\n",
      "363/363 [==============================] - 0s 425us/step - loss: 0.6495 - val_loss: 0.7021\n",
      "Epoch 13/100\n",
      "363/363 [==============================] - 0s 422us/step - loss: 0.6409 - val_loss: 0.6942\n",
      "Epoch 14/100\n",
      "363/363 [==============================] - 0s 423us/step - loss: 0.6335 - val_loss: 0.6869\n",
      "Epoch 15/100\n",
      "363/363 [==============================] - 0s 415us/step - loss: 0.6268 - val_loss: 0.6798\n",
      "Epoch 16/100\n",
      "363/363 [==============================] - 0s 415us/step - loss: 0.6205 - val_loss: 0.6733\n",
      "Epoch 17/100\n",
      "363/363 [==============================] - 0s 409us/step - loss: 0.6147 - val_loss: 0.6672\n",
      "Epoch 18/100\n",
      "363/363 [==============================] - 0s 412us/step - loss: 0.6092 - val_loss: 0.6615\n",
      "Epoch 19/100\n",
      "363/363 [==============================] - 0s 409us/step - loss: 0.6040 - val_loss: 0.6560\n",
      "Epoch 20/100\n",
      "363/363 [==============================] - 0s 419us/step - loss: 0.5990 - val_loss: 0.6507\n",
      "Epoch 21/100\n",
      "363/363 [==============================] - 0s 415us/step - loss: 0.5942 - val_loss: 0.6453\n",
      "Epoch 22/100\n",
      "363/363 [==============================] - 0s 428us/step - loss: 0.5895 - val_loss: 0.6403\n",
      "Epoch 23/100\n",
      "363/363 [==============================] - 0s 411us/step - loss: 0.5849 - val_loss: 0.6354\n",
      "Epoch 24/100\n",
      "363/363 [==============================] - 0s 415us/step - loss: 0.5805 - val_loss: 0.6307\n",
      "Epoch 25/100\n",
      "363/363 [==============================] - 0s 412us/step - loss: 0.5762 - val_loss: 0.6261\n",
      "Epoch 26/100\n",
      "363/363 [==============================] - 0s 420us/step - loss: 0.5721 - val_loss: 0.6215\n",
      "Epoch 27/100\n",
      "363/363 [==============================] - 0s 429us/step - loss: 0.5682 - val_loss: 0.6170\n",
      "Epoch 28/100\n",
      "363/363 [==============================] - 0s 420us/step - loss: 0.5643 - val_loss: 0.6128\n"
     ]
    },
    {
     "name": "stdout",
     "output_type": "stream",
     "text": [
      "Epoch 29/100\n",
      "363/363 [==============================] - 0s 419us/step - loss: 0.5606 - val_loss: 0.6088\n",
      "Epoch 30/100\n",
      "363/363 [==============================] - 0s 424us/step - loss: 0.5571 - val_loss: 0.6047\n",
      "Epoch 31/100\n",
      "363/363 [==============================] - 0s 425us/step - loss: 0.5536 - val_loss: 0.6008\n",
      "Epoch 32/100\n",
      "363/363 [==============================] - 0s 409us/step - loss: 0.5502 - val_loss: 0.5971\n",
      "Epoch 33/100\n",
      "363/363 [==============================] - 0s 415us/step - loss: 0.5470 - val_loss: 0.5934\n",
      "Epoch 34/100\n",
      "363/363 [==============================] - 0s 422us/step - loss: 0.5438 - val_loss: 0.5897\n",
      "Epoch 35/100\n",
      "363/363 [==============================] - 0s 426us/step - loss: 0.5408 - val_loss: 0.5862\n",
      "Epoch 36/100\n",
      "363/363 [==============================] - 0s 420us/step - loss: 0.5378 - val_loss: 0.5826\n",
      "Epoch 37/100\n",
      "363/363 [==============================] - 0s 420us/step - loss: 0.5349 - val_loss: 0.5792\n",
      "Epoch 38/100\n",
      "363/363 [==============================] - 0s 415us/step - loss: 0.5320 - val_loss: 0.5759\n",
      "Epoch 39/100\n",
      "363/363 [==============================] - 0s 412us/step - loss: 0.5293 - val_loss: 0.5727\n",
      "Epoch 40/100\n",
      "363/363 [==============================] - 0s 426us/step - loss: 0.5266 - val_loss: 0.5694\n",
      "Epoch 41/100\n",
      "363/363 [==============================] - 0s 415us/step - loss: 0.5241 - val_loss: 0.5663\n",
      "Epoch 42/100\n",
      "363/363 [==============================] - 0s 414us/step - loss: 0.5215 - val_loss: 0.5633\n",
      "Epoch 43/100\n",
      "363/363 [==============================] - 0s 412us/step - loss: 0.5190 - val_loss: 0.5604\n",
      "Epoch 44/100\n",
      "363/363 [==============================] - 0s 415us/step - loss: 0.5166 - val_loss: 0.5574\n",
      "Epoch 45/100\n",
      "363/363 [==============================] - 0s 409us/step - loss: 0.5142 - val_loss: 0.5546\n",
      "Epoch 46/100\n",
      "363/363 [==============================] - 0s 423us/step - loss: 0.5119 - val_loss: 0.5519\n",
      "Epoch 47/100\n",
      "363/363 [==============================] - 0s 420us/step - loss: 0.5096 - val_loss: 0.5492\n",
      "Epoch 48/100\n",
      "363/363 [==============================] - 0s 426us/step - loss: 0.5074 - val_loss: 0.5467\n",
      "Epoch 49/100\n",
      "363/363 [==============================] - 0s 415us/step - loss: 0.5053 - val_loss: 0.5442\n",
      "Epoch 50/100\n",
      "363/363 [==============================] - 0s 432us/step - loss: 0.5033 - val_loss: 0.5418\n",
      "Epoch 51/100\n",
      "363/363 [==============================] - 0s 412us/step - loss: 0.5013 - val_loss: 0.5395\n",
      "Epoch 52/100\n",
      "363/363 [==============================] - 0s 423us/step - loss: 0.4995 - val_loss: 0.5372\n",
      "Epoch 53/100\n",
      "363/363 [==============================] - 0s 417us/step - loss: 0.4976 - val_loss: 0.5349\n",
      "Epoch 54/100\n",
      "363/363 [==============================] - 0s 412us/step - loss: 0.4958 - val_loss: 0.5327\n",
      "Epoch 55/100\n",
      "363/363 [==============================] - 0s 419us/step - loss: 0.4941 - val_loss: 0.5307\n",
      "Epoch 56/100\n",
      "363/363 [==============================] - 0s 419us/step - loss: 0.4923 - val_loss: 0.5288\n",
      "Epoch 57/100\n",
      "363/363 [==============================] - 0s 415us/step - loss: 0.4907 - val_loss: 0.5268\n",
      "Epoch 58/100\n",
      "363/363 [==============================] - 0s 420us/step - loss: 0.4892 - val_loss: 0.5250\n",
      "Epoch 1/100\n",
      "  1/363 [..............................] - ETA: 0s - loss: 3.2995WARNING:tensorflow:Callbacks method `on_train_batch_begin` is slow compared to the batch time (batch time: 0.0000s vs `on_train_batch_begin` time: 0.0010s). Check your callbacks.\n",
      "363/363 [==============================] - 0s 602us/step - loss: 1.4497 - val_loss: 0.9055\n",
      "Epoch 2/100\n",
      "363/363 [==============================] - 0s 418us/step - loss: 0.7632 - val_loss: 0.7937\n",
      "Epoch 3/100\n",
      "363/363 [==============================] - 0s 419us/step - loss: 0.7027 - val_loss: 0.7502\n",
      "Epoch 4/100\n",
      "363/363 [==============================] - 0s 414us/step - loss: 0.6681 - val_loss: 0.7139\n",
      "Epoch 5/100\n",
      "363/363 [==============================] - 0s 417us/step - loss: 0.6394 - val_loss: 0.6827\n",
      "Epoch 6/100\n",
      "363/363 [==============================] - 0s 414us/step - loss: 0.6142 - val_loss: 0.6557\n",
      "Epoch 7/100\n",
      "363/363 [==============================] - 0s 412us/step - loss: 0.5920 - val_loss: 0.6311\n",
      "Epoch 8/100\n",
      "363/363 [==============================] - 0s 418us/step - loss: 0.5723 - val_loss: 0.6101\n",
      "Epoch 9/100\n",
      "363/363 [==============================] - 0s 418us/step - loss: 0.5537 - val_loss: 0.5915\n",
      "Epoch 10/100\n",
      "363/363 [==============================] - 0s 412us/step - loss: 0.5381 - val_loss: 0.5735\n",
      "Epoch 11/100\n",
      "363/363 [==============================] - 0s 415us/step - loss: 0.5238 - val_loss: 0.5580\n",
      "Epoch 12/100\n",
      "363/363 [==============================] - 0s 429us/step - loss: 0.5121 - val_loss: 0.5436\n",
      "Epoch 13/100\n",
      "363/363 [==============================] - 0s 431us/step - loss: 0.5016 - val_loss: 0.5327\n",
      "Epoch 14/100\n",
      "363/363 [==============================] - 0s 429us/step - loss: 0.4928 - val_loss: 0.5235\n",
      "Epoch 15/100\n",
      "363/363 [==============================] - 0s 417us/step - loss: 0.4860 - val_loss: 0.5152\n",
      "Epoch 16/100\n",
      "363/363 [==============================] - 0s 421us/step - loss: 0.4795 - val_loss: 0.5076\n",
      "Epoch 17/100\n",
      "363/363 [==============================] - 0s 420us/step - loss: 0.4737 - val_loss: 0.5038\n",
      "Epoch 18/100\n",
      "363/363 [==============================] - 0s 423us/step - loss: 0.4693 - val_loss: 0.4969\n",
      "Epoch 19/100\n",
      "363/363 [==============================] - 0s 418us/step - loss: 0.4651 - val_loss: 0.4915\n",
      "Epoch 20/100\n",
      "363/363 [==============================] - 0s 418us/step - loss: 0.4612 - val_loss: 0.4872\n",
      "Epoch 21/100\n",
      "363/363 [==============================] - 0s 420us/step - loss: 0.4577 - val_loss: 0.4832\n",
      "Epoch 22/100\n",
      "363/363 [==============================] - 0s 420us/step - loss: 0.4545 - val_loss: 0.4796\n",
      "Epoch 23/100\n",
      "363/363 [==============================] - 0s 417us/step - loss: 0.4515 - val_loss: 0.4761\n",
      "Epoch 24/100\n",
      "363/363 [==============================] - 0s 415us/step - loss: 0.4484 - val_loss: 0.4731\n",
      "Epoch 25/100\n",
      "363/363 [==============================] - 0s 417us/step - loss: 0.4464 - val_loss: 0.4704\n",
      "Epoch 26/100\n",
      "363/363 [==============================] - 0s 415us/step - loss: 0.4437 - val_loss: 0.4676\n",
      "Epoch 27/100\n",
      "363/363 [==============================] - 0s 412us/step - loss: 0.4418 - val_loss: 0.4652\n",
      "Epoch 28/100\n",
      "363/363 [==============================] - 0s 415us/step - loss: 0.4398 - val_loss: 0.4630\n",
      "Epoch 29/100\n",
      "363/363 [==============================] - 0s 418us/step - loss: 0.4379 - val_loss: 0.4603\n",
      "Epoch 30/100\n",
      "363/363 [==============================] - 0s 412us/step - loss: 0.4363 - val_loss: 0.4588\n",
      "Epoch 31/100\n",
      "363/363 [==============================] - 0s 409us/step - loss: 0.4343 - val_loss: 0.4571\n",
      "Epoch 32/100\n",
      "363/363 [==============================] - 0s 420us/step - loss: 0.4328 - val_loss: 0.4546\n",
      "Epoch 33/100\n",
      "363/363 [==============================] - 0s 424us/step - loss: 0.4312 - val_loss: 0.4529\n",
      "Epoch 34/100\n",
      "363/363 [==============================] - 0s 420us/step - loss: 0.4293 - val_loss: 0.4509\n",
      "Epoch 35/100\n",
      "363/363 [==============================] - 0s 415us/step - loss: 0.4278 - val_loss: 0.4493\n",
      "Epoch 36/100\n",
      "363/363 [==============================] - 0s 419us/step - loss: 0.4262 - val_loss: 0.4495\n",
      "Epoch 1/100\n",
      "363/363 [==============================] - 0s 604us/step - loss: 1.2134 - val_loss: 0.7273\n",
      "Epoch 2/100\n",
      "363/363 [==============================] - 0s 433us/step - loss: 0.6290 - val_loss: 0.6358\n",
      "Epoch 3/100\n",
      "363/363 [==============================] - 0s 426us/step - loss: 0.5584 - val_loss: 0.5750\n",
      "Epoch 4/100\n",
      "363/363 [==============================] - 0s 418us/step - loss: 0.5169 - val_loss: 0.5382\n",
      "Epoch 5/100\n",
      "363/363 [==============================] - 0s 418us/step - loss: 0.4889 - val_loss: 0.5102\n",
      "Epoch 6/100\n",
      "363/363 [==============================] - 0s 420us/step - loss: 0.4650 - val_loss: 0.4958\n",
      "Epoch 7/100\n",
      "363/363 [==============================] - 0s 426us/step - loss: 0.4586 - val_loss: 0.4794\n",
      "Epoch 8/100\n",
      "363/363 [==============================] - 0s 427us/step - loss: 0.4468 - val_loss: 0.4704\n",
      "Epoch 9/100\n",
      "363/363 [==============================] - 0s 432us/step - loss: 0.4373 - val_loss: 0.4645\n",
      "Epoch 10/100\n",
      "363/363 [==============================] - 0s 434us/step - loss: 0.4305 - val_loss: 0.4561\n",
      "Epoch 11/100\n"
     ]
    },
    {
     "name": "stdout",
     "output_type": "stream",
     "text": [
      "363/363 [==============================] - 0s 433us/step - loss: 0.4277 - val_loss: 0.4515\n",
      "Epoch 12/100\n",
      "363/363 [==============================] - 0s 420us/step - loss: 0.4240 - val_loss: 0.4444\n",
      "Epoch 13/100\n",
      "363/363 [==============================] - 0s 418us/step - loss: 0.4190 - val_loss: 0.4426\n",
      "Epoch 14/100\n",
      "363/363 [==============================] - 0s 419us/step - loss: 0.4152 - val_loss: 0.4403\n",
      "Epoch 15/100\n",
      "363/363 [==============================] - 0s 431us/step - loss: 0.4121 - val_loss: 0.4368\n",
      "Epoch 16/100\n",
      "363/363 [==============================] - 0s 431us/step - loss: 0.4108 - val_loss: 0.4338\n",
      "Epoch 17/100\n",
      "363/363 [==============================] - 0s 429us/step - loss: 0.4073 - val_loss: 0.4335\n",
      "Epoch 18/100\n",
      "363/363 [==============================] - 0s 434us/step - loss: 0.4100 - val_loss: 0.4297\n",
      "Epoch 19/100\n",
      "363/363 [==============================] - 0s 434us/step - loss: 0.4058 - val_loss: 0.4235\n",
      "Epoch 20/100\n",
      "363/363 [==============================] - 0s 423us/step - loss: 0.4003 - val_loss: 0.4203\n",
      "Epoch 21/100\n",
      "363/363 [==============================] - 0s 429us/step - loss: 0.3988 - val_loss: 0.4160\n",
      "Epoch 22/100\n",
      "363/363 [==============================] - 0s 437us/step - loss: 0.3955 - val_loss: 0.4160\n",
      "Epoch 23/100\n",
      "363/363 [==============================] - 0s 436us/step - loss: 0.3948 - val_loss: 0.4116\n",
      "Epoch 24/100\n",
      "363/363 [==============================] - 0s 423us/step - loss: 0.3944 - val_loss: 0.4133\n",
      "Epoch 25/100\n",
      "363/363 [==============================] - 0s 426us/step - loss: 0.3912 - val_loss: 0.4082\n",
      "Epoch 26/100\n",
      "363/363 [==============================] - 0s 423us/step - loss: 0.3888 - val_loss: 0.4065\n",
      "Epoch 1/100\n",
      "363/363 [==============================] - 0s 607us/step - loss: 2.1803 - val_loss: 0.6228\n",
      "Epoch 2/100\n",
      "363/363 [==============================] - 0s 415us/step - loss: 0.5083 - val_loss: 0.4502\n",
      "Epoch 3/100\n",
      "363/363 [==============================] - 0s 418us/step - loss: 0.4206 - val_loss: 0.4187\n",
      "Epoch 4/100\n",
      "363/363 [==============================] - 0s 419us/step - loss: 0.3967 - val_loss: 0.4047\n",
      "Epoch 5/100\n",
      "363/363 [==============================] - 0s 419us/step - loss: 0.3870 - val_loss: 0.3986\n",
      "Epoch 6/100\n",
      "363/363 [==============================] - 0s 416us/step - loss: 0.3819 - val_loss: 0.3911\n",
      "Epoch 7/100\n",
      "363/363 [==============================] - 0s 412us/step - loss: 0.3757 - val_loss: 0.3837\n",
      "Epoch 8/100\n",
      "363/363 [==============================] - 0s 420us/step - loss: 0.3742 - val_loss: 0.3937\n",
      "Epoch 9/100\n",
      "363/363 [==============================] - 0s 418us/step - loss: 0.3698 - val_loss: 0.3770\n",
      "Epoch 10/100\n",
      "363/363 [==============================] - 0s 415us/step - loss: 0.3686 - val_loss: 0.3761\n",
      "Epoch 11/100\n",
      "363/363 [==============================] - 0s 426us/step - loss: 0.3660 - val_loss: 0.3748\n",
      "Epoch 12/100\n",
      "363/363 [==============================] - 0s 418us/step - loss: 0.3626 - val_loss: 0.3714\n",
      "Epoch 13/100\n",
      "363/363 [==============================] - 0s 420us/step - loss: 0.3605 - val_loss: 0.4009\n",
      "Epoch 14/100\n",
      "363/363 [==============================] - 0s 414us/step - loss: 0.3591 - val_loss: 0.3826\n",
      "Epoch 1/100\n",
      "363/363 [==============================] - 0s 599us/step - loss: 1.0403 - val_loss: 1.8363\n",
      "Epoch 2/100\n",
      "363/363 [==============================] - 0s 426us/step - loss: nan - val_loss: nan\n",
      "Epoch 3/100\n",
      "363/363 [==============================] - 0s 423us/step - loss: nan - val_loss: nan\n",
      "Epoch 4/100\n",
      "  1/363 [..............................] - ETA: 0s - loss: nan"
     ]
    },
    {
     "name": "stderr",
     "output_type": "stream",
     "text": [
      "D:\\software\\anaconda\\lib\\site-packages\\tensorflow\\python\\keras\\callbacks.py:1664: RuntimeWarning: invalid value encountered in less\n",
      "  if self.monitor_op(current - self.min_delta, self.best):\n"
     ]
    },
    {
     "name": "stdout",
     "output_type": "stream",
     "text": [
      "363/363 [==============================] - 0s 420us/step - loss: nan - val_loss: nan\n",
      "Epoch 5/100\n",
      "363/363 [==============================] - 0s 429us/step - loss: nan - val_loss: nan\n",
      "Epoch 6/100\n",
      "363/363 [==============================] - 0s 420us/step - loss: nan - val_loss: nan\n"
     ]
    }
   ],
   "source": [
    "# learning_rates:[1e-4, 3e-4, 1e-3, 3e-3, 1e-2, 3e-2]\n",
    "# w = w + grad * learning_rate\n",
    "\n",
    "learning_rates = [1e-4, 3e-4, 1e-3, 3e-3, 1e-2, 3e-2]\n",
    "histories = []\n",
    "for lr in learning_rates:\n",
    "    model = keras.models.Sequential([\n",
    "        keras.layers.Dense(30, activation=\"relu\", input_shape=x_train.shape[1:]),\n",
    "        keras.layers.Dense(1)\n",
    "    ])\n",
    "    \n",
    "    optimizer = keras.optimizers.SGD(lr)\n",
    "    \n",
    "    model.compile(loss=\"mean_squared_error\", optimizer=optimizer)\n",
    "    callbacks = [keras.callbacks.EarlyStopping(patience=5, min_delta=1e-2)]\n",
    "    \n",
    "    history = model.fit(x_train_scaled, y_train,\n",
    "                       validation_data=(x_valid_scaled, y_valid),\n",
    "                       epochs=100,\n",
    "                       callbacks = callbacks)\n",
    "    histories.append(history)"
   ]
  },
  {
   "cell_type": "code",
   "execution_count": 6,
   "metadata": {},
   "outputs": [
    {
     "name": "stdout",
     "output_type": "stream",
     "text": [
      "learning_rate 0.0001\n"
     ]
    },
    {
     "data": {
      "image/png": "[encoded data removed]",
      "text/plain": [
       "<Figure size 576x360 with 1 Axes>"
      ]
     },
     "metadata": {
      "needs_background": "light"
     },
     "output_type": "display_data"
    },
    {
     "name": "stdout",
     "output_type": "stream",
     "text": [
      "learning_rate 0.0003\n"
     ]
    },
    {
     "data": {
      "image/png": "[encoded data removed]",
      "text/plain": [
       "<Figure size 576x360 with 1 Axes>"
      ]
     },
     "metadata": {
      "needs_background": "light"
     },
     "output_type": "display_data"
    },
    {
     "name": "stdout",
     "output_type": "stream",
     "text": [
      "learning_rate 0.001\n"
     ]
    },
    {
     "data": {
      "image/png": "[encoded data removed]",
      "text/plain": [
       "<Figure size 576x360 with 1 Axes>"
      ]
     },
     "metadata": {
      "needs_background": "light"
     },
     "output_type": "display_data"
    },
    {
     "name": "stdout",
     "output_type": "stream",
     "text": [
      "learning_rate 0.003\n"
     ]
    },
    {
     "data": {
      "image/png": "[encoded data removed]",
      "text/plain": [
       "<Figure size 576x360 with 1 Axes>"
      ]
     },
     "metadata": {
      "needs_background": "light"
     },
     "output_type": "display_data"
    },
    {
     "name": "stdout",
     "output_type": "stream",
     "text": [
      "learning_rate 0.01\n"
     ]
    },
    {
     "data": {
      "image/png": "[encoded data removed]",
      "text/plain": [
       "<Figure size 576x360 with 1 Axes>"
      ]
     },
     "metadata": {
      "needs_background": "light"
     },
     "output_type": "display_data"
    },
    {
     "name": "stdout",
     "output_type": "stream",
     "text": [
      "learning_rate 0.03\n"
     ]
    },
    {
     "data": {
      "image/png": "[encoded data removed]",
      "text/plain": [
       "<Figure size 576x360 with 1 Axes>"
      ]
     },
     "metadata": {
      "needs_background": "light"
     },
     "output_type": "display_data"
    }
   ],
   "source": [
    "def plot_learning_curves(history):\n",
    "    pd.DataFrame(history.history).plot(figsize=(8, 5))\n",
    "    plt.grid(True)\n",
    "    plt.gca().set_ylim(0, 1)\n",
    "    plt.show()\n",
    "for lr, history in zip(learning_rates, histories):\n",
    "    print(\"learning_rate\", lr)\n",
    "    plot_learning_curves(history)"
   ]
  },
  {
   "cell_type": "code",
   "execution_count": null,
   "metadata": {},
   "outputs": [],
   "source": []
  }
 ],
 "metadata": {
  "kernelspec": {
   "display_name": "tf2_gpu",
   "language": "python",
   "name": "tf2_gpu"
  },
  "language_info": {
   "codemirror_mode": {
    "name": "ipython",
    "version": 3
   },
   "file_extension": ".py",
   "mimetype": "text/x-python",
   "name": "python",
   "nbconvert_exporter": "python",
   "pygments_lexer": "ipython3",
   "version": "3.8.3"
  }
 },
 "nbformat": 4,
 "nbformat_minor": 4
}
