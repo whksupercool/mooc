{
 "cells": [
  {
   "cell_type": "code",
   "execution_count": 1,
   "metadata": {},
   "outputs": [],
   "source": [
    "import matplotlib as mpl\n",
    "import matplotlib.pyplot as plt\n",
    "%matplotlib inline\n",
    "import numpy as np\n",
    "import sklearn\n",
    "import pandas as pd\n",
    "import os\n",
    "import sys\n",
    "import time\n",
    "import tensorflow as tf\n",
    "\n",
    "from tensorflow import keras"
   ]
  },
  {
   "cell_type": "code",
   "execution_count": 2,
   "metadata": {},
   "outputs": [
    {
     "name": "stdout",
     "output_type": "stream",
     "text": [
      "(20640, 8)\n",
      "(20640,)\n"
     ]
    }
   ],
   "source": [
    "from sklearn.datasets import fetch_california_housing\n",
    "\n",
    "housing = fetch_california_housing()\n",
    "# print(housing.DESCR)\n",
    "print(housing.data.shape)\n",
    "print(housing.target.shape)"
   ]
  },
  {
   "cell_type": "code",
   "execution_count": 3,
   "metadata": {},
   "outputs": [
    {
     "name": "stdout",
     "output_type": "stream",
     "text": [
      "(11610, 8) (11610,)\n",
      "(3870, 8) (3870,)\n",
      "(5160, 8) (5160,)\n"
     ]
    }
   ],
   "source": [
    "from sklearn.model_selection import train_test_split\n",
    "\n",
    "x_train_all, x_test, y_train_all, y_test = train_test_split(housing.data, housing.target, random_state=7)\n",
    "x_train, x_valid, y_train, y_valid = train_test_split(x_train_all, y_train_all, random_state=11)\n",
    "\n",
    "print(x_train.shape, y_train.shape)\n",
    "print(x_valid.shape, y_valid.shape)\n",
    "print(x_test.shape, y_test.shape)"
   ]
  },
  {
   "cell_type": "code",
   "execution_count": 4,
   "metadata": {},
   "outputs": [],
   "source": [
    "from sklearn.preprocessing import StandardScaler\n",
    "\n",
    "scaler = StandardScaler()\n",
    "x_train_scaled = scaler.fit_transform(x_train)\n",
    "x_valid_scaled = scaler.transform(x_valid)\n",
    "x_test_scaled = scaler.transform(x_test)"
   ]
  },
  {
   "cell_type": "code",
   "execution_count": 5,
   "metadata": {},
   "outputs": [
    {
     "name": "stdout",
     "output_type": "stream",
     "text": [
      "Model: \"functional_1\"\n",
      "__________________________________________________________________________________________________\n",
      "Layer (type)                    Output Shape         Param #     Connected to                     \n",
      "==================================================================================================\n",
      "input_2 (InputLayer)            [(None, 6)]          0                                            \n",
      "__________________________________________________________________________________________________\n",
      "dense (Dense)                   (None, 30)           210         input_2[0][0]                    \n",
      "__________________________________________________________________________________________________\n",
      "input_1 (InputLayer)            [(None, 5)]          0                                            \n",
      "__________________________________________________________________________________________________\n",
      "dense_1 (Dense)                 (None, 30)           930         dense[0][0]                      \n",
      "__________________________________________________________________________________________________\n",
      "concatenate (Concatenate)       (None, 35)           0           input_1[0][0]                    \n",
      "                                                                 dense_1[0][0]                    \n",
      "__________________________________________________________________________________________________\n",
      "dense_2 (Dense)                 (None, 1)            36          concatenate[0][0]                \n",
      "__________________________________________________________________________________________________\n",
      "dense_3 (Dense)                 (None, 1)            31          dense_1[0][0]                    \n",
      "==================================================================================================\n",
      "Total params: 1,207\n",
      "Trainable params: 1,207\n",
      "Non-trainable params: 0\n",
      "__________________________________________________________________________________________________\n"
     ]
    }
   ],
   "source": [
    "# 多输出\n",
    "input_wide = keras.layers.Input(shape=[5])\n",
    "input_deep = keras.layers.Input(shape=[6])\n",
    "hidden1 = keras.layers.Dense(30, activation=\"relu\")(input_deep)\n",
    "hidden2 = keras.layers.Dense(30, activation=\"relu\")(hidden1)\n",
    "concat = keras.layers.concatenate([input_wide, hidden2])\n",
    "output =  keras.layers.Dense(1)(concat)\n",
    "output2 = keras.layers.Dense(1)(hidden2)\n",
    "\n",
    "model = keras.models.Model(inputs=[input_wide, input_deep], outputs=[output, output2])\n",
    "\n",
    "model.summary()\n",
    "model.compile(loss=\"mean_squared_error\", optimizer=keras.optimizers.SGD(0.001))\n",
    "callbacks = [keras.callbacks.EarlyStopping(patience=5, min_delta=1e-2)]"
   ]
  },
  {
   "cell_type": "code",
   "execution_count": 6,
   "metadata": {},
   "outputs": [
    {
     "name": "stdout",
     "output_type": "stream",
     "text": [
      "Epoch 1/100\n",
      "363/363 [==============================] - 0s 912us/step - loss: 4.4796 - dense_2_loss: 2.0173 - dense_3_loss: 2.4623 - val_loss: 2.2218 - val_dense_2_loss: 0.9512 - val_dense_3_loss: 1.2706\n",
      "Epoch 2/100\n",
      "363/363 [==============================] - 0s 549us/step - loss: 1.8176 - dense_2_loss: 0.7518 - dense_3_loss: 1.0658 - val_loss: 1.7462 - val_dense_2_loss: 0.7123 - val_dense_3_loss: 1.0340\n",
      "Epoch 3/100\n",
      "363/363 [==============================] - 0s 561us/step - loss: 1.5337 - dense_2_loss: 0.6267 - dense_3_loss: 0.9070 - val_loss: 1.5606 - val_dense_2_loss: 0.6465 - val_dense_3_loss: 0.9141\n",
      "Epoch 4/100\n",
      "363/363 [==============================] - 0s 562us/step - loss: 1.3982 - dense_2_loss: 0.5809 - dense_3_loss: 0.8173 - val_loss: 1.4415 - val_dense_2_loss: 0.6061 - val_dense_3_loss: 0.8355\n",
      "Epoch 5/100\n",
      "363/363 [==============================] - 0s 545us/step - loss: 1.3130 - dense_2_loss: 0.5514 - dense_3_loss: 0.7616 - val_loss: 1.3674 - val_dense_2_loss: 0.5801 - val_dense_3_loss: 0.7874\n",
      "Epoch 6/100\n",
      "363/363 [==============================] - 0s 565us/step - loss: 1.2532 - dense_2_loss: 0.5303 - dense_3_loss: 0.7229 - val_loss: 1.3075 - val_dense_2_loss: 0.5572 - val_dense_3_loss: 0.7503\n",
      "Epoch 7/100\n",
      "363/363 [==============================] - 0s 569us/step - loss: 1.2078 - dense_2_loss: 0.5130 - dense_3_loss: 0.6948 - val_loss: 1.2666 - val_dense_2_loss: 0.5398 - val_dense_3_loss: 0.7268\n",
      "Epoch 8/100\n",
      "363/363 [==============================] - 0s 571us/step - loss: 1.1707 - dense_2_loss: 0.4980 - dense_3_loss: 0.6727 - val_loss: 1.2268 - val_dense_2_loss: 0.5212 - val_dense_3_loss: 0.7056\n",
      "Epoch 9/100\n",
      "363/363 [==============================] - 0s 565us/step - loss: 1.1423 - dense_2_loss: 0.4867 - dense_3_loss: 0.6556 - val_loss: 1.2019 - val_dense_2_loss: 0.5101 - val_dense_3_loss: 0.6918\n",
      "Epoch 10/100\n",
      "363/363 [==============================] - 0s 545us/step - loss: 1.1163 - dense_2_loss: 0.4758 - dense_3_loss: 0.6405 - val_loss: 1.1692 - val_dense_2_loss: 0.5003 - val_dense_3_loss: 0.6688\n",
      "Epoch 11/100\n",
      "363/363 [==============================] - 0s 560us/step - loss: 1.0941 - dense_2_loss: 0.4665 - dense_3_loss: 0.6275 - val_loss: 1.1427 - val_dense_2_loss: 0.4874 - val_dense_3_loss: 0.6554\n",
      "Epoch 12/100\n",
      "363/363 [==============================] - 0s 559us/step - loss: 1.0736 - dense_2_loss: 0.4580 - dense_3_loss: 0.6155 - val_loss: 1.1292 - val_dense_2_loss: 0.4816 - val_dense_3_loss: 0.6476\n",
      "Epoch 13/100\n",
      "363/363 [==============================] - 0s 551us/step - loss: 1.0544 - dense_2_loss: 0.4497 - dense_3_loss: 0.6047 - val_loss: 1.1079 - val_dense_2_loss: 0.4697 - val_dense_3_loss: 0.6382\n",
      "Epoch 14/100\n",
      "363/363 [==============================] - 0s 549us/step - loss: 1.0374 - dense_2_loss: 0.4427 - dense_3_loss: 0.5947 - val_loss: 1.0893 - val_dense_2_loss: 0.4693 - val_dense_3_loss: 0.6199\n",
      "Epoch 15/100\n",
      "363/363 [==============================] - 0s 549us/step - loss: 1.0238 - dense_2_loss: 0.4375 - dense_3_loss: 0.5864 - val_loss: 1.0719 - val_dense_2_loss: 0.4571 - val_dense_3_loss: 0.6148\n",
      "Epoch 16/100\n",
      "363/363 [==============================] - 0s 555us/step - loss: 1.0093 - dense_2_loss: 0.4314 - dense_3_loss: 0.5779 - val_loss: 1.0562 - val_dense_2_loss: 0.4512 - val_dense_3_loss: 0.6050\n",
      "Epoch 17/100\n",
      "363/363 [==============================] - 0s 563us/step - loss: 0.9969 - dense_2_loss: 0.4267 - dense_3_loss: 0.5702 - val_loss: 1.0464 - val_dense_2_loss: 0.4457 - val_dense_3_loss: 0.6006\n",
      "Epoch 18/100\n",
      "363/363 [==============================] - 0s 549us/step - loss: 0.9844 - dense_2_loss: 0.4212 - dense_3_loss: 0.5632 - val_loss: 1.0341 - val_dense_2_loss: 0.4470 - val_dense_3_loss: 0.5871\n",
      "Epoch 19/100\n",
      "363/363 [==============================] - 0s 548us/step - loss: 0.9730 - dense_2_loss: 0.4164 - dense_3_loss: 0.5566 - val_loss: 1.0237 - val_dense_2_loss: 0.4400 - val_dense_3_loss: 0.5837\n",
      "Epoch 20/100\n",
      "363/363 [==============================] - 0s 544us/step - loss: 0.9646 - dense_2_loss: 0.4135 - dense_3_loss: 0.5511 - val_loss: 1.0160 - val_dense_2_loss: 0.4365 - val_dense_3_loss: 0.5795\n",
      "Epoch 21/100\n",
      "363/363 [==============================] - 0s 546us/step - loss: 0.9543 - dense_2_loss: 0.4098 - dense_3_loss: 0.5444 - val_loss: 1.0005 - val_dense_2_loss: 0.4334 - val_dense_3_loss: 0.5671\n",
      "Epoch 22/100\n",
      "363/363 [==============================] - 0s 541us/step - loss: 0.9451 - dense_2_loss: 0.4055 - dense_3_loss: 0.5397 - val_loss: 0.9882 - val_dense_2_loss: 0.4278 - val_dense_3_loss: 0.5605\n",
      "Epoch 23/100\n",
      "363/363 [==============================] - 0s 547us/step - loss: 0.9371 - dense_2_loss: 0.4030 - dense_3_loss: 0.5341 - val_loss: 0.9903 - val_dense_2_loss: 0.4225 - val_dense_3_loss: 0.5678\n",
      "Epoch 24/100\n",
      "363/363 [==============================] - 0s 549us/step - loss: 0.9308 - dense_2_loss: 0.4006 - dense_3_loss: 0.5303 - val_loss: 0.9769 - val_dense_2_loss: 0.4207 - val_dense_3_loss: 0.5561\n",
      "Epoch 25/100\n",
      "363/363 [==============================] - 0s 549us/step - loss: 0.9208 - dense_2_loss: 0.3964 - dense_3_loss: 0.5244 - val_loss: 0.9706 - val_dense_2_loss: 0.4198 - val_dense_3_loss: 0.5508\n",
      "Epoch 26/100\n",
      "363/363 [==============================] - 0s 544us/step - loss: 0.9141 - dense_2_loss: 0.3942 - dense_3_loss: 0.5199 - val_loss: 0.9591 - val_dense_2_loss: 0.4165 - val_dense_3_loss: 0.5426\n",
      "Epoch 27/100\n",
      "363/363 [==============================] - 0s 548us/step - loss: 0.9085 - dense_2_loss: 0.3924 - dense_3_loss: 0.5161 - val_loss: 0.9549 - val_dense_2_loss: 0.4116 - val_dense_3_loss: 0.5433\n",
      "Epoch 28/100\n",
      "363/363 [==============================] - 0s 545us/step - loss: 0.9011 - dense_2_loss: 0.3895 - dense_3_loss: 0.5117 - val_loss: 0.9551 - val_dense_2_loss: 0.4234 - val_dense_3_loss: 0.5317\n",
      "Epoch 29/100\n",
      "363/363 [==============================] - 0s 544us/step - loss: 0.8935 - dense_2_loss: 0.3869 - dense_3_loss: 0.5065 - val_loss: 0.9454 - val_dense_2_loss: 0.4151 - val_dense_3_loss: 0.5303\n",
      "Epoch 30/100\n",
      "363/363 [==============================] - 0s 547us/step - loss: 0.8884 - dense_2_loss: 0.3857 - dense_3_loss: 0.5027 - val_loss: 0.9319 - val_dense_2_loss: 0.4072 - val_dense_3_loss: 0.5247\n",
      "Epoch 31/100\n",
      "363/363 [==============================] - 0s 544us/step - loss: 0.8802 - dense_2_loss: 0.3820 - dense_3_loss: 0.4982 - val_loss: 0.9284 - val_dense_2_loss: 0.4052 - val_dense_3_loss: 0.5232\n",
      "Epoch 32/100\n",
      "363/363 [==============================] - 0s 547us/step - loss: 0.8750 - dense_2_loss: 0.3806 - dense_3_loss: 0.4945 - val_loss: 0.9238 - val_dense_2_loss: 0.4089 - val_dense_3_loss: 0.5149\n",
      "Epoch 33/100\n",
      "363/363 [==============================] - 0s 547us/step - loss: 0.8685 - dense_2_loss: 0.3783 - dense_3_loss: 0.4903 - val_loss: 0.9163 - val_dense_2_loss: 0.4022 - val_dense_3_loss: 0.5141\n",
      "Epoch 34/100\n",
      "363/363 [==============================] - 0s 549us/step - loss: 0.8638 - dense_2_loss: 0.3775 - dense_3_loss: 0.4863 - val_loss: 0.9109 - val_dense_2_loss: 0.4008 - val_dense_3_loss: 0.5101\n",
      "Epoch 35/100\n",
      "363/363 [==============================] - 0s 547us/step - loss: 0.8571 - dense_2_loss: 0.3744 - dense_3_loss: 0.4827 - val_loss: 0.9143 - val_dense_2_loss: 0.4062 - val_dense_3_loss: 0.5081\n",
      "Epoch 36/100\n",
      "363/363 [==============================] - 0s 543us/step - loss: 0.8525 - dense_2_loss: 0.3732 - dense_3_loss: 0.4792 - val_loss: 0.9072 - val_dense_2_loss: 0.4030 - val_dense_3_loss: 0.5042\n",
      "Epoch 37/100\n",
      "363/363 [==============================] - 0s 547us/step - loss: 0.8471 - dense_2_loss: 0.3720 - dense_3_loss: 0.4751 - val_loss: 0.8951 - val_dense_2_loss: 0.3956 - val_dense_3_loss: 0.4996\n",
      "Epoch 38/100\n",
      "363/363 [==============================] - 0s 547us/step - loss: 0.8445 - dense_2_loss: 0.3717 - dense_3_loss: 0.4728 - val_loss: 0.8916 - val_dense_2_loss: 0.3938 - val_dense_3_loss: 0.4978\n",
      "Epoch 39/100\n",
      "363/363 [==============================] - 0s 544us/step - loss: 0.8417 - dense_2_loss: 0.3712 - dense_3_loss: 0.4706 - val_loss: 0.8934 - val_dense_2_loss: 0.4034 - val_dense_3_loss: 0.4900\n",
      "Epoch 40/100\n",
      "363/363 [==============================] - 0s 563us/step - loss: 0.8336 - dense_2_loss: 0.3676 - dense_3_loss: 0.4660 - val_loss: 0.8863 - val_dense_2_loss: 0.3977 - val_dense_3_loss: 0.4886\n",
      "Epoch 41/100\n"
     ]
    },
    {
     "name": "stdout",
     "output_type": "stream",
     "text": [
      "363/363 [==============================] - 0s 560us/step - loss: 0.8284 - dense_2_loss: 0.3658 - dense_3_loss: 0.4625 - val_loss: 0.8781 - val_dense_2_loss: 0.3913 - val_dense_3_loss: 0.4868\n",
      "Epoch 42/100\n",
      "363/363 [==============================] - 0s 549us/step - loss: 0.8270 - dense_2_loss: 0.3657 - dense_3_loss: 0.4613 - val_loss: 0.8716 - val_dense_2_loss: 0.3859 - val_dense_3_loss: 0.4857\n",
      "Epoch 43/100\n",
      "363/363 [==============================] - 0s 542us/step - loss: 0.8248 - dense_2_loss: 0.3660 - dense_3_loss: 0.4588 - val_loss: 0.8701 - val_dense_2_loss: 0.3870 - val_dense_3_loss: 0.4831\n",
      "Epoch 44/100\n",
      "363/363 [==============================] - 0s 544us/step - loss: 0.8173 - dense_2_loss: 0.3625 - dense_3_loss: 0.4548 - val_loss: 0.8733 - val_dense_2_loss: 0.3926 - val_dense_3_loss: 0.4807\n",
      "Epoch 45/100\n",
      "363/363 [==============================] - 0s 549us/step - loss: 0.8180 - dense_2_loss: 0.3638 - dense_3_loss: 0.4541 - val_loss: 0.8593 - val_dense_2_loss: 0.3858 - val_dense_3_loss: 0.4734\n",
      "Epoch 46/100\n",
      "363/363 [==============================] - 0s 558us/step - loss: 0.8112 - dense_2_loss: 0.3603 - dense_3_loss: 0.4509 - val_loss: 0.8593 - val_dense_2_loss: 0.3896 - val_dense_3_loss: 0.4697\n",
      "Epoch 47/100\n",
      "363/363 [==============================] - 0s 558us/step - loss: 0.8087 - dense_2_loss: 0.3606 - dense_3_loss: 0.4481 - val_loss: 0.8552 - val_dense_2_loss: 0.3831 - val_dense_3_loss: 0.4721\n",
      "Epoch 48/100\n",
      "363/363 [==============================] - 0s 566us/step - loss: 0.8080 - dense_2_loss: 0.3610 - dense_3_loss: 0.4470 - val_loss: 0.8499 - val_dense_2_loss: 0.3847 - val_dense_3_loss: 0.4652\n",
      "Epoch 49/100\n",
      "363/363 [==============================] - 0s 581us/step - loss: 0.7997 - dense_2_loss: 0.3566 - dense_3_loss: 0.4432 - val_loss: 0.8446 - val_dense_2_loss: 0.3818 - val_dense_3_loss: 0.4627\n",
      "Epoch 50/100\n",
      "363/363 [==============================] - 0s 549us/step - loss: 0.7967 - dense_2_loss: 0.3557 - dense_3_loss: 0.4410 - val_loss: 0.8426 - val_dense_2_loss: 0.3818 - val_dense_3_loss: 0.4608\n",
      "Epoch 51/100\n",
      "363/363 [==============================] - 0s 544us/step - loss: 0.7943 - dense_2_loss: 0.3555 - dense_3_loss: 0.4388 - val_loss: 0.8485 - val_dense_2_loss: 0.3893 - val_dense_3_loss: 0.4592\n",
      "Epoch 52/100\n",
      "363/363 [==============================] - 0s 560us/step - loss: 0.7910 - dense_2_loss: 0.3538 - dense_3_loss: 0.4372 - val_loss: 0.8435 - val_dense_2_loss: 0.3851 - val_dense_3_loss: 0.4584\n",
      "Epoch 53/100\n",
      "363/363 [==============================] - 0s 544us/step - loss: 0.7931 - dense_2_loss: 0.3553 - dense_3_loss: 0.4378 - val_loss: 0.8383 - val_dense_2_loss: 0.3792 - val_dense_3_loss: 0.4591\n",
      "Epoch 54/100\n",
      "363/363 [==============================] - 0s 541us/step - loss: 0.7867 - dense_2_loss: 0.3526 - dense_3_loss: 0.4340 - val_loss: 0.8362 - val_dense_2_loss: 0.3810 - val_dense_3_loss: 0.4552\n"
     ]
    }
   ],
   "source": [
    "x_train_scaled_wide = x_train_scaled[:, :5]\n",
    "x_train_scaled_deep = x_train_scaled[:, 2:]\n",
    "x_valid_scaled_wide = x_valid_scaled[:, :5]\n",
    "x_valid_scaled_deep = x_valid_scaled[:, 2:]\n",
    "x_test_scaled_wide = x_test_scaled[:, :5]\n",
    "x_test_scaled_deep = x_test_scaled[:, 2:]\n",
    "\n",
    "history = model.fit([x_train_scaled_wide, x_train_scaled_deep], [y_train, y_train],\n",
    "                   validation_data=([x_valid_scaled_wide, x_valid_scaled_deep], [y_valid, y_valid]),\n",
    "                   epochs=100,\n",
    "                   callbacks=callbacks)"
   ]
  },
  {
   "cell_type": "code",
   "execution_count": 7,
   "metadata": {},
   "outputs": [
    {
     "data": {
      "image/png": "[encoded data removed]",
      "text/plain": [
       "<Figure size 576x360 with 1 Axes>"
      ]
     },
     "metadata": {
      "needs_background": "light"
     },
     "output_type": "display_data"
    }
   ],
   "source": [
    "def plot_learning_curves(history):\n",
    "    pd.DataFrame(history.history).plot(figsize=(8, 5))\n",
    "    plt.grid(True)\n",
    "    plt.gca().set_ylim(0, 1)\n",
    "    plt.show()\n",
    "\n",
    "plot_learning_curves(history)"
   ]
  },
  {
   "cell_type": "code",
   "execution_count": 8,
   "metadata": {},
   "outputs": [
    {
     "name": "stdout",
     "output_type": "stream",
     "text": [
      "162/162 [==============================] - 0s 369us/step - loss: 0.8262 - dense_2_loss: 0.3740 - dense_3_loss: 0.4522\n"
     ]
    },
    {
     "data": {
      "text/plain": [
       "[0.8262196779251099, 0.3739728033542633, 0.45224708318710327]"
      ]
     },
     "execution_count": 8,
     "metadata": {},
     "output_type": "execute_result"
    }
   ],
   "source": [
    "model.evaluate([x_test_scaled_wide, x_test_scaled_deep], [y_test, y_test])"
   ]
  },
  {
   "cell_type": "code",
   "execution_count": null,
   "metadata": {},
   "outputs": [],
   "source": []
  }
 ],
 "metadata": {
  "kernelspec": {
   "display_name": "tf2_gpu",
   "language": "python",
   "name": "tf2_gpu"
  },
  "language_info": {
   "codemirror_mode": {
    "name": "ipython",
    "version": 3
   },
   "file_extension": ".py",
   "mimetype": "text/x-python",
   "name": "python",
   "nbconvert_exporter": "python",
   "pygments_lexer": "ipython3",
   "version": "3.8.3"
  }
 },
 "nbformat": 4,
 "nbformat_minor": 4
}
