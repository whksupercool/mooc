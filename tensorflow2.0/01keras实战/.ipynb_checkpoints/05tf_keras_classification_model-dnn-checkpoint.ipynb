{
 "cells": [
  {
   "cell_type": "code",
   "execution_count": 1,
   "metadata": {},
   "outputs": [],
   "source": [
    "import matplotlib as mpl\n",
    "import matplotlib.pyplot as plt\n",
    "%matplotlib inline\n",
    "import numpy as np\n",
    "import sklearn\n",
    "import pandas as pd\n",
    "import os\n",
    "import sys\n",
    "import time\n",
    "import tensorflow as tf\n",
    "\n",
    "from tensorflow import keras"
   ]
  },
  {
   "cell_type": "code",
   "execution_count": 2,
   "metadata": {},
   "outputs": [
    {
     "name": "stdout",
     "output_type": "stream",
     "text": [
      "sys.version_info(major=3, minor=8, micro=3, releaselevel='final', serial=0)\n",
      "matplotlib 3.2.2\n",
      "numpy 1.18.5\n",
      "pandas 1.0.5\n",
      "sklearn 0.23.1\n",
      "tensorflow 2.3.1\n",
      "tensorflow.keras 2.4.0\n"
     ]
    }
   ],
   "source": [
    "print(sys.version_info)\n",
    "for module in mpl, np, pd, sklearn, tf, keras:\n",
    "    print(module.__name__, module.__version__)"
   ]
  },
  {
   "cell_type": "code",
   "execution_count": 3,
   "metadata": {},
   "outputs": [
    {
     "name": "stdout",
     "output_type": "stream",
     "text": [
      "(5000, 28, 28) (5000,)\n",
      "(55000, 28, 28) (55000,)\n",
      "(10000, 28, 28) (10000,)\n"
     ]
    }
   ],
   "source": [
    "fashion_mnist = keras.datasets.fashion_mnist\n",
    "(x_train_all, y_train_all), (x_test, y_test) = fashion_mnist.load_data()\n",
    "x_valid, x_train = x_train_all[:5000], x_train_all[5000:]\n",
    "y_valid, y_train = y_train_all[:5000], y_train_all[5000:]\n",
    "\n",
    "print(x_valid.shape, y_valid.shape)\n",
    "print(x_train.shape, y_train.shape)\n",
    "print(x_test.shape, y_test.shape)"
   ]
  },
  {
   "cell_type": "code",
   "execution_count": 4,
   "metadata": {},
   "outputs": [],
   "source": [
    "\"\"\"\n",
    "归一化 x = (x - u) / std  u:均值，std:方差\n",
    "\"\"\"\n",
    "from sklearn.preprocessing import StandardScaler\n",
    "\n",
    "scaler = StandardScaler()\n",
    "#x_train:[None, 28, 28] -> [None, 784]\n",
    "x_train_scaler = scaler.fit_transform(x_train.astype(np.float32).reshape(-1, 1)).reshape(-1, 28, 28) \n",
    "x_valid_scaler = scaler.transform(x_valid.astype(np.float32).reshape(-1, 1)).reshape(-1, 28, 28)   \n",
    "x_test_scaler = scaler.transform(x_test.astype(np.float32).reshape(-1, 1)).reshape(-1, 28, 28)   "
   ]
  },
  {
   "cell_type": "code",
   "execution_count": 6,
   "metadata": {},
   "outputs": [],
   "source": [
    "# tf.keras.models.Sequential()\n",
    "\n",
    "\"\"\"\n",
    "model = keras.models.Sequential()\n",
    "model.add(keras.layers.Flatten(input_shape=[28, 28]))\n",
    "model.add(keras.layers.Dense(300, activation=\"relu\"))\n",
    "model.add(keras.layers.Dense(100, activation=\"relu\"))\n",
    "model.add(keras.layers.Dense(10, activation=\"softmax\"))\n",
    "\"\"\"\n",
    "\n",
    "model = keras.models.Sequential([\n",
    "    keras.layers.Flatten(input_shape=[28, 28]),\n",
    "    keras.layers.Dense(300, activation='relu'),\n",
    "    keras.layers.Dense(100, activation='relu'),\n",
    "    keras.layers.Dense(10, activation='softmax')\n",
    "])\n",
    "\n",
    "# relu: y = max(0, x)\n",
    "# softmax: 将向量变成概率分布. x = [x1, x2, x3], \n",
    "#          y = [e^x1/sum, e^x2/sum, e^x3/sum], sum = e^x1 + e^x2 + e^x3\n",
    "\n",
    "# reason for sparse: y->index. y->one_hot->[] \n",
    "model.compile(loss=\"sparse_categorical_crossentropy\",\n",
    "              optimizer = keras.optimizers.SGD(0.001),\n",
    "              metrics = [\"accuracy\"])"
   ]
  },
  {
   "cell_type": "code",
   "execution_count": 8,
   "metadata": {},
   "outputs": [
    {
     "name": "stdout",
     "output_type": "stream",
     "text": [
      "Epoch 1/50\n",
      "   2/1719 [..............................] - ETA: 1:22 - loss: 0.2469 - accuracy: 0.9375WARNING:tensorflow:Callbacks method `on_train_batch_end` is slow compared to the batch time (batch time: 0.0010s vs `on_train_batch_end` time: 0.0959s). Check your callbacks.\n",
      "1719/1719 [==============================] - 1s 792us/step - loss: 0.3860 - accuracy: 0.8633 - val_loss: 0.3867 - val_accuracy: 0.8642\n",
      "Epoch 2/50\n",
      "1719/1719 [==============================] - 1s 713us/step - loss: 0.3793 - accuracy: 0.8652 - val_loss: 0.3799 - val_accuracy: 0.8698\n",
      "Epoch 3/50\n",
      "1719/1719 [==============================] - 1s 708us/step - loss: 0.3729 - accuracy: 0.8676 - val_loss: 0.3806 - val_accuracy: 0.8628\n",
      "Epoch 4/50\n",
      "1719/1719 [==============================] - 1s 713us/step - loss: 0.3674 - accuracy: 0.8690 - val_loss: 0.3711 - val_accuracy: 0.8710\n",
      "Epoch 5/50\n",
      "1719/1719 [==============================] - 1s 712us/step - loss: 0.3623 - accuracy: 0.8710 - val_loss: 0.3678 - val_accuracy: 0.8702\n",
      "Epoch 6/50\n",
      "1719/1719 [==============================] - 1s 710us/step - loss: 0.3571 - accuracy: 0.8730 - val_loss: 0.3642 - val_accuracy: 0.8698\n",
      "Epoch 7/50\n",
      "1719/1719 [==============================] - 1s 714us/step - loss: 0.3524 - accuracy: 0.8749 - val_loss: 0.3609 - val_accuracy: 0.8706\n",
      "Epoch 8/50\n",
      "1719/1719 [==============================] - 1s 718us/step - loss: 0.3481 - accuracy: 0.8762 - val_loss: 0.3593 - val_accuracy: 0.8718\n",
      "Epoch 9/50\n",
      "1719/1719 [==============================] - 1s 715us/step - loss: 0.3444 - accuracy: 0.8777 - val_loss: 0.3557 - val_accuracy: 0.8730\n",
      "Epoch 10/50\n",
      "1719/1719 [==============================] - 1s 720us/step - loss: 0.3406 - accuracy: 0.8787 - val_loss: 0.3521 - val_accuracy: 0.8750\n",
      "Epoch 11/50\n",
      "1719/1719 [==============================] - 1s 713us/step - loss: 0.3370 - accuracy: 0.8799 - val_loss: 0.3532 - val_accuracy: 0.8754\n",
      "Epoch 12/50\n",
      "1719/1719 [==============================] - 1s 714us/step - loss: 0.3332 - accuracy: 0.8821 - val_loss: 0.3509 - val_accuracy: 0.8772\n",
      "Epoch 13/50\n",
      "1719/1719 [==============================] - 1s 730us/step - loss: 0.3300 - accuracy: 0.8831 - val_loss: 0.3486 - val_accuracy: 0.8752\n",
      "Epoch 14/50\n",
      "1719/1719 [==============================] - 1s 715us/step - loss: 0.3270 - accuracy: 0.8848 - val_loss: 0.3445 - val_accuracy: 0.8760\n",
      "Epoch 15/50\n",
      "1719/1719 [==============================] - 1s 716us/step - loss: 0.3235 - accuracy: 0.8855 - val_loss: 0.3425 - val_accuracy: 0.8740\n",
      "Epoch 16/50\n",
      "1719/1719 [==============================] - 1s 720us/step - loss: 0.3206 - accuracy: 0.8873 - val_loss: 0.3409 - val_accuracy: 0.8794\n",
      "Epoch 17/50\n",
      "1719/1719 [==============================] - 1s 723us/step - loss: 0.3177 - accuracy: 0.8881 - val_loss: 0.3379 - val_accuracy: 0.8800\n",
      "Epoch 18/50\n",
      "1719/1719 [==============================] - 1s 718us/step - loss: 0.3148 - accuracy: 0.8889 - val_loss: 0.3364 - val_accuracy: 0.8818\n",
      "Epoch 19/50\n",
      "1719/1719 [==============================] - 1s 723us/step - loss: 0.3118 - accuracy: 0.8894 - val_loss: 0.3354 - val_accuracy: 0.8800\n",
      "Epoch 20/50\n",
      "1719/1719 [==============================] - 1s 723us/step - loss: 0.3094 - accuracy: 0.8907 - val_loss: 0.3336 - val_accuracy: 0.8830\n",
      "Epoch 21/50\n",
      "1719/1719 [==============================] - 1s 723us/step - loss: 0.3066 - accuracy: 0.8913 - val_loss: 0.3318 - val_accuracy: 0.8814\n",
      "Epoch 22/50\n",
      "1719/1719 [==============================] - 1s 716us/step - loss: 0.3040 - accuracy: 0.8929 - val_loss: 0.3324 - val_accuracy: 0.8844\n",
      "Epoch 23/50\n",
      "1719/1719 [==============================] - 1s 719us/step - loss: 0.3019 - accuracy: 0.8939 - val_loss: 0.3301 - val_accuracy: 0.8804\n",
      "Epoch 24/50\n",
      "1719/1719 [==============================] - 1s 716us/step - loss: 0.2996 - accuracy: 0.8949 - val_loss: 0.3289 - val_accuracy: 0.8814\n",
      "Epoch 25/50\n",
      "1719/1719 [==============================] - 1s 713us/step - loss: 0.2971 - accuracy: 0.8950 - val_loss: 0.3247 - val_accuracy: 0.8842\n",
      "Epoch 26/50\n",
      "1719/1719 [==============================] - 1s 725us/step - loss: 0.2946 - accuracy: 0.8960 - val_loss: 0.3256 - val_accuracy: 0.8838\n",
      "Epoch 27/50\n",
      "1719/1719 [==============================] - 1s 720us/step - loss: 0.2925 - accuracy: 0.8967 - val_loss: 0.3231 - val_accuracy: 0.8876\n",
      "Epoch 28/50\n",
      "1719/1719 [==============================] - 1s 715us/step - loss: 0.2902 - accuracy: 0.8979 - val_loss: 0.3207 - val_accuracy: 0.8848\n",
      "Epoch 29/50\n",
      "1719/1719 [==============================] - 1s 714us/step - loss: 0.2876 - accuracy: 0.8982 - val_loss: 0.3211 - val_accuracy: 0.8832\n",
      "Epoch 30/50\n",
      "1719/1719 [==============================] - 1s 717us/step - loss: 0.2857 - accuracy: 0.8991 - val_loss: 0.3201 - val_accuracy: 0.8828\n",
      "Epoch 31/50\n",
      "1719/1719 [==============================] - 1s 721us/step - loss: 0.2837 - accuracy: 0.9002 - val_loss: 0.3192 - val_accuracy: 0.8846\n",
      "Epoch 32/50\n",
      "1719/1719 [==============================] - 1s 717us/step - loss: 0.2819 - accuracy: 0.9005 - val_loss: 0.3175 - val_accuracy: 0.8874\n",
      "Epoch 33/50\n",
      "1719/1719 [==============================] - 1s 721us/step - loss: 0.2793 - accuracy: 0.9009 - val_loss: 0.3168 - val_accuracy: 0.8858\n",
      "Epoch 34/50\n",
      "1719/1719 [==============================] - 1s 715us/step - loss: 0.2777 - accuracy: 0.9020 - val_loss: 0.3164 - val_accuracy: 0.8878\n",
      "Epoch 35/50\n",
      "1719/1719 [==============================] - 1s 714us/step - loss: 0.2756 - accuracy: 0.9021 - val_loss: 0.3172 - val_accuracy: 0.8854\n",
      "Epoch 36/50\n",
      "1719/1719 [==============================] - 1s 718us/step - loss: 0.2736 - accuracy: 0.9030 - val_loss: 0.3140 - val_accuracy: 0.8878\n",
      "Epoch 37/50\n",
      "1719/1719 [==============================] - 1s 714us/step - loss: 0.2718 - accuracy: 0.9043 - val_loss: 0.3146 - val_accuracy: 0.8866\n",
      "Epoch 38/50\n",
      "1719/1719 [==============================] - 1s 714us/step - loss: 0.2697 - accuracy: 0.9045 - val_loss: 0.3144 - val_accuracy: 0.8830\n",
      "Epoch 39/50\n",
      "1719/1719 [==============================] - 1s 735us/step - loss: 0.2679 - accuracy: 0.9058 - val_loss: 0.3120 - val_accuracy: 0.8902\n",
      "Epoch 40/50\n",
      "1719/1719 [==============================] - 1s 717us/step - loss: 0.2660 - accuracy: 0.9060 - val_loss: 0.3111 - val_accuracy: 0.8882\n",
      "Epoch 41/50\n",
      "1719/1719 [==============================] - 1s 719us/step - loss: 0.2643 - accuracy: 0.9057 - val_loss: 0.3111 - val_accuracy: 0.8912\n",
      "Epoch 42/50\n",
      "1719/1719 [==============================] - 1s 712us/step - loss: 0.2626 - accuracy: 0.9069 - val_loss: 0.3134 - val_accuracy: 0.8870\n",
      "Epoch 43/50\n",
      "1719/1719 [==============================] - 1s 717us/step - loss: 0.2611 - accuracy: 0.9076 - val_loss: 0.3077 - val_accuracy: 0.8898\n",
      "Epoch 44/50\n",
      "1719/1719 [==============================] - 1s 714us/step - loss: 0.2594 - accuracy: 0.9081 - val_loss: 0.3104 - val_accuracy: 0.8896\n",
      "Epoch 45/50\n",
      "1719/1719 [==============================] - 1s 713us/step - loss: 0.2575 - accuracy: 0.9092 - val_loss: 0.3088 - val_accuracy: 0.8896\n",
      "Epoch 46/50\n",
      "1719/1719 [==============================] - 1s 724us/step - loss: 0.2558 - accuracy: 0.9086 - val_loss: 0.3081 - val_accuracy: 0.8876\n",
      "Epoch 47/50\n",
      "1719/1719 [==============================] - 1s 715us/step - loss: 0.2539 - accuracy: 0.9103 - val_loss: 0.3156 - val_accuracy: 0.8872\n",
      "Epoch 48/50\n",
      "1719/1719 [==============================] - 1s 711us/step - loss: 0.2526 - accuracy: 0.9108 - val_loss: 0.3082 - val_accuracy: 0.8894\n"
     ]
    }
   ],
   "source": [
    "# Tensorboard, earlystopping, Modelcheckpoint\n",
    "logdir = \"./callbacks\"\n",
    "if not os.path.exists(logdir):\n",
    "    os.mkdir(logdir)\n",
    "output_model_file = os.path.join(logdir, \"fashion_mnist_model.h5\")\n",
    "callbacks = [\n",
    "    keras.callbacks.TensorBoard(logdir),\n",
    "    keras.callbacks.ModelCheckpoint(output_model_file,save_best_only=True),\n",
    "    keras.callbacks.EarlyStopping(patience=5, min_delta=1e-3)\n",
    "]\n",
    "\n",
    "history = model.fit(x_train_scaler, y_train, epochs=50,\n",
    "                    validation_data=(x_valid_scaler, y_valid),\n",
    "                    callbacks=callbacks)"
   ]
  },
  {
   "cell_type": "code",
   "execution_count": null,
   "metadata": {},
   "outputs": [],
   "source": [
    "def plot_learning_curves(history):\n",
    "    pd.DataFrame(history.history).plot(figsize=(8, 5))\n",
    "    plt.grid(True)\n",
    "    plt.gca().set_ylim(0, 1)\n",
    "    plt.show()\n",
    "\n",
    "plot_learning_curves(history)"
   ]
  },
  {
   "cell_type": "code",
   "execution_count": null,
   "metadata": {},
   "outputs": [],
   "source": [
    "model.evaluate(x_test_scaler, y_test)"
   ]
  },
  {
   "cell_type": "code",
   "execution_count": null,
   "metadata": {},
   "outputs": [],
   "source": []
  }
 ],
 "metadata": {
  "kernelspec": {
   "display_name": "tf2_gpu",
   "language": "python",
   "name": "tf2_gpu"
  },
  "language_info": {
   "codemirror_mode": {
    "name": "ipython",
    "version": 3
   },
   "file_extension": ".py",
   "mimetype": "text/x-python",
   "name": "python",
   "nbconvert_exporter": "python",
   "pygments_lexer": "ipython3",
   "version": "3.8.3"
  }
 },
 "nbformat": 4,
 "nbformat_minor": 4
}
