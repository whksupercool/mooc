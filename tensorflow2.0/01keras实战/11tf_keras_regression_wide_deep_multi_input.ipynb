{
 "cells": [
  {
   "cell_type": "code",
   "execution_count": 1,
   "metadata": {},
   "outputs": [],
   "source": [
    "import matplotlib as mpl\n",
    "import matplotlib.pyplot as plt\n",
    "%matplotlib inline\n",
    "import numpy as np\n",
    "import sklearn\n",
    "import pandas as pd\n",
    "import os\n",
    "import sys\n",
    "import time\n",
    "import tensorflow as tf\n",
    "\n",
    "from tensorflow import keras"
   ]
  },
  {
   "cell_type": "code",
   "execution_count": 2,
   "metadata": {},
   "outputs": [
    {
     "name": "stdout",
     "output_type": "stream",
     "text": [
      "(20640, 8)\n",
      "(20640,)\n"
     ]
    }
   ],
   "source": [
    "from sklearn.datasets import fetch_california_housing\n",
    "\n",
    "housing = fetch_california_housing()\n",
    "# print(housing.DESCR)\n",
    "print(housing.data.shape)\n",
    "print(housing.target.shape)"
   ]
  },
  {
   "cell_type": "code",
   "execution_count": 3,
   "metadata": {},
   "outputs": [
    {
     "name": "stdout",
     "output_type": "stream",
     "text": [
      "(11610, 8) (11610,)\n",
      "(3870, 8) (3870,)\n",
      "(5160, 8) (5160,)\n"
     ]
    }
   ],
   "source": [
    "from sklearn.model_selection import train_test_split\n",
    "\n",
    "x_train_all, x_test, y_train_all, y_test = train_test_split(housing.data, housing.target, random_state=7)\n",
    "x_train, x_valid, y_train, y_valid = train_test_split(x_train_all, y_train_all, random_state=11)\n",
    "\n",
    "print(x_train.shape, y_train.shape)\n",
    "print(x_valid.shape, y_valid.shape)\n",
    "print(x_test.shape, y_test.shape)"
   ]
  },
  {
   "cell_type": "code",
   "execution_count": 4,
   "metadata": {},
   "outputs": [],
   "source": [
    "from sklearn.preprocessing import StandardScaler\n",
    "\n",
    "scaler = StandardScaler()\n",
    "x_train_scaled = scaler.fit_transform(x_train)\n",
    "x_valid_scaled = scaler.transform(x_valid)\n",
    "x_test_scaled = scaler.transform(x_test)"
   ]
  },
  {
   "cell_type": "code",
   "execution_count": 6,
   "metadata": {},
   "outputs": [
    {
     "name": "stdout",
     "output_type": "stream",
     "text": [
      "Model: \"functional_2\"\n",
      "__________________________________________________________________________________________________\n",
      "Layer (type)                    Output Shape         Param #     Connected to                     \n",
      "==================================================================================================\n",
      "input_4 (InputLayer)            [(None, 6)]          0                                            \n",
      "__________________________________________________________________________________________________\n",
      "dense_3 (Dense)                 (None, 30)           210         input_4[0][0]                    \n",
      "__________________________________________________________________________________________________\n",
      "input_3 (InputLayer)            [(None, 5)]          0                                            \n",
      "__________________________________________________________________________________________________\n",
      "dense_4 (Dense)                 (None, 30)           930         dense_3[0][0]                    \n",
      "__________________________________________________________________________________________________\n",
      "concatenate_1 (Concatenate)     (None, 35)           0           input_3[0][0]                    \n",
      "                                                                 dense_4[0][0]                    \n",
      "__________________________________________________________________________________________________\n",
      "dense_5 (Dense)                 (None, 1)            36          concatenate_1[0][0]              \n",
      "==================================================================================================\n",
      "Total params: 1,176\n",
      "Trainable params: 1,176\n",
      "Non-trainable params: 0\n",
      "__________________________________________________________________________________________________\n"
     ]
    }
   ],
   "source": [
    "# 多输入\n",
    "input_wide = keras.layers.Input(shape=[5])\n",
    "input_deep = keras.layers.Input(shape=[6])\n",
    "hidden1 = keras.layers.Dense(30, activation=\"relu\")(input_deep)\n",
    "hidden2 = keras.layers.Dense(30, activation=\"relu\")(hidden1)\n",
    "concat = keras.layers.concatenate([input_wide, hidden2])\n",
    "output =  keras.layers.Dense(1)(concat)\n",
    "\n",
    "model = keras.models.Model(inputs=[input_wide, input_deep], outputs=[output])\n",
    "\n",
    "model.summary()\n",
    "model.compile(loss=\"mean_squared_error\", optimizer=keras.optimizers.SGD(0.001))\n",
    "callbacks = [keras.callbacks.EarlyStopping(patience=5, min_delta=1e-2)]"
   ]
  },
  {
   "cell_type": "code",
   "execution_count": 7,
   "metadata": {},
   "outputs": [
    {
     "name": "stdout",
     "output_type": "stream",
     "text": [
      "Epoch 1/100\n",
      "363/363 [==============================] - 0s 760us/step - loss: 1.9006 - val_loss: 0.9517\n",
      "Epoch 2/100\n",
      "363/363 [==============================] - 0s 481us/step - loss: 0.7410 - val_loss: 0.7221\n",
      "Epoch 3/100\n",
      "363/363 [==============================] - 0s 473us/step - loss: 0.6421 - val_loss: 0.6776\n",
      "Epoch 4/100\n",
      "363/363 [==============================] - 0s 473us/step - loss: 0.5998 - val_loss: 0.6400\n",
      "Epoch 5/100\n",
      "363/363 [==============================] - 0s 474us/step - loss: 0.5702 - val_loss: 0.6074\n",
      "Epoch 6/100\n",
      "363/363 [==============================] - 0s 474us/step - loss: 0.5467 - val_loss: 0.5828\n",
      "Epoch 7/100\n",
      "363/363 [==============================] - 0s 470us/step - loss: 0.5282 - val_loss: 0.5729\n",
      "Epoch 8/100\n",
      "363/363 [==============================] - 0s 470us/step - loss: 0.5144 - val_loss: 0.5494\n",
      "Epoch 9/100\n",
      "363/363 [==============================] - 0s 470us/step - loss: 0.5023 - val_loss: 0.5347\n",
      "Epoch 10/100\n",
      "363/363 [==============================] - 0s 470us/step - loss: 0.4936 - val_loss: 0.5297\n",
      "Epoch 11/100\n",
      "363/363 [==============================] - 0s 473us/step - loss: 0.4862 - val_loss: 0.5225\n",
      "Epoch 12/100\n",
      "363/363 [==============================] - 0s 470us/step - loss: 0.4791 - val_loss: 0.5122\n",
      "Epoch 13/100\n",
      "363/363 [==============================] - 0s 471us/step - loss: 0.4735 - val_loss: 0.5044\n",
      "Epoch 14/100\n",
      "363/363 [==============================] - 0s 470us/step - loss: 0.4679 - val_loss: 0.4988\n",
      "Epoch 15/100\n",
      "363/363 [==============================] - 0s 473us/step - loss: 0.4635 - val_loss: 0.4921\n",
      "Epoch 16/100\n",
      "363/363 [==============================] - 0s 468us/step - loss: 0.4600 - val_loss: 0.4882\n",
      "Epoch 17/100\n",
      "363/363 [==============================] - 0s 464us/step - loss: 0.4557 - val_loss: 0.4839\n",
      "Epoch 18/100\n",
      "363/363 [==============================] - 0s 467us/step - loss: 0.4532 - val_loss: 0.4807\n",
      "Epoch 19/100\n",
      "363/363 [==============================] - 0s 464us/step - loss: 0.4494 - val_loss: 0.4788\n",
      "Epoch 20/100\n",
      "363/363 [==============================] - 0s 470us/step - loss: 0.4472 - val_loss: 0.4800\n",
      "Epoch 21/100\n",
      "363/363 [==============================] - 0s 470us/step - loss: 0.4449 - val_loss: 0.4742\n",
      "Epoch 22/100\n",
      "363/363 [==============================] - 0s 464us/step - loss: 0.4424 - val_loss: 0.4744\n",
      "Epoch 23/100\n",
      "363/363 [==============================] - 0s 466us/step - loss: 0.4406 - val_loss: 0.4682\n",
      "Epoch 24/100\n",
      "363/363 [==============================] - 0s 467us/step - loss: 0.4384 - val_loss: 0.4639\n",
      "Epoch 25/100\n",
      "363/363 [==============================] - 0s 477us/step - loss: 0.4367 - val_loss: 0.4651\n",
      "Epoch 26/100\n",
      "363/363 [==============================] - 0s 466us/step - loss: 0.4346 - val_loss: 0.4596\n",
      "Epoch 27/100\n",
      "363/363 [==============================] - 0s 469us/step - loss: 0.4340 - val_loss: 0.4585\n",
      "Epoch 28/100\n",
      "363/363 [==============================] - 0s 473us/step - loss: 0.4321 - val_loss: 0.4566\n",
      "Epoch 29/100\n",
      "363/363 [==============================] - 0s 481us/step - loss: 0.4304 - val_loss: 0.4589\n"
     ]
    }
   ],
   "source": [
    "x_train_scaled_wide = x_train_scaled[:, :5]\n",
    "x_train_scaled_deep = x_train_scaled[:, 2:]\n",
    "x_valid_scaled_wide = x_valid_scaled[:, :5]\n",
    "x_valid_scaled_deep = x_valid_scaled[:, 2:]\n",
    "x_test_scaled_wide = x_test_scaled[:, :5]\n",
    "x_test_scaled_deep = x_test_scaled[:, 2:]\n",
    "\n",
    "history = model.fit([x_train_scaled_wide, x_train_scaled_deep], y_train,\n",
    "                   validation_data=([x_valid_scaled_wide, x_valid_scaled_deep], y_valid),\n",
    "                   epochs=100,\n",
    "                   callbacks=callbacks)"
   ]
  },
  {
   "cell_type": "code",
   "execution_count": 8,
   "metadata": {},
   "outputs": [
    {
     "data": {
      "image/png": "[encoded data removed]",
      "text/plain": [
       "<Figure size 576x360 with 1 Axes>"
      ]
     },
     "metadata": {
      "needs_background": "light"
     },
     "output_type": "display_data"
    }
   ],
   "source": [
    "def plot_learning_curves(history):\n",
    "    pd.DataFrame(history.history).plot(figsize=(8, 5))\n",
    "    plt.grid(True)\n",
    "    plt.gca().set_ylim(0, 1)\n",
    "    plt.show()\n",
    "\n",
    "plot_learning_curves(history)"
   ]
  },
  {
   "cell_type": "code",
   "execution_count": 9,
   "metadata": {},
   "outputs": [
    {
     "name": "stdout",
     "output_type": "stream",
     "text": [
      "162/162 [==============================] - 0s 320us/step - loss: 0.4436\n"
     ]
    },
    {
     "data": {
      "text/plain": [
       "0.4435853064060211"
      ]
     },
     "execution_count": 9,
     "metadata": {},
     "output_type": "execute_result"
    }
   ],
   "source": [
    "model.evaluate([x_test_scaled_wide, x_test_scaled_deep], y_test)"
   ]
  },
  {
   "cell_type": "code",
   "execution_count": null,
   "metadata": {},
   "outputs": [],
   "source": []
  }
 ],
 "metadata": {
  "kernelspec": {
   "display_name": "tf2_gpu",
   "language": "python",
   "name": "tf2_gpu"
  },
  "language_info": {
   "codemirror_mode": {
    "name": "ipython",
    "version": 3
   },
   "file_extension": ".py",
   "mimetype": "text/x-python",
   "name": "python",
   "nbconvert_exporter": "python",
   "pygments_lexer": "ipython3",
   "version": "3.8.3"
  }
 },
 "nbformat": 4,
 "nbformat_minor": 4
}
