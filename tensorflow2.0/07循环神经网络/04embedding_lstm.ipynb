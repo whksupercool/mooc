{
 "cells": [
  {
   "cell_type": "code",
   "execution_count": 1,
   "metadata": {},
   "outputs": [],
   "source": [
    "%matplotlib inline\n",
    "import matplotlib as mpl\n",
    "import matplotlib.pyplot as plt\n",
    "import numpy as np\n",
    "import os\n",
    "import pandas as pd\n",
    "import sklearn\n",
    "import sys\n",
    "import tensorflow as tf\n",
    "import time\n",
    "\n",
    "from tensorflow import keras"
   ]
  },
  {
   "cell_type": "code",
   "execution_count": 2,
   "metadata": {},
   "outputs": [],
   "source": [
    "imdb = keras.datasets.imdb\n",
    "vocab_size = 10000\n",
    "index_from = 3\n",
    "\n",
    "(train_data, train_labels), (test_data, test_labels) = imdb.load_data(\n",
    "    num_words=vocab_size, index_from=index_from)"
   ]
  },
  {
   "cell_type": "code",
   "execution_count": 3,
   "metadata": {},
   "outputs": [
    {
     "name": "stdout",
     "output_type": "stream",
     "text": [
      "88584\n"
     ]
    }
   ],
   "source": [
    "word_index = imdb.get_word_index()\n",
    "word_index = {k:(v+3) for k,v in word_index.items()}\n",
    "print(len(word_index))\n",
    "# print(word_index)"
   ]
  },
  {
   "cell_type": "code",
   "execution_count": 4,
   "metadata": {},
   "outputs": [
    {
     "data": {
      "text/plain": [
       "\"<START> this film was just brilliant casting location scenery story direction everyone's really suited the part they played and you could just imagine being there robert <UNK> is an amazing actor and now the same being director <UNK> father came from the same scottish island as myself so i loved the fact there was a real connection with this film the witty remarks throughout the film were great it was just brilliant so much that i bought the film as soon as it was released for <UNK> and would recommend it to everyone to watch and the fly fishing was amazing really cried at the end it was so sad and you know what they say if you cry at a film it must have been good and this definitely was also <UNK> to the two little boy's that played the <UNK> of norman and paul they were just brilliant children are often left out of the <UNK> list i think because the stars that play them all grown up are such a big profile for the whole film but these children are amazing and should be praised for what they have done don't you think the whole story was so lovely because it was true and was someone's life after all that was shared with us all\""
      ]
     },
     "execution_count": 4,
     "metadata": {},
     "output_type": "execute_result"
    }
   ],
   "source": [
    "word_index['<PAD>'] = 0\n",
    "word_index['<START>'] = 1\n",
    "word_index['<UNK>'] = 2\n",
    "word_index['<END>'] = 3\n",
    "\n",
    "reverse_word_index = dict([(value, key) for key, value in word_index.items()])\n",
    "\n",
    "def decode_review(text_ids):\n",
    "    return ' '.join([reverse_word_index.get(word_id, \"<UNK>\") for word_id in text_ids])\n",
    "\n",
    "decode_review(train_data[0])"
   ]
  },
  {
   "cell_type": "code",
   "execution_count": 5,
   "metadata": {},
   "outputs": [
    {
     "name": "stdout",
     "output_type": "stream",
     "text": [
      "[   1   14   22   16   43  530  973 1622 1385   65  458 4468   66 3941\n",
      "    4  173   36  256    5   25  100   43  838  112   50  670    2    9\n",
      "   35  480  284    5  150    4  172  112  167    2  336  385   39    4\n",
      "  172 4536 1111   17  546   38   13  447    4  192   50   16    6  147\n",
      " 2025   19   14   22    4 1920 4613  469    4   22   71   87   12   16\n",
      "   43  530   38   76   15   13 1247    4   22   17  515   17   12   16\n",
      "  626   18    2    5   62  386   12    8  316    8  106    5    4 2223\n",
      " 5244   16  480   66 3785   33    4  130   12   16   38  619    5   25\n",
      "  124   51   36  135   48   25 1415   33    6   22   12  215   28   77\n",
      "   52    5   14  407   16   82    2    8    4  107  117 5952   15  256\n",
      "    4    2    7 3766    5  723   36   71   43  530  476   26  400  317\n",
      "   46    7    4    2 1029   13  104   88    4  381   15  297   98   32\n",
      " 2071   56   26  141    6  194 7486   18    4  226   22   21  134  476\n",
      "   26  480    5  144   30 5535   18   51   36   28  224   92   25  104\n",
      "    4  226   65   16   38 1334   88   12   16  283    5   16 4472  113\n",
      "  103   32   15   16 5345   19  178   32    0    0    0    0    0    0\n",
      "    0    0    0    0    0    0    0    0    0    0    0    0    0    0\n",
      "    0    0    0    0    0    0    0    0    0    0    0    0    0    0\n",
      "    0    0    0    0    0    0    0    0    0    0    0    0    0    0\n",
      "    0    0    0    0    0    0    0    0    0    0    0    0    0    0\n",
      "    0    0    0    0    0    0    0    0    0    0    0    0    0    0\n",
      "    0    0    0    0    0    0    0    0    0    0    0    0    0    0\n",
      "    0    0    0    0    0    0    0    0    0    0    0    0    0    0\n",
      "    0    0    0    0    0    0    0    0    0    0    0    0    0    0\n",
      "    0    0    0    0    0    0    0    0    0    0    0    0    0    0\n",
      "    0    0    0    0    0    0    0    0    0    0    0    0    0    0\n",
      "    0    0    0    0    0    0    0    0    0    0    0    0    0    0\n",
      "    0    0    0    0    0    0    0    0    0    0    0    0    0    0\n",
      "    0    0    0    0    0    0    0    0    0    0    0    0    0    0\n",
      "    0    0    0    0    0    0    0    0    0    0    0    0    0    0\n",
      "    0    0    0    0    0    0    0    0    0    0    0    0    0    0\n",
      "    0    0    0    0    0    0    0    0    0    0    0    0    0    0\n",
      "    0    0    0    0    0    0    0    0    0    0    0    0    0    0\n",
      "    0    0    0    0    0    0    0    0    0    0    0    0    0    0\n",
      "    0    0    0    0    0    0    0    0    0    0    0    0    0    0\n",
      "    0    0    0    0    0    0    0    0    0    0]\n"
     ]
    }
   ],
   "source": [
    "max_length = 500\n",
    "\n",
    "train_data = keras.preprocessing.sequence.pad_sequences(\n",
    "    train_data, value=word_index['<PAD>'], padding='post', maxlen=max_length)\n",
    "\n",
    "test_data = keras.preprocessing.sequence.pad_sequences(\n",
    "    test_data, value=word_index['<PAD>'], padding='post', maxlen=max_length)\n",
    "\n",
    "print(train_data[0])"
   ]
  },
  {
   "cell_type": "code",
   "execution_count": 6,
   "metadata": {},
   "outputs": [
    {
     "name": "stdout",
     "output_type": "stream",
     "text": [
      "Model: \"sequential\"\n",
      "_________________________________________________________________\n",
      "Layer (type)                 Output Shape              Param #   \n",
      "=================================================================\n",
      "embedding (Embedding)        (None, 500, 16)           160000    \n",
      "_________________________________________________________________\n",
      "lstm (LSTM)                  (None, 64)                20736     \n",
      "_________________________________________________________________\n",
      "dense (Dense)                (None, 64)                4160      \n",
      "_________________________________________________________________\n",
      "dense_1 (Dense)              (None, 1)                 65        \n",
      "=================================================================\n",
      "Total params: 184,961\n",
      "Trainable params: 184,961\n",
      "Non-trainable params: 0\n",
      "_________________________________________________________________\n"
     ]
    }
   ],
   "source": [
    "embedding_dim = 16\n",
    "batch_size = 128\n",
    "\n",
    "single_rnn_model = keras.models.Sequential([\n",
    "    keras.layers.Embedding(vocab_size, embedding_dim, input_length=max_length),\n",
    "    keras.layers.LSTM(units=64, return_sequences=False),\n",
    "    keras.layers.Dense(64, activation=\"relu\"),\n",
    "    keras.layers.Dense(1, activation=\"sigmoid\")\n",
    "])\n",
    "\n",
    "single_rnn_model.summary()\n",
    "\n",
    "single_rnn_model.compile(optimizer='adam', loss='binary_crossentropy', metrics=['accuracy'])"
   ]
  },
  {
   "cell_type": "code",
   "execution_count": 7,
   "metadata": {},
   "outputs": [
    {
     "name": "stdout",
     "output_type": "stream",
     "text": [
      "Epoch 1/30\n",
      "157/157 [==============================] - 53s 339ms/step - loss: 0.6927 - accuracy: 0.5029 - val_loss: 0.6917 - val_accuracy: 0.5058\n",
      "Epoch 2/30\n",
      "157/157 [==============================] - 55s 353ms/step - loss: 0.6878 - accuracy: 0.5203 - val_loss: 0.6909 - val_accuracy: 0.5142\n",
      "Epoch 3/30\n",
      "157/157 [==============================] - 57s 363ms/step - loss: 0.6803 - accuracy: 0.5289 - val_loss: 0.7126 - val_accuracy: 0.5174\n",
      "Epoch 4/30\n",
      "157/157 [==============================] - 57s 366ms/step - loss: 0.6675 - accuracy: 0.5343 - val_loss: 0.7015 - val_accuracy: 0.5258\n",
      "Epoch 5/30\n",
      "157/157 [==============================] - 58s 367ms/step - loss: 0.6515 - accuracy: 0.5387 - val_loss: 0.6949 - val_accuracy: 0.5270\n",
      "Epoch 6/30\n",
      "157/157 [==============================] - 57s 365ms/step - loss: 0.6422 - accuracy: 0.5426 - val_loss: 0.7120 - val_accuracy: 0.5236\n",
      "Epoch 7/30\n",
      "157/157 [==============================] - 56s 358ms/step - loss: 0.6548 - accuracy: 0.6109 - val_loss: 0.6244 - val_accuracy: 0.7066\n",
      "Epoch 8/30\n",
      "157/157 [==============================] - 57s 363ms/step - loss: 0.5633 - accuracy: 0.7311 - val_loss: 0.6159 - val_accuracy: 0.7130\n",
      "Epoch 9/30\n",
      "157/157 [==============================] - 57s 360ms/step - loss: 0.5534 - accuracy: 0.7383 - val_loss: 0.6181 - val_accuracy: 0.7068\n",
      "Epoch 10/30\n",
      "157/157 [==============================] - 58s 369ms/step - loss: 0.5408 - accuracy: 0.7464 - val_loss: 0.6096 - val_accuracy: 0.7296\n",
      "Epoch 11/30\n",
      "157/157 [==============================] - 58s 372ms/step - loss: 0.5267 - accuracy: 0.7571 - val_loss: 0.6053 - val_accuracy: 0.7422\n",
      "Epoch 12/30\n",
      "157/157 [==============================] - 58s 367ms/step - loss: 0.5354 - accuracy: 0.7578 - val_loss: 0.6184 - val_accuracy: 0.7340\n",
      "Epoch 13/30\n",
      "157/157 [==============================] - 58s 371ms/step - loss: 0.6463 - accuracy: 0.6079 - val_loss: 0.6943 - val_accuracy: 0.5156\n",
      "Epoch 14/30\n",
      "157/157 [==============================] - 58s 369ms/step - loss: 0.6594 - accuracy: 0.5350 - val_loss: 0.6945 - val_accuracy: 0.5100\n",
      "Epoch 15/30\n",
      "157/157 [==============================] - 57s 365ms/step - loss: 0.6396 - accuracy: 0.5421 - val_loss: 0.6997 - val_accuracy: 0.5234\n",
      "Epoch 16/30\n",
      "157/157 [==============================] - 56s 359ms/step - loss: 0.6515 - accuracy: 0.5499 - val_loss: 0.7142 - val_accuracy: 0.5176\n",
      "Epoch 17/30\n",
      "157/157 [==============================] - 57s 366ms/step - loss: 0.6438 - accuracy: 0.5433 - val_loss: 0.7131 - val_accuracy: 0.5226\n",
      "Epoch 18/30\n",
      "157/157 [==============================] - 57s 364ms/step - loss: 0.6340 - accuracy: 0.5482 - val_loss: 0.7139 - val_accuracy: 0.5150\n",
      "Epoch 19/30\n",
      "157/157 [==============================] - 58s 370ms/step - loss: 0.6343 - accuracy: 0.5487 - val_loss: 0.7258 - val_accuracy: 0.5280\n",
      "Epoch 20/30\n",
      "157/157 [==============================] - 58s 367ms/step - loss: 0.6297 - accuracy: 0.5501 - val_loss: 0.7164 - val_accuracy: 0.5264\n",
      "Epoch 21/30\n",
      "157/157 [==============================] - 58s 367ms/step - loss: 0.6326 - accuracy: 0.5492 - val_loss: 0.7540 - val_accuracy: 0.5238\n",
      "Epoch 22/30\n",
      "157/157 [==============================] - 58s 367ms/step - loss: 0.6293 - accuracy: 0.5497 - val_loss: 0.7196 - val_accuracy: 0.5246\n",
      "Epoch 23/30\n",
      "157/157 [==============================] - 58s 373ms/step - loss: 0.6325 - accuracy: 0.5456 - val_loss: 0.7744 - val_accuracy: 0.5136\n",
      "Epoch 24/30\n",
      "157/157 [==============================] - 59s 375ms/step - loss: 0.6436 - accuracy: 0.6085 - val_loss: 0.6379 - val_accuracy: 0.6302\n",
      "Epoch 25/30\n",
      "157/157 [==============================] - 58s 372ms/step - loss: 0.6262 - accuracy: 0.6361 - val_loss: 0.6424 - val_accuracy: 0.6142\n",
      "Epoch 26/30\n",
      "157/157 [==============================] - 58s 372ms/step - loss: 0.6125 - accuracy: 0.6434 - val_loss: 0.6429 - val_accuracy: 0.6160\n",
      "Epoch 27/30\n",
      "157/157 [==============================] - 58s 368ms/step - loss: 0.6124 - accuracy: 0.6270 - val_loss: 0.6560 - val_accuracy: 0.5814\n",
      "Epoch 28/30\n",
      "157/157 [==============================] - 58s 369ms/step - loss: 0.6168 - accuracy: 0.6121 - val_loss: 0.6951 - val_accuracy: 0.5766\n",
      "Epoch 29/30\n",
      "157/157 [==============================] - 59s 376ms/step - loss: 0.6375 - accuracy: 0.5883 - val_loss: 0.6497 - val_accuracy: 0.6114\n",
      "Epoch 30/30\n",
      "157/157 [==============================] - 60s 382ms/step - loss: 0.6237 - accuracy: 0.6204 - val_loss: 0.6482 - val_accuracy: 0.5958\n",
      "Wall time: 28min 57s\n"
     ]
    }
   ],
   "source": [
    "%%time\n",
    "single_rnn_history = single_rnn_model.fit(train_data, train_labels, epochs=30, batch_size=batch_size, validation_split=0.2)"
   ]
  },
  {
   "cell_type": "code",
   "execution_count": 8,
   "metadata": {},
   "outputs": [
    {
     "data": {
      "image/png": "[encoded data removed]",
      "text/plain": [
       "<Figure size 576x360 with 1 Axes>"
      ]
     },
     "metadata": {
      "needs_background": "light"
     },
     "output_type": "display_data"
    }
   ],
   "source": [
    "def plot_learning_curves(history):\n",
    "    pd.DataFrame(history.history).plot(figsize=(8, 5))\n",
    "    plt.grid(True)\n",
    "    plt.gca().set_ylim(0, 1)\n",
    "    plt.show()\n",
    "\n",
    "plot_learning_curves(single_rnn_history)  "
   ]
  },
  {
   "cell_type": "code",
   "execution_count": 9,
   "metadata": {},
   "outputs": [
    {
     "name": "stdout",
     "output_type": "stream",
     "text": [
      "196/196 [==============================] - 14s 72ms/step - loss: 0.6517 - accuracy: 0.5904\n"
     ]
    },
    {
     "data": {
      "text/plain": [
       "[0.6516575217247009, 0.5903599858283997]"
      ]
     },
     "execution_count": 9,
     "metadata": {},
     "output_type": "execute_result"
    }
   ],
   "source": [
    "single_rnn_model.evaluate(test_data, test_labels, batch_size=batch_size)"
   ]
  },
  {
   "cell_type": "code",
   "execution_count": null,
   "metadata": {},
   "outputs": [],
   "source": [
    "embedding_dim = 16\n",
    "batch_size = 128\n",
    "\n",
    "rnn_model = keras.models.Sequential([\n",
    "    keras.layers.Embedding(vocab_size, embedding_dim, input_length=max_length),\n",
    "    keras.layers.Bidirectional(keras.layers.LSTM(units=64, return_sequences=True)),\n",
    "    keras.layers.Bidirectional(keras.layers.LSTM(units=64, return_sequences=False)),\n",
    "    keras.layers.Dense(64, activation=\"relu\"),\n",
    "    keras.layers.Dense(1, activation=\"sigmoid\")\n",
    "])\n",
    "\n",
    "rnn_model.summary()\n",
    "\n",
    "rnn_model.compile(optimizer='adam', loss='binary_crossentropy', metrics=['accuracy'])"
   ]
  },
  {
   "cell_type": "code",
   "execution_count": null,
   "metadata": {},
   "outputs": [],
   "source": [
    "%%time\n",
    "rnn_history = rnn_model.fit(train_data, train_labels, epochs=30, batch_size=batch_size, validation_split=0.2)"
   ]
  },
  {
   "cell_type": "code",
   "execution_count": null,
   "metadata": {},
   "outputs": [],
   "source": [
    "plot_learning_curves(rnn_history)  "
   ]
  },
  {
   "cell_type": "code",
   "execution_count": 10,
   "metadata": {},
   "outputs": [
    {
     "name": "stdout",
     "output_type": "stream",
     "text": [
      "Model: \"sequential_1\"\n",
      "_________________________________________________________________\n",
      "Layer (type)                 Output Shape              Param #   \n",
      "=================================================================\n",
      "embedding_1 (Embedding)      (None, 500, 16)           160000    \n",
      "_________________________________________________________________\n",
      "bidirectional (Bidirectional (None, 64)                12544     \n",
      "_________________________________________________________________\n",
      "dense_2 (Dense)              (None, 32)                2080      \n",
      "_________________________________________________________________\n",
      "dense_3 (Dense)              (None, 1)                 33        \n",
      "=================================================================\n",
      "Total params: 174,657\n",
      "Trainable params: 174,657\n",
      "Non-trainable params: 0\n",
      "_________________________________________________________________\n"
     ]
    }
   ],
   "source": [
    "bi_rnn_model = keras.models.Sequential([\n",
    "    keras.layers.Embedding(vocab_size, embedding_dim, input_length=max_length),\n",
    "    keras.layers.Bidirectional(keras.layers.LSTM(units=32, return_sequences=False)),\n",
    "    keras.layers.Dense(32, activation=\"relu\"),\n",
    "    keras.layers.Dense(1, activation=\"sigmoid\")\n",
    "])\n",
    "\n",
    "bi_rnn_model.summary()\n",
    "\n",
    "bi_rnn_model.compile(optimizer='adam', loss='binary_crossentropy', metrics=['accuracy'])"
   ]
  },
  {
   "cell_type": "code",
   "execution_count": 11,
   "metadata": {},
   "outputs": [
    {
     "name": "stdout",
     "output_type": "stream",
     "text": [
      "Epoch 1/30\n",
      "157/157 [==============================] - 42s 266ms/step - loss: 0.5735 - accuracy: 0.6854 - val_loss: 0.3737 - val_accuracy: 0.8422\n",
      "Epoch 2/30\n",
      "157/157 [==============================] - 41s 260ms/step - loss: 0.2888 - accuracy: 0.8874 - val_loss: 0.3086 - val_accuracy: 0.8802\n",
      "Epoch 3/30\n",
      "157/157 [==============================] - 41s 258ms/step - loss: 0.1907 - accuracy: 0.9325 - val_loss: 0.3374 - val_accuracy: 0.8834\n",
      "Epoch 4/30\n",
      "157/157 [==============================] - 41s 263ms/step - loss: 0.1511 - accuracy: 0.9478 - val_loss: 0.3257 - val_accuracy: 0.8796\n",
      "Epoch 5/30\n",
      "157/157 [==============================] - 42s 265ms/step - loss: 0.1219 - accuracy: 0.9599 - val_loss: 0.3561 - val_accuracy: 0.8790\n",
      "Epoch 6/30\n",
      "157/157 [==============================] - 41s 263ms/step - loss: 0.1076 - accuracy: 0.9642 - val_loss: 0.3815 - val_accuracy: 0.8654\n",
      "Epoch 7/30\n",
      "157/157 [==============================] - 41s 262ms/step - loss: 0.0925 - accuracy: 0.9701 - val_loss: 0.4091 - val_accuracy: 0.8722\n",
      "Epoch 8/30\n",
      "157/157 [==============================] - 41s 261ms/step - loss: 0.0823 - accuracy: 0.9748 - val_loss: 0.4189 - val_accuracy: 0.8684\n",
      "Epoch 9/30\n",
      "157/157 [==============================] - 41s 262ms/step - loss: 0.0605 - accuracy: 0.9818 - val_loss: 0.5097 - val_accuracy: 0.8686\n",
      "Epoch 10/30\n",
      "157/157 [==============================] - 42s 264ms/step - loss: 0.0452 - accuracy: 0.9880 - val_loss: 0.5734 - val_accuracy: 0.8678\n",
      "Epoch 11/30\n",
      "157/157 [==============================] - 42s 267ms/step - loss: 0.0659 - accuracy: 0.9790 - val_loss: 0.5616 - val_accuracy: 0.8540\n",
      "Epoch 12/30\n",
      "157/157 [==============================] - 42s 267ms/step - loss: 0.0499 - accuracy: 0.9844 - val_loss: 0.5589 - val_accuracy: 0.8642\n",
      "Epoch 13/30\n",
      "157/157 [==============================] - 42s 267ms/step - loss: 0.0374 - accuracy: 0.9901 - val_loss: 0.5825 - val_accuracy: 0.8566\n",
      "Epoch 14/30\n",
      "157/157 [==============================] - 42s 266ms/step - loss: 0.0454 - accuracy: 0.9869 - val_loss: 0.5773 - val_accuracy: 0.8534\n",
      "Epoch 15/30\n",
      "157/157 [==============================] - 42s 269ms/step - loss: 0.0462 - accuracy: 0.9863 - val_loss: 0.5721 - val_accuracy: 0.8514\n",
      "Epoch 16/30\n",
      "157/157 [==============================] - 41s 263ms/step - loss: 0.1214 - accuracy: 0.9568 - val_loss: 0.5466 - val_accuracy: 0.8588\n",
      "Epoch 17/30\n",
      "157/157 [==============================] - 41s 261ms/step - loss: 0.0510 - accuracy: 0.9850 - val_loss: 0.6778 - val_accuracy: 0.8622\n",
      "Epoch 18/30\n",
      "157/157 [==============================] - 41s 262ms/step - loss: 0.0266 - accuracy: 0.9931 - val_loss: 0.7151 - val_accuracy: 0.8558\n",
      "Epoch 19/30\n",
      "157/157 [==============================] - 41s 263ms/step - loss: 0.0397 - accuracy: 0.9877 - val_loss: 0.6865 - val_accuracy: 0.8472\n",
      "Epoch 20/30\n",
      "157/157 [==============================] - 41s 262ms/step - loss: 0.0238 - accuracy: 0.9938 - val_loss: 0.7292 - val_accuracy: 0.8580\n",
      "Epoch 21/30\n",
      "157/157 [==============================] - 41s 264ms/step - loss: 0.0141 - accuracy: 0.9970 - val_loss: 0.8103 - val_accuracy: 0.8614\n",
      "Epoch 22/30\n",
      "157/157 [==============================] - 42s 265ms/step - loss: 0.0219 - accuracy: 0.9942 - val_loss: 0.7568 - val_accuracy: 0.8606\n",
      "Epoch 23/30\n",
      "157/157 [==============================] - 41s 264ms/step - loss: 0.0157 - accuracy: 0.9966 - val_loss: 0.8354 - val_accuracy: 0.8642\n",
      "Epoch 24/30\n",
      "157/157 [==============================] - 42s 264ms/step - loss: 0.0221 - accuracy: 0.9944 - val_loss: 0.8279 - val_accuracy: 0.8526\n",
      "Epoch 25/30\n",
      "157/157 [==============================] - 42s 266ms/step - loss: 0.0351 - accuracy: 0.9891 - val_loss: 0.7440 - val_accuracy: 0.8570\n",
      "Epoch 26/30\n",
      "157/157 [==============================] - 42s 265ms/step - loss: 0.0264 - accuracy: 0.9924 - val_loss: 0.8124 - val_accuracy: 0.8598\n",
      "Epoch 27/30\n",
      "157/157 [==============================] - 41s 264ms/step - loss: 0.0244 - accuracy: 0.9930 - val_loss: 0.8013 - val_accuracy: 0.8586\n",
      "Epoch 28/30\n",
      "157/157 [==============================] - 41s 263ms/step - loss: 0.0228 - accuracy: 0.9942 - val_loss: 0.6866 - val_accuracy: 0.8496\n",
      "Epoch 29/30\n",
      "157/157 [==============================] - 41s 263ms/step - loss: 0.0229 - accuracy: 0.9942 - val_loss: 0.7251 - val_accuracy: 0.8270\n",
      "Epoch 30/30\n",
      "157/157 [==============================] - 41s 263ms/step - loss: 0.0223 - accuracy: 0.9935 - val_loss: 0.8444 - val_accuracy: 0.8508\n",
      "Wall time: 20min 52s\n"
     ]
    }
   ],
   "source": [
    "%%time\n",
    "bi_rnn_history = bi_rnn_model.fit(\n",
    "    train_data, train_labels, epochs=30, batch_size=batch_size, validation_split=0.2)"
   ]
  },
  {
   "cell_type": "code",
   "execution_count": 12,
   "metadata": {},
   "outputs": [
    {
     "data": {
      "image/png": "[encoded data removed]",
      "text/plain": [
       "<Figure size 576x360 with 1 Axes>"
      ]
     },
     "metadata": {
      "needs_background": "light"
     },
     "output_type": "display_data"
    }
   ],
   "source": [
    "plot_learning_curves(bi_rnn_history)  "
   ]
  },
  {
   "cell_type": "code",
   "execution_count": null,
   "metadata": {},
   "outputs": [],
   "source": []
  }
 ],
 "metadata": {
  "kernelspec": {
   "display_name": "tf2_gpu",
   "language": "python",
   "name": "tf2_gpu"
  },
  "language_info": {
   "codemirror_mode": {
    "name": "ipython",
    "version": 3
   },
   "file_extension": ".py",
   "mimetype": "text/x-python",
   "name": "python",
   "nbconvert_exporter": "python",
   "pygments_lexer": "ipython3",
   "version": "3.8.3"
  }
 },
 "nbformat": 4,
 "nbformat_minor": 4
}
