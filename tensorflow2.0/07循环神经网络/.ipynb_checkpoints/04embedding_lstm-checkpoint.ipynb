{
 "cells": [
  {
   "cell_type": "code",
   "execution_count": 1,
   "metadata": {},
   "outputs": [],
   "source": [
    "%matplotlib inline\n",
    "import matplotlib as mpl\n",
    "import matplotlib.pyplot as plt\n",
    "import numpy as np\n",
    "import os\n",
    "import pandas as pd\n",
    "import sklearn\n",
    "import sys\n",
    "import tensorflow as tf\n",
    "import time\n",
    "\n",
    "from tensorflow import keras"
   ]
  },
  {
   "cell_type": "code",
   "execution_count": 2,
   "metadata": {},
   "outputs": [],
   "source": [
    "imdb = keras.datasets.imdb\n",
    "vocab_size = 10000\n",
    "index_from = 3\n",
    "\n",
    "(train_data, train_labels), (test_data, test_labels) = imdb.load_data(\n",
    "    num_words=vocab_size, index_from=index_from)"
   ]
  },
  {
   "cell_type": "code",
   "execution_count": 3,
   "metadata": {},
   "outputs": [
    {
     "name": "stdout",
     "output_type": "stream",
     "text": [
      "88584\n"
     ]
    }
   ],
   "source": [
    "word_index = imdb.get_word_index()\n",
    "word_index = {k:(v+3) for k,v in word_index.items()}\n",
    "print(len(word_index))\n",
    "# print(word_index)"
   ]
  },
  {
   "cell_type": "code",
   "execution_count": 4,
   "metadata": {},
   "outputs": [
    {
     "data": {
      "text/plain": [
       "\"<START> this film was just brilliant casting location scenery story direction everyone's really suited the part they played and you could just imagine being there robert <UNK> is an amazing actor and now the same being director <UNK> father came from the same scottish island as myself so i loved the fact there was a real connection with this film the witty remarks throughout the film were great it was just brilliant so much that i bought the film as soon as it was released for <UNK> and would recommend it to everyone to watch and the fly fishing was amazing really cried at the end it was so sad and you know what they say if you cry at a film it must have been good and this definitely was also <UNK> to the two little boy's that played the <UNK> of norman and paul they were just brilliant children are often left out of the <UNK> list i think because the stars that play them all grown up are such a big profile for the whole film but these children are amazing and should be praised for what they have done don't you think the whole story was so lovely because it was true and was someone's life after all that was shared with us all\""
      ]
     },
     "execution_count": 4,
     "metadata": {},
     "output_type": "execute_result"
    }
   ],
   "source": [
    "word_index['<PAD>'] = 0\n",
    "word_index['<START>'] = 1\n",
    "word_index['<UNK>'] = 2\n",
    "word_index['<END>'] = 3\n",
    "\n",
    "reverse_word_index = dict([(value, key) for key, value in word_index.items()])\n",
    "\n",
    "def decode_review(text_ids):\n",
    "    return ' '.join([reverse_word_index.get(word_id, \"<UNK>\") for word_id in text_ids])\n",
    "\n",
    "decode_review(train_data[0])"
   ]
  },
  {
   "cell_type": "code",
   "execution_count": 5,
   "metadata": {},
   "outputs": [
    {
     "name": "stdout",
     "output_type": "stream",
     "text": [
      "[   1   14   22   16   43  530  973 1622 1385   65  458 4468   66 3941\n",
      "    4  173   36  256    5   25  100   43  838  112   50  670    2    9\n",
      "   35  480  284    5  150    4  172  112  167    2  336  385   39    4\n",
      "  172 4536 1111   17  546   38   13  447    4  192   50   16    6  147\n",
      " 2025   19   14   22    4 1920 4613  469    4   22   71   87   12   16\n",
      "   43  530   38   76   15   13 1247    4   22   17  515   17   12   16\n",
      "  626   18    2    5   62  386   12    8  316    8  106    5    4 2223\n",
      " 5244   16  480   66 3785   33    4  130   12   16   38  619    5   25\n",
      "  124   51   36  135   48   25 1415   33    6   22   12  215   28   77\n",
      "   52    5   14  407   16   82    2    8    4  107  117 5952   15  256\n",
      "    4    2    7 3766    5  723   36   71   43  530  476   26  400  317\n",
      "   46    7    4    2 1029   13  104   88    4  381   15  297   98   32\n",
      " 2071   56   26  141    6  194 7486   18    4  226   22   21  134  476\n",
      "   26  480    5  144   30 5535   18   51   36   28  224   92   25  104\n",
      "    4  226   65   16   38 1334   88   12   16  283    5   16 4472  113\n",
      "  103   32   15   16 5345   19  178   32    0    0    0    0    0    0\n",
      "    0    0    0    0    0    0    0    0    0    0    0    0    0    0\n",
      "    0    0    0    0    0    0    0    0    0    0    0    0    0    0\n",
      "    0    0    0    0    0    0    0    0    0    0    0    0    0    0\n",
      "    0    0    0    0    0    0    0    0    0    0    0    0    0    0\n",
      "    0    0    0    0    0    0    0    0    0    0    0    0    0    0\n",
      "    0    0    0    0    0    0    0    0    0    0    0    0    0    0\n",
      "    0    0    0    0    0    0    0    0    0    0    0    0    0    0\n",
      "    0    0    0    0    0    0    0    0    0    0    0    0    0    0\n",
      "    0    0    0    0    0    0    0    0    0    0    0    0    0    0\n",
      "    0    0    0    0    0    0    0    0    0    0    0    0    0    0\n",
      "    0    0    0    0    0    0    0    0    0    0    0    0    0    0\n",
      "    0    0    0    0    0    0    0    0    0    0    0    0    0    0\n",
      "    0    0    0    0    0    0    0    0    0    0    0    0    0    0\n",
      "    0    0    0    0    0    0    0    0    0    0    0    0    0    0\n",
      "    0    0    0    0    0    0    0    0    0    0    0    0    0    0\n",
      "    0    0    0    0    0    0    0    0    0    0    0    0    0    0\n",
      "    0    0    0    0    0    0    0    0    0    0    0    0    0    0\n",
      "    0    0    0    0    0    0    0    0    0    0    0    0    0    0\n",
      "    0    0    0    0    0    0    0    0    0    0    0    0    0    0\n",
      "    0    0    0    0    0    0    0    0    0    0]\n"
     ]
    }
   ],
   "source": [
    "max_length = 500\n",
    "\n",
    "train_data = keras.preprocessing.sequence.pad_sequences(\n",
    "    train_data, value=word_index['<PAD>'], padding='post', maxlen=max_length)\n",
    "\n",
    "test_data = keras.preprocessing.sequence.pad_sequences(\n",
    "    test_data, value=word_index['<PAD>'], padding='post', maxlen=max_length)\n",
    "\n",
    "print(train_data[0])"
   ]
  },
  {
   "cell_type": "code",
   "execution_count": 7,
   "metadata": {},
   "outputs": [
    {
     "name": "stdout",
     "output_type": "stream",
     "text": [
      "Model: \"sequential\"\n",
      "_________________________________________________________________\n",
      "Layer (type)                 Output Shape              Param #   \n",
      "=================================================================\n",
      "embedding (Embedding)        (None, 500, 16)           160000    \n",
      "_________________________________________________________________\n",
      "simple_rnn (SimpleRNN)       (None, 64)                5184      \n",
      "_________________________________________________________________\n",
      "dense (Dense)                (None, 64)                4160      \n",
      "_________________________________________________________________\n",
      "dense_1 (Dense)              (None, 1)                 65        \n",
      "=================================================================\n",
      "Total params: 169,409\n",
      "Trainable params: 169,409\n",
      "Non-trainable params: 0\n",
      "_________________________________________________________________\n"
     ]
    }
   ],
   "source": [
    "embedding_dim = 16\n",
    "batch_size = 128\n",
    "\n",
    "single_rnn_model = keras.models.Sequential([\n",
    "    keras.layers.Embedding(vocab_size, embedding_dim, input_length=max_length),\n",
    "    keras.layers.SimpleRNN(units=64, return_sequences=False),\n",
    "    keras.layers.Dense(64, activation=\"relu\"),\n",
    "    keras.layers.Dense(1, activation=\"sigmoid\")\n",
    "])\n",
    "\n",
    "single_rnn_model.summary()\n",
    "\n",
    "single_rnn_model.compile(optimizer='adam', loss='binary_crossentropy', metrics=['accuracy'])"
   ]
  },
  {
   "cell_type": "code",
   "execution_count": 8,
   "metadata": {},
   "outputs": [
    {
     "name": "stdout",
     "output_type": "stream",
     "text": [
      "Epoch 1/30\n",
      "157/157 [==============================] - 11s 70ms/step - loss: 0.6961 - accuracy: 0.4992 - val_loss: 0.6974 - val_accuracy: 0.5068\n",
      "Epoch 2/30\n",
      "157/157 [==============================] - 10s 62ms/step - loss: 0.6951 - accuracy: 0.4980 - val_loss: 0.6954 - val_accuracy: 0.4930\n",
      "Epoch 3/30\n",
      "157/157 [==============================] - 10s 62ms/step - loss: 0.6970 - accuracy: 0.5016 - val_loss: 0.6934 - val_accuracy: 0.4988\n",
      "Epoch 4/30\n",
      "157/157 [==============================] - 10s 62ms/step - loss: 0.6974 - accuracy: 0.4978 - val_loss: 0.6955 - val_accuracy: 0.5048\n",
      "Epoch 5/30\n",
      "157/157 [==============================] - 10s 62ms/step - loss: 0.6966 - accuracy: 0.5062 - val_loss: 0.6937 - val_accuracy: 0.4992\n",
      "Epoch 6/30\n",
      "157/157 [==============================] - 10s 63ms/step - loss: 0.6955 - accuracy: 0.5003 - val_loss: 0.6949 - val_accuracy: 0.5076\n",
      "Epoch 7/30\n",
      "157/157 [==============================] - 10s 66ms/step - loss: 0.6961 - accuracy: 0.5002 - val_loss: 0.6984 - val_accuracy: 0.4938\n",
      "Epoch 8/30\n",
      "157/157 [==============================] - 10s 65ms/step - loss: 0.6938 - accuracy: 0.5116 - val_loss: 0.6924 - val_accuracy: 0.5094\n",
      "Epoch 9/30\n",
      "157/157 [==============================] - 10s 65ms/step - loss: 0.6932 - accuracy: 0.5165 - val_loss: 0.6936 - val_accuracy: 0.5074\n",
      "Epoch 10/30\n",
      "157/157 [==============================] - 10s 64ms/step - loss: 0.6927 - accuracy: 0.5153 - val_loss: 0.6997 - val_accuracy: 0.4932\n",
      "Epoch 11/30\n",
      "157/157 [==============================] - 10s 65ms/step - loss: 0.6918 - accuracy: 0.5232 - val_loss: 0.6945 - val_accuracy: 0.5110\n",
      "Epoch 12/30\n",
      "157/157 [==============================] - 10s 66ms/step - loss: 0.6914 - accuracy: 0.5214 - val_loss: 0.6954 - val_accuracy: 0.4932\n",
      "Epoch 13/30\n",
      "157/157 [==============================] - 10s 66ms/step - loss: 0.6931 - accuracy: 0.5124 - val_loss: 0.6944 - val_accuracy: 0.4940\n",
      "Epoch 14/30\n",
      "157/157 [==============================] - 10s 66ms/step - loss: 0.6937 - accuracy: 0.5033 - val_loss: 0.6988 - val_accuracy: 0.5084\n",
      "Epoch 15/30\n",
      "157/157 [==============================] - 10s 66ms/step - loss: 0.6927 - accuracy: 0.5120 - val_loss: 0.6934 - val_accuracy: 0.4938\n",
      "Epoch 16/30\n",
      "157/157 [==============================] - 10s 66ms/step - loss: 0.6925 - accuracy: 0.5149 - val_loss: 0.6942 - val_accuracy: 0.4936\n",
      "Epoch 17/30\n",
      "157/157 [==============================] - 10s 66ms/step - loss: 0.6906 - accuracy: 0.5084 - val_loss: 0.6931 - val_accuracy: 0.5054\n",
      "Epoch 18/30\n",
      "157/157 [==============================] - 10s 66ms/step - loss: 0.6890 - accuracy: 0.5078 - val_loss: 0.6979 - val_accuracy: 0.4944\n",
      "Epoch 19/30\n",
      "157/157 [==============================] - 10s 66ms/step - loss: 0.6879 - accuracy: 0.5107 - val_loss: 0.6958 - val_accuracy: 0.5070\n",
      "Epoch 20/30\n",
      "157/157 [==============================] - 10s 66ms/step - loss: 0.6838 - accuracy: 0.5211 - val_loss: 0.7029 - val_accuracy: 0.4968\n",
      "Epoch 21/30\n",
      "157/157 [==============================] - 10s 66ms/step - loss: 0.6792 - accuracy: 0.5243 - val_loss: 0.6953 - val_accuracy: 0.5098\n",
      "Epoch 22/30\n",
      "157/157 [==============================] - 10s 66ms/step - loss: 0.6780 - accuracy: 0.5206 - val_loss: 0.6995 - val_accuracy: 0.4970\n",
      "Epoch 23/30\n",
      "157/157 [==============================] - 10s 66ms/step - loss: 0.6743 - accuracy: 0.5292 - val_loss: 0.6956 - val_accuracy: 0.5104\n",
      "Epoch 24/30\n",
      "157/157 [==============================] - 10s 66ms/step - loss: 0.6706 - accuracy: 0.5249 - val_loss: 0.6980 - val_accuracy: 0.5114\n",
      "Epoch 25/30\n",
      "157/157 [==============================] - 10s 66ms/step - loss: 0.6767 - accuracy: 0.5203 - val_loss: 0.6934 - val_accuracy: 0.5104\n",
      "Epoch 26/30\n",
      "157/157 [==============================] - 10s 66ms/step - loss: 0.6725 - accuracy: 0.5258 - val_loss: 0.6995 - val_accuracy: 0.5006\n",
      "Epoch 27/30\n",
      "157/157 [==============================] - 10s 66ms/step - loss: 0.6693 - accuracy: 0.5240 - val_loss: 0.7014 - val_accuracy: 0.5004\n",
      "Epoch 28/30\n",
      "157/157 [==============================] - 11s 67ms/step - loss: 0.6685 - accuracy: 0.5328 - val_loss: 0.6987 - val_accuracy: 0.5142\n",
      "Epoch 29/30\n",
      "157/157 [==============================] - 10s 66ms/step - loss: 0.6659 - accuracy: 0.5320 - val_loss: 0.7236 - val_accuracy: 0.5008\n",
      "Epoch 30/30\n",
      "157/157 [==============================] - 10s 67ms/step - loss: 0.6658 - accuracy: 0.5293 - val_loss: 0.8356 - val_accuracy: 0.4970\n",
      "Wall time: 5min 11s\n"
     ]
    }
   ],
   "source": [
    "%%time\n",
    "single_rnn_history = single_rnn_model.fit(train_data, train_labels, epochs=30, batch_size=batch_size, validation_split=0.2)"
   ]
  },
  {
   "cell_type": "code",
   "execution_count": 10,
   "metadata": {},
   "outputs": [
    {
     "data": {
      "image/png": "[encoded data removed]",
      "text/plain": [
       "<Figure size 576x360 with 1 Axes>"
      ]
     },
     "metadata": {
      "needs_background": "light"
     },
     "output_type": "display_data"
    }
   ],
   "source": [
    "def plot_learning_curves(history):\n",
    "    pd.DataFrame(history.history).plot(figsize=(8, 5))\n",
    "    plt.grid(True)\n",
    "    plt.gca().set_ylim(0, 1)\n",
    "    plt.show()\n",
    "\n",
    "plot_learning_curves(single_rnn_history)  "
   ]
  },
  {
   "cell_type": "code",
   "execution_count": 11,
   "metadata": {},
   "outputs": [
    {
     "name": "stdout",
     "output_type": "stream",
     "text": [
      "196/196 [==============================] - 4s 22ms/step - loss: 0.8349 - accuracy: 0.4944\n"
     ]
    },
    {
     "data": {
      "text/plain": [
       "[0.8349132537841797, 0.4943999946117401]"
      ]
     },
     "execution_count": 11,
     "metadata": {},
     "output_type": "execute_result"
    }
   ],
   "source": [
    "single_rnn_model.evaluate(test_data, test_labels, batch_size=batch_size)"
   ]
  },
  {
   "cell_type": "code",
   "execution_count": 12,
   "metadata": {},
   "outputs": [
    {
     "name": "stdout",
     "output_type": "stream",
     "text": [
      "Model: \"sequential_1\"\n",
      "_________________________________________________________________\n",
      "Layer (type)                 Output Shape              Param #   \n",
      "=================================================================\n",
      "embedding_1 (Embedding)      (None, 500, 16)           160000    \n",
      "_________________________________________________________________\n",
      "bidirectional (Bidirectional (None, 500, 128)          10368     \n",
      "_________________________________________________________________\n",
      "bidirectional_1 (Bidirection (None, 128)               24704     \n",
      "_________________________________________________________________\n",
      "dense_2 (Dense)              (None, 64)                8256      \n",
      "_________________________________________________________________\n",
      "dense_3 (Dense)              (None, 1)                 65        \n",
      "=================================================================\n",
      "Total params: 203,393\n",
      "Trainable params: 203,393\n",
      "Non-trainable params: 0\n",
      "_________________________________________________________________\n"
     ]
    }
   ],
   "source": [
    "embedding_dim = 16\n",
    "batch_size = 128\n",
    "\n",
    "rnn_model = keras.models.Sequential([\n",
    "    keras.layers.Embedding(vocab_size, embedding_dim, input_length=max_length),\n",
    "    keras.layers.Bidirectional(keras.layers.SimpleRNN(units=64, return_sequences=True)),\n",
    "    keras.layers.Bidirectional(keras.layers.SimpleRNN(units=64, return_sequences=False)),\n",
    "    keras.layers.Dense(64, activation=\"relu\"),\n",
    "    keras.layers.Dense(1, activation=\"sigmoid\")\n",
    "])\n",
    "\n",
    "rnn_model.summary()\n",
    "\n",
    "rnn_model.compile(optimizer='adam', loss='binary_crossentropy', metrics=['accuracy'])"
   ]
  },
  {
   "cell_type": "code",
   "execution_count": 13,
   "metadata": {},
   "outputs": [
    {
     "name": "stdout",
     "output_type": "stream",
     "text": [
      "Epoch 1/30\n",
      "157/157 [==============================] - 69s 442ms/step - loss: 0.7021 - accuracy: 0.5077 - val_loss: 0.7094 - val_accuracy: 0.5074\n",
      "Epoch 2/30\n",
      "157/157 [==============================] - 77s 494ms/step - loss: 0.7021 - accuracy: 0.5016 - val_loss: 0.7343 - val_accuracy: 0.4944\n",
      "Epoch 3/30\n",
      "157/157 [==============================] - 80s 511ms/step - loss: 0.6969 - accuracy: 0.4970 - val_loss: 0.6929 - val_accuracy: 0.5078\n",
      "Epoch 4/30\n",
      "157/157 [==============================] - 83s 528ms/step - loss: 0.6947 - accuracy: 0.5018 - val_loss: 0.6947 - val_accuracy: 0.4938\n",
      "Epoch 5/30\n",
      "157/157 [==============================] - 84s 534ms/step - loss: 0.6896 - accuracy: 0.5299 - val_loss: 0.6906 - val_accuracy: 0.5368\n",
      "Epoch 6/30\n",
      "157/157 [==============================] - 85s 540ms/step - loss: 0.6647 - accuracy: 0.5980 - val_loss: 0.7118 - val_accuracy: 0.5230\n",
      "Epoch 7/30\n",
      "157/157 [==============================] - 94s 597ms/step - loss: 0.5955 - accuracy: 0.6845 - val_loss: 0.7208 - val_accuracy: 0.5718\n",
      "Epoch 8/30\n",
      "157/157 [==============================] - 92s 586ms/step - loss: 0.5045 - accuracy: 0.7556 - val_loss: 0.7293 - val_accuracy: 0.5810\n",
      "Epoch 9/30\n",
      "157/157 [==============================] - 91s 580ms/step - loss: 0.4045 - accuracy: 0.8185 - val_loss: 0.7797 - val_accuracy: 0.5886\n",
      "Epoch 10/30\n",
      "157/157 [==============================] - 93s 590ms/step - loss: 0.3153 - accuracy: 0.8660 - val_loss: 0.9464 - val_accuracy: 0.6008\n",
      "Epoch 11/30\n",
      "157/157 [==============================] - 91s 583ms/step - loss: 0.2227 - accuracy: 0.9120 - val_loss: 1.0206 - val_accuracy: 0.5900\n",
      "Epoch 12/30\n",
      "157/157 [==============================] - 91s 581ms/step - loss: 0.1621 - accuracy: 0.9393 - val_loss: 1.3030 - val_accuracy: 0.5918\n",
      "Epoch 13/30\n",
      "157/157 [==============================] - 91s 583ms/step - loss: 0.1168 - accuracy: 0.9570 - val_loss: 1.4817 - val_accuracy: 0.5834\n",
      "Epoch 14/30\n",
      "157/157 [==============================] - 93s 592ms/step - loss: 0.0808 - accuracy: 0.9740 - val_loss: 1.4902 - val_accuracy: 0.5832\n",
      "Epoch 15/30\n",
      "157/157 [==============================] - 93s 592ms/step - loss: 0.0588 - accuracy: 0.9796 - val_loss: 1.9376 - val_accuracy: 0.5884\n",
      "Epoch 16/30\n",
      "157/157 [==============================] - 92s 588ms/step - loss: 0.0414 - accuracy: 0.9865 - val_loss: 1.9905 - val_accuracy: 0.5892\n",
      "Epoch 17/30\n",
      "157/157 [==============================] - 93s 594ms/step - loss: 0.0380 - accuracy: 0.9876 - val_loss: 2.1555 - val_accuracy: 0.5828\n",
      "Epoch 18/30\n",
      "157/157 [==============================] - 93s 595ms/step - loss: 0.0240 - accuracy: 0.9930 - val_loss: 2.2905 - val_accuracy: 0.5680\n",
      "Epoch 19/30\n",
      "157/157 [==============================] - 94s 598ms/step - loss: 0.0195 - accuracy: 0.9941 - val_loss: 2.2977 - val_accuracy: 0.5842\n",
      "Epoch 20/30\n",
      "157/157 [==============================] - 94s 597ms/step - loss: 0.0199 - accuracy: 0.9939 - val_loss: 2.3680 - val_accuracy: 0.5900\n",
      "Epoch 21/30\n",
      "157/157 [==============================] - 94s 601ms/step - loss: 0.0222 - accuracy: 0.9929 - val_loss: 2.4943 - val_accuracy: 0.5770\n",
      "Epoch 22/30\n",
      "157/157 [==============================] - 95s 604ms/step - loss: 0.0187 - accuracy: 0.9935 - val_loss: 2.5539 - val_accuracy: 0.5836\n",
      "Epoch 23/30\n",
      "157/157 [==============================] - 95s 605ms/step - loss: 0.0169 - accuracy: 0.9939 - val_loss: 2.5249 - val_accuracy: 0.5824\n",
      "Epoch 24/30\n",
      "157/157 [==============================] - 95s 605ms/step - loss: 0.0119 - accuracy: 0.9961 - val_loss: 2.7264 - val_accuracy: 0.5766\n",
      "Epoch 25/30\n",
      "157/157 [==============================] - 93s 592ms/step - loss: 0.0092 - accuracy: 0.9973 - val_loss: 2.7822 - val_accuracy: 0.5874\n",
      "Epoch 26/30\n",
      "157/157 [==============================] - 92s 583ms/step - loss: 0.0075 - accuracy: 0.9976 - val_loss: 2.7660 - val_accuracy: 0.5910\n",
      "Epoch 27/30\n",
      "157/157 [==============================] - 92s 584ms/step - loss: 0.0231 - accuracy: 0.9923 - val_loss: 2.6052 - val_accuracy: 0.5834\n",
      "Epoch 28/30\n",
      "157/157 [==============================] - 92s 586ms/step - loss: 0.0150 - accuracy: 0.9944 - val_loss: 2.6674 - val_accuracy: 0.5852\n",
      "Epoch 29/30\n",
      "157/157 [==============================] - 91s 581ms/step - loss: 0.0240 - accuracy: 0.9919 - val_loss: 2.2710 - val_accuracy: 0.5776\n",
      "Epoch 30/30\n",
      "157/157 [==============================] - 92s 587ms/step - loss: 0.0095 - accuracy: 0.9974 - val_loss: 2.9402 - val_accuracy: 0.5728\n",
      "Wall time: 45min 23s\n"
     ]
    }
   ],
   "source": [
    "%%time\n",
    "rnn_history = rnn_model.fit(train_data, train_labels, epochs=30, batch_size=batch_size, validation_split=0.2)"
   ]
  },
  {
   "cell_type": "code",
   "execution_count": 14,
   "metadata": {},
   "outputs": [
    {
     "data": {
      "image/png": "[encoded data removed]",
      "text/plain": [
       "<Figure size 576x360 with 1 Axes>"
      ]
     },
     "metadata": {
      "needs_background": "light"
     },
     "output_type": "display_data"
    }
   ],
   "source": [
    "plot_learning_curves(rnn_history)  "
   ]
  },
  {
   "cell_type": "code",
   "execution_count": 15,
   "metadata": {},
   "outputs": [
    {
     "name": "stdout",
     "output_type": "stream",
     "text": [
      "Model: \"sequential_2\"\n",
      "_________________________________________________________________\n",
      "Layer (type)                 Output Shape              Param #   \n",
      "=================================================================\n",
      "embedding_2 (Embedding)      (None, 500, 16)           160000    \n",
      "_________________________________________________________________\n",
      "bidirectional_2 (Bidirection (None, 64)                3136      \n",
      "_________________________________________________________________\n",
      "dense_4 (Dense)              (None, 32)                2080      \n",
      "_________________________________________________________________\n",
      "dense_5 (Dense)              (None, 1)                 33        \n",
      "=================================================================\n",
      "Total params: 165,249\n",
      "Trainable params: 165,249\n",
      "Non-trainable params: 0\n",
      "_________________________________________________________________\n"
     ]
    }
   ],
   "source": [
    "bi_rnn_model = keras.models.Sequential([\n",
    "    keras.layers.Embedding(vocab_size, embedding_dim, input_length=max_length),\n",
    "    keras.layers.Bidirectional(keras.layers.SimpleRNN(units=32, return_sequences=False)),\n",
    "    keras.layers.Dense(32, activation=\"relu\"),\n",
    "    keras.layers.Dense(1, activation=\"sigmoid\")\n",
    "])\n",
    "\n",
    "bi_rnn_model.summary()\n",
    "\n",
    "bi_rnn_model.compile(optimizer='adam', loss='binary_crossentropy', metrics=['accuracy'])"
   ]
  },
  {
   "cell_type": "code",
   "execution_count": 16,
   "metadata": {},
   "outputs": [
    {
     "name": "stdout",
     "output_type": "stream",
     "text": [
      "Epoch 1/30\n",
      "157/157 [==============================] - 11s 67ms/step - loss: 0.6941 - accuracy: 0.5054 - val_loss: 0.6926 - val_accuracy: 0.5114\n",
      "Epoch 2/30\n",
      "157/157 [==============================] - 11s 70ms/step - loss: 0.7005 - accuracy: 0.5592 - val_loss: 0.6928 - val_accuracy: 0.5014\n",
      "Epoch 3/30\n",
      "157/157 [==============================] - 11s 71ms/step - loss: 0.6786 - accuracy: 0.5813 - val_loss: 0.6790 - val_accuracy: 0.5748\n",
      "Epoch 4/30\n",
      "157/157 [==============================] - 11s 70ms/step - loss: 0.6258 - accuracy: 0.6641 - val_loss: 0.6567 - val_accuracy: 0.6088\n",
      "Epoch 5/30\n",
      "157/157 [==============================] - 11s 70ms/step - loss: 0.5192 - accuracy: 0.7436 - val_loss: 0.6712 - val_accuracy: 0.6332\n",
      "Epoch 6/30\n",
      "157/157 [==============================] - 11s 70ms/step - loss: 0.3547 - accuracy: 0.8480 - val_loss: 0.5616 - val_accuracy: 0.7500\n",
      "Epoch 7/30\n",
      "157/157 [==============================] - 11s 69ms/step - loss: 0.2182 - accuracy: 0.9158 - val_loss: 0.6973 - val_accuracy: 0.7068\n",
      "Epoch 8/30\n",
      "157/157 [==============================] - 11s 70ms/step - loss: 0.1239 - accuracy: 0.9591 - val_loss: 0.7927 - val_accuracy: 0.7310\n",
      "Epoch 9/30\n",
      "157/157 [==============================] - 11s 71ms/step - loss: 0.0581 - accuracy: 0.9832 - val_loss: 0.8645 - val_accuracy: 0.7650\n",
      "Epoch 10/30\n",
      "157/157 [==============================] - 11s 70ms/step - loss: 0.0255 - accuracy: 0.9937 - val_loss: 1.0035 - val_accuracy: 0.7486\n",
      "Epoch 11/30\n",
      "157/157 [==============================] - 11s 70ms/step - loss: 0.0091 - accuracy: 0.9988 - val_loss: 1.2230 - val_accuracy: 0.7312\n",
      "Epoch 12/30\n",
      "157/157 [==============================] - 11s 71ms/step - loss: 0.0038 - accuracy: 0.9998 - val_loss: 1.2536 - val_accuracy: 0.7494\n",
      "Epoch 13/30\n",
      "157/157 [==============================] - 11s 70ms/step - loss: 0.0027 - accuracy: 0.9998 - val_loss: 1.3185 - val_accuracy: 0.7438\n",
      "Epoch 14/30\n",
      "157/157 [==============================] - 11s 71ms/step - loss: 0.0017 - accuracy: 0.9998 - val_loss: 1.3668 - val_accuracy: 0.7424\n",
      "Epoch 15/30\n",
      "157/157 [==============================] - 11s 71ms/step - loss: 0.0013 - accuracy: 0.9999 - val_loss: 1.3849 - val_accuracy: 0.7518\n",
      "Epoch 16/30\n",
      "157/157 [==============================] - 11s 71ms/step - loss: 7.8983e-04 - accuracy: 0.9999 - val_loss: 1.4742 - val_accuracy: 0.7460\n",
      "Epoch 17/30\n",
      "157/157 [==============================] - 11s 71ms/step - loss: 2.6301e-04 - accuracy: 1.0000 - val_loss: 1.5143 - val_accuracy: 0.7480\n",
      "Epoch 18/30\n",
      "157/157 [==============================] - 11s 72ms/step - loss: 1.9538e-04 - accuracy: 1.0000 - val_loss: 1.5491 - val_accuracy: 0.7514\n",
      "Epoch 19/30\n",
      "157/157 [==============================] - 11s 71ms/step - loss: 1.5372e-04 - accuracy: 1.0000 - val_loss: 1.5859 - val_accuracy: 0.7488\n",
      "Epoch 20/30\n",
      "157/157 [==============================] - 11s 71ms/step - loss: 1.2412e-04 - accuracy: 1.0000 - val_loss: 1.6191 - val_accuracy: 0.7510\n",
      "Epoch 21/30\n",
      "157/157 [==============================] - 11s 71ms/step - loss: 1.0266e-04 - accuracy: 1.0000 - val_loss: 1.6390 - val_accuracy: 0.7514\n",
      "Epoch 22/30\n",
      "157/157 [==============================] - 11s 71ms/step - loss: 8.5553e-05 - accuracy: 1.0000 - val_loss: 1.6753 - val_accuracy: 0.7506\n",
      "Epoch 23/30\n",
      "157/157 [==============================] - 11s 71ms/step - loss: 7.2438e-05 - accuracy: 1.0000 - val_loss: 1.6879 - val_accuracy: 0.7524\n",
      "Epoch 24/30\n",
      "157/157 [==============================] - 11s 71ms/step - loss: 6.1716e-05 - accuracy: 1.0000 - val_loss: 1.7242 - val_accuracy: 0.7494\n",
      "Epoch 25/30\n",
      "157/157 [==============================] - 11s 72ms/step - loss: 5.3103e-05 - accuracy: 1.0000 - val_loss: 1.7427 - val_accuracy: 0.7506\n",
      "Epoch 26/30\n",
      "157/157 [==============================] - 11s 71ms/step - loss: 4.5964e-05 - accuracy: 1.0000 - val_loss: 1.7587 - val_accuracy: 0.7512\n",
      "Epoch 27/30\n",
      "157/157 [==============================] - 11s 71ms/step - loss: 4.0053e-05 - accuracy: 1.0000 - val_loss: 1.7819 - val_accuracy: 0.7512\n",
      "Epoch 28/30\n",
      "157/157 [==============================] - 11s 72ms/step - loss: 3.5087e-05 - accuracy: 1.0000 - val_loss: 1.7964 - val_accuracy: 0.7526\n",
      "Epoch 29/30\n",
      "157/157 [==============================] - 11s 72ms/step - loss: 3.0732e-05 - accuracy: 1.0000 - val_loss: 1.8219 - val_accuracy: 0.7512\n",
      "Epoch 30/30\n",
      "157/157 [==============================] - 11s 73ms/step - loss: 2.7061e-05 - accuracy: 1.0000 - val_loss: 1.8359 - val_accuracy: 0.7524\n",
      "Wall time: 5min 36s\n"
     ]
    }
   ],
   "source": [
    "%%time\n",
    "bi_rnn_history = bi_rnn_model.fit(\n",
    "    train_data, train_labels, epochs=30, batch_size=batch_size, validation_split=0.2)"
   ]
  },
  {
   "cell_type": "code",
   "execution_count": 17,
   "metadata": {},
   "outputs": [
    {
     "data": {
      "image/png": "[encoded data removed]",
      "text/plain": [
       "<Figure size 576x360 with 1 Axes>"
      ]
     },
     "metadata": {
      "needs_background": "light"
     },
     "output_type": "display_data"
    }
   ],
   "source": [
    "plot_learning_curves(bi_rnn_history)  "
   ]
  },
  {
   "cell_type": "code",
   "execution_count": null,
   "metadata": {},
   "outputs": [],
   "source": []
  }
 ],
 "metadata": {
  "kernelspec": {
   "display_name": "tf2_gpu",
   "language": "python",
   "name": "tf2_gpu"
  },
  "language_info": {
   "codemirror_mode": {
    "name": "ipython",
    "version": 3
   },
   "file_extension": ".py",
   "mimetype": "text/x-python",
   "name": "python",
   "nbconvert_exporter": "python",
   "pygments_lexer": "ipython3",
   "version": "3.8.3"
  }
 },
 "nbformat": 4,
 "nbformat_minor": 4
}
