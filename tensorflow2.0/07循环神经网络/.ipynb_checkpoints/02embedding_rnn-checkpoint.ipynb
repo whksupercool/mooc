{
 "cells": [
  {
   "cell_type": "code",
   "execution_count": 1,
   "metadata": {},
   "outputs": [],
   "source": [
    "%matplotlib inline\n",
    "import matplotlib as mpl\n",
    "import matplotlib.pyplot as plt\n",
    "import numpy as np\n",
    "import os\n",
    "import pandas as pd\n",
    "import sklearn\n",
    "import sys\n",
    "import tensorflow as tf\n",
    "import time\n",
    "\n",
    "from tensorflow import keras"
   ]
  },
  {
   "cell_type": "code",
   "execution_count": 2,
   "metadata": {},
   "outputs": [],
   "source": [
    "imdb = keras.datasets.imdb\n",
    "vocab_size = 10000\n",
    "index_from = 3\n",
    "\n",
    "(train_data, train_labels), (test_data, test_labels) = imdb.load_data(\n",
    "    num_words=vocab_size, index_from=index_from)"
   ]
  },
  {
   "cell_type": "code",
   "execution_count": 3,
   "metadata": {},
   "outputs": [
    {
     "name": "stdout",
     "output_type": "stream",
     "text": [
      "[1, 14, 22, 16, 43, 530, 973, 1622, 1385, 65, 458, 4468, 66, 3941, 4, 173, 36, 256, 5, 25, 100, 43, 838, 112, 50, 670, 2, 9, 35, 480, 284, 5, 150, 4, 172, 112, 167, 2, 336, 385, 39, 4, 172, 4536, 1111, 17, 546, 38, 13, 447, 4, 192, 50, 16, 6, 147, 2025, 19, 14, 22, 4, 1920, 4613, 469, 4, 22, 71, 87, 12, 16, 43, 530, 38, 76, 15, 13, 1247, 4, 22, 17, 515, 17, 12, 16, 626, 18, 2, 5, 62, 386, 12, 8, 316, 8, 106, 5, 4, 2223, 5244, 16, 480, 66, 3785, 33, 4, 130, 12, 16, 38, 619, 5, 25, 124, 51, 36, 135, 48, 25, 1415, 33, 6, 22, 12, 215, 28, 77, 52, 5, 14, 407, 16, 82, 2, 8, 4, 107, 117, 5952, 15, 256, 4, 2, 7, 3766, 5, 723, 36, 71, 43, 530, 476, 26, 400, 317, 46, 7, 4, 2, 1029, 13, 104, 88, 4, 381, 15, 297, 98, 32, 2071, 56, 26, 141, 6, 194, 7486, 18, 4, 226, 22, 21, 134, 476, 26, 480, 5, 144, 30, 5535, 18, 51, 36, 28, 224, 92, 25, 104, 4, 226, 65, 16, 38, 1334, 88, 12, 16, 283, 5, 16, 4472, 113, 103, 32, 15, 16, 5345, 19, 178, 32] 1\n",
      "(25000,) (25000,)\n",
      "218 189\n"
     ]
    }
   ],
   "source": [
    "print(train_data[0], train_labels[0])\n",
    "print(train_data.shape, train_labels.shape)\n",
    "print(len(train_data[0]), len(train_data[1]))"
   ]
  },
  {
   "cell_type": "code",
   "execution_count": 4,
   "metadata": {},
   "outputs": [
    {
     "name": "stdout",
     "output_type": "stream",
     "text": [
      "(25000,) (25000,)\n"
     ]
    }
   ],
   "source": [
    "print(test_data.shape, test_labels.shape)"
   ]
  },
  {
   "cell_type": "code",
   "execution_count": 5,
   "metadata": {},
   "outputs": [
    {
     "name": "stdout",
     "output_type": "stream",
     "text": [
      "88584\n"
     ]
    }
   ],
   "source": [
    "word_index = imdb.get_word_index()\n",
    "word_index = {k:(v+3) for k,v in word_index.items()}\n",
    "print(len(word_index))\n",
    "# print(word_index)"
   ]
  },
  {
   "cell_type": "code",
   "execution_count": 6,
   "metadata": {},
   "outputs": [
    {
     "data": {
      "text/plain": [
       "\"<START> this film was just brilliant casting location scenery story direction everyone's really suited the part they played and you could just imagine being there robert <UNK> is an amazing actor and now the same being director <UNK> father came from the same scottish island as myself so i loved the fact there was a real connection with this film the witty remarks throughout the film were great it was just brilliant so much that i bought the film as soon as it was released for <UNK> and would recommend it to everyone to watch and the fly fishing was amazing really cried at the end it was so sad and you know what they say if you cry at a film it must have been good and this definitely was also <UNK> to the two little boy's that played the <UNK> of norman and paul they were just brilliant children are often left out of the <UNK> list i think because the stars that play them all grown up are such a big profile for the whole film but these children are amazing and should be praised for what they have done don't you think the whole story was so lovely because it was true and was someone's life after all that was shared with us all\""
      ]
     },
     "execution_count": 6,
     "metadata": {},
     "output_type": "execute_result"
    }
   ],
   "source": [
    "word_index['<PAD>'] = 0\n",
    "word_index['<START>'] = 1\n",
    "word_index['<UNK>'] = 2\n",
    "word_index['<END>'] = 3\n",
    "\n",
    "reverse_word_index = dict([(value, key) for key, value in word_index.items()])\n",
    "\n",
    "def decode_review(text_ids):\n",
    "    return ' '.join([reverse_word_index.get(word_id, \"<UNK>\") for word_id in text_ids])\n",
    "\n",
    "decode_review(train_data[0])"
   ]
  },
  {
   "cell_type": "code",
   "execution_count": 7,
   "metadata": {},
   "outputs": [
    {
     "name": "stdout",
     "output_type": "stream",
     "text": [
      "[   1   14   22   16   43  530  973 1622 1385   65  458 4468   66 3941\n",
      "    4  173   36  256    5   25  100   43  838  112   50  670    2    9\n",
      "   35  480  284    5  150    4  172  112  167    2  336  385   39    4\n",
      "  172 4536 1111   17  546   38   13  447    4  192   50   16    6  147\n",
      " 2025   19   14   22    4 1920 4613  469    4   22   71   87   12   16\n",
      "   43  530   38   76   15   13 1247    4   22   17  515   17   12   16\n",
      "  626   18    2    5   62  386   12    8  316    8  106    5    4 2223\n",
      " 5244   16  480   66 3785   33    4  130   12   16   38  619    5   25\n",
      "  124   51   36  135   48   25 1415   33    6   22   12  215   28   77\n",
      "   52    5   14  407   16   82    2    8    4  107  117 5952   15  256\n",
      "    4    2    7 3766    5  723   36   71   43  530  476   26  400  317\n",
      "   46    7    4    2 1029   13  104   88    4  381   15  297   98   32\n",
      " 2071   56   26  141    6  194 7486   18    4  226   22   21  134  476\n",
      "   26  480    5  144   30 5535   18   51   36   28  224   92   25  104\n",
      "    4  226   65   16   38 1334   88   12   16  283    5   16 4472  113\n",
      "  103   32   15   16 5345   19  178   32    0    0    0    0    0    0\n",
      "    0    0    0    0    0    0    0    0    0    0    0    0    0    0\n",
      "    0    0    0    0    0    0    0    0    0    0    0    0    0    0\n",
      "    0    0    0    0    0    0    0    0    0    0    0    0    0    0\n",
      "    0    0    0    0    0    0    0    0    0    0    0    0    0    0\n",
      "    0    0    0    0    0    0    0    0    0    0    0    0    0    0\n",
      "    0    0    0    0    0    0    0    0    0    0    0    0    0    0\n",
      "    0    0    0    0    0    0    0    0    0    0    0    0    0    0\n",
      "    0    0    0    0    0    0    0    0    0    0    0    0    0    0\n",
      "    0    0    0    0    0    0    0    0    0    0    0    0    0    0\n",
      "    0    0    0    0    0    0    0    0    0    0    0    0    0    0\n",
      "    0    0    0    0    0    0    0    0    0    0    0    0    0    0\n",
      "    0    0    0    0    0    0    0    0    0    0    0    0    0    0\n",
      "    0    0    0    0    0    0    0    0    0    0    0    0    0    0\n",
      "    0    0    0    0    0    0    0    0    0    0    0    0    0    0\n",
      "    0    0    0    0    0    0    0    0    0    0    0    0    0    0\n",
      "    0    0    0    0    0    0    0    0    0    0    0    0    0    0\n",
      "    0    0    0    0    0    0    0    0    0    0    0    0    0    0\n",
      "    0    0    0    0    0    0    0    0    0    0    0    0    0    0\n",
      "    0    0    0    0    0    0    0    0    0    0    0    0    0    0\n",
      "    0    0    0    0    0    0    0    0    0    0]\n"
     ]
    }
   ],
   "source": [
    "max_length = 500\n",
    "\n",
    "train_data = keras.preprocessing.sequence.pad_sequences(\n",
    "    train_data, value=word_index['<PAD>'], padding='post', maxlen=max_length)\n",
    "\n",
    "test_data = keras.preprocessing.sequence.pad_sequences(\n",
    "    test_data, value=word_index['<PAD>'], padding='post', maxlen=max_length)\n",
    "\n",
    "print(train_data[0])"
   ]
  },
  {
   "cell_type": "code",
   "execution_count": 8,
   "metadata": {},
   "outputs": [
    {
     "name": "stdout",
     "output_type": "stream",
     "text": [
      "Model: \"sequential\"\n",
      "_________________________________________________________________\n",
      "Layer (type)                 Output Shape              Param #   \n",
      "=================================================================\n",
      "embedding (Embedding)        (None, 500, 16)           160000    \n",
      "_________________________________________________________________\n",
      "global_average_pooling1d (Gl (None, 16)                0         \n",
      "_________________________________________________________________\n",
      "dense (Dense)                (None, 64)                1088      \n",
      "_________________________________________________________________\n",
      "dense_1 (Dense)              (None, 1)                 65        \n",
      "=================================================================\n",
      "Total params: 161,153\n",
      "Trainable params: 161,153\n",
      "Non-trainable params: 0\n",
      "_________________________________________________________________\n"
     ]
    }
   ],
   "source": [
    "embedding_dim = 16\n",
    "batch_size = 128\n",
    "\n",
    "model = keras.models.Sequential([\n",
    "    keras.layers.Embedding(vocab_size, embedding_dim, input_length=max_length),\n",
    "    keras.layers.GlobalAveragePooling1D(),\n",
    "    keras.layers.Dense(64, activation=\"relu\"),\n",
    "    keras.layers.Dense(1, activation=\"sigmoid\")\n",
    "])\n",
    "\n",
    "model.summary()\n",
    "\n",
    "model.compile(optimizer='adam', loss='binary_crossentropy', metrics=['accuracy'])"
   ]
  },
  {
   "cell_type": "code",
   "execution_count": 9,
   "metadata": {},
   "outputs": [
    {
     "name": "stdout",
     "output_type": "stream",
     "text": [
      "Epoch 1/30\n",
      "157/157 [==============================] - 1s 6ms/step - loss: 0.6840 - accuracy: 0.6037 - val_loss: 0.6513 - val_accuracy: 0.7620\n",
      "Epoch 2/30\n",
      "157/157 [==============================] - 1s 6ms/step - loss: 0.5505 - accuracy: 0.7952 - val_loss: 0.4493 - val_accuracy: 0.8338\n",
      "Epoch 3/30\n",
      "157/157 [==============================] - 1s 6ms/step - loss: 0.3643 - accuracy: 0.8730 - val_loss: 0.3432 - val_accuracy: 0.8706\n",
      "Epoch 4/30\n",
      "157/157 [==============================] - 1s 6ms/step - loss: 0.2834 - accuracy: 0.8962 - val_loss: 0.3088 - val_accuracy: 0.8796\n",
      "Epoch 5/30\n",
      "157/157 [==============================] - 1s 6ms/step - loss: 0.2418 - accuracy: 0.9105 - val_loss: 0.2908 - val_accuracy: 0.8880\n",
      "Epoch 6/30\n",
      "157/157 [==============================] - 1s 6ms/step - loss: 0.2132 - accuracy: 0.9236 - val_loss: 0.2827 - val_accuracy: 0.8920\n",
      "Epoch 7/30\n",
      "157/157 [==============================] - 1s 6ms/step - loss: 0.1907 - accuracy: 0.9313 - val_loss: 0.2792 - val_accuracy: 0.8934\n",
      "Epoch 8/30\n",
      "157/157 [==============================] - 1s 6ms/step - loss: 0.1729 - accuracy: 0.9395 - val_loss: 0.2807 - val_accuracy: 0.8932\n",
      "Epoch 9/30\n",
      "157/157 [==============================] - 1s 6ms/step - loss: 0.1578 - accuracy: 0.9448 - val_loss: 0.2816 - val_accuracy: 0.8962\n",
      "Epoch 10/30\n",
      "157/157 [==============================] - 1s 6ms/step - loss: 0.1434 - accuracy: 0.9514 - val_loss: 0.2867 - val_accuracy: 0.8950\n",
      "Epoch 11/30\n",
      "157/157 [==============================] - 1s 6ms/step - loss: 0.1331 - accuracy: 0.9555 - val_loss: 0.2930 - val_accuracy: 0.8952\n",
      "Epoch 12/30\n",
      "157/157 [==============================] - 1s 6ms/step - loss: 0.1223 - accuracy: 0.9596 - val_loss: 0.3044 - val_accuracy: 0.8920\n",
      "Epoch 13/30\n",
      "157/157 [==============================] - 1s 6ms/step - loss: 0.1125 - accuracy: 0.9636 - val_loss: 0.3115 - val_accuracy: 0.8920\n",
      "Epoch 14/30\n",
      "157/157 [==============================] - 1s 6ms/step - loss: 0.1026 - accuracy: 0.9683 - val_loss: 0.3214 - val_accuracy: 0.8950\n",
      "Epoch 15/30\n",
      "157/157 [==============================] - 1s 6ms/step - loss: 0.0946 - accuracy: 0.9711 - val_loss: 0.3335 - val_accuracy: 0.8926\n",
      "Epoch 16/30\n",
      "157/157 [==============================] - 1s 6ms/step - loss: 0.0869 - accuracy: 0.9735 - val_loss: 0.3449 - val_accuracy: 0.8926\n",
      "Epoch 17/30\n",
      "157/157 [==============================] - 1s 6ms/step - loss: 0.0799 - accuracy: 0.9765 - val_loss: 0.3577 - val_accuracy: 0.8894\n",
      "Epoch 18/30\n",
      "157/157 [==============================] - 1s 6ms/step - loss: 0.0737 - accuracy: 0.9787 - val_loss: 0.3707 - val_accuracy: 0.8898\n",
      "Epoch 19/30\n",
      "157/157 [==============================] - 1s 6ms/step - loss: 0.0677 - accuracy: 0.9811 - val_loss: 0.3862 - val_accuracy: 0.8864\n",
      "Epoch 20/30\n",
      "157/157 [==============================] - 1s 6ms/step - loss: 0.0614 - accuracy: 0.9828 - val_loss: 0.4011 - val_accuracy: 0.8858\n",
      "Epoch 21/30\n",
      "157/157 [==============================] - 1s 6ms/step - loss: 0.0563 - accuracy: 0.9851 - val_loss: 0.4158 - val_accuracy: 0.8864\n",
      "Epoch 22/30\n",
      "157/157 [==============================] - 1s 6ms/step - loss: 0.0523 - accuracy: 0.9865 - val_loss: 0.4471 - val_accuracy: 0.8804\n",
      "Epoch 23/30\n",
      "157/157 [==============================] - 1s 6ms/step - loss: 0.0463 - accuracy: 0.9888 - val_loss: 0.4495 - val_accuracy: 0.8818\n",
      "Epoch 24/30\n",
      "157/157 [==============================] - 1s 6ms/step - loss: 0.0423 - accuracy: 0.9903 - val_loss: 0.4682 - val_accuracy: 0.8804\n",
      "Epoch 25/30\n",
      "157/157 [==============================] - 1s 6ms/step - loss: 0.0382 - accuracy: 0.9915 - val_loss: 0.4907 - val_accuracy: 0.8796\n",
      "Epoch 26/30\n",
      "157/157 [==============================] - 1s 6ms/step - loss: 0.0344 - accuracy: 0.9926 - val_loss: 0.5046 - val_accuracy: 0.8812\n",
      "Epoch 27/30\n",
      "157/157 [==============================] - 1s 6ms/step - loss: 0.0313 - accuracy: 0.9937 - val_loss: 0.5222 - val_accuracy: 0.8810\n",
      "Epoch 28/30\n",
      "157/157 [==============================] - 1s 6ms/step - loss: 0.0279 - accuracy: 0.9942 - val_loss: 0.5415 - val_accuracy: 0.8810\n",
      "Epoch 29/30\n",
      "157/157 [==============================] - 1s 6ms/step - loss: 0.0250 - accuracy: 0.9954 - val_loss: 0.5660 - val_accuracy: 0.8778\n",
      "Epoch 30/30\n",
      "157/157 [==============================] - 1s 6ms/step - loss: 0.0220 - accuracy: 0.9966 - val_loss: 0.5905 - val_accuracy: 0.8772\n",
      "Wall time: 27.2 s\n"
     ]
    }
   ],
   "source": [
    "%%time\n",
    "history = model.fit(train_data, train_labels, epochs=30, batch_size=batch_size, validation_split=0.2)"
   ]
  },
  {
   "cell_type": "code",
   "execution_count": 10,
   "metadata": {},
   "outputs": [
    {
     "data": {
      "image/png": "[encoded data removed]",
      "text/plain": [
       "<Figure size 576x360 with 1 Axes>"
      ]
     },
     "metadata": {
      "needs_background": "light"
     },
     "output_type": "display_data"
    }
   ],
   "source": [
    "def plot_learning_curves(history):\n",
    "    pd.DataFrame(history.history).plot(figsize=(8, 5))\n",
    "    plt.grid(True)\n",
    "    plt.gca().set_ylim(0, 1)\n",
    "    plt.show()\n",
    "\n",
    "plot_learning_curves(history)  "
   ]
  },
  {
   "cell_type": "code",
   "execution_count": 11,
   "metadata": {},
   "outputs": [
    {
     "name": "stdout",
     "output_type": "stream",
     "text": [
      "196/196 [==============================] - 0s 1ms/step - loss: 0.6381 - accuracy: 0.8604\n"
     ]
    },
    {
     "data": {
      "text/plain": [
       "[0.6381376385688782, 0.8603600263595581]"
      ]
     },
     "execution_count": 11,
     "metadata": {},
     "output_type": "execute_result"
    }
   ],
   "source": [
    "model.evaluate(test_data, test_labels, batch_size=batch_size)"
   ]
  },
  {
   "cell_type": "code",
   "execution_count": null,
   "metadata": {},
   "outputs": [],
   "source": []
  }
 ],
 "metadata": {
  "kernelspec": {
   "display_name": "tf2_gpu",
   "language": "python",
   "name": "tf2_gpu"
  },
  "language_info": {
   "codemirror_mode": {
    "name": "ipython",
    "version": 3
   },
   "file_extension": ".py",
   "mimetype": "text/x-python",
   "name": "python",
   "nbconvert_exporter": "python",
   "pygments_lexer": "ipython3",
   "version": "3.8.3"
  }
 },
 "nbformat": 4,
 "nbformat_minor": 4
}
