{
 "cells": [
  {
   "cell_type": "code",
   "execution_count": 1,
   "metadata": {},
   "outputs": [],
   "source": [
    "import matplotlib as mpl\n",
    "import matplotlib.pyplot as plt\n",
    "%matplotlib inline\n",
    "import numpy as np\n",
    "import sklearn\n",
    "import pandas as pd\n",
    "import os\n",
    "import sys\n",
    "import time\n",
    "import tensorflow as tf\n",
    "from tensorflow import keras"
   ]
  },
  {
   "cell_type": "code",
   "execution_count": 2,
   "metadata": {},
   "outputs": [],
   "source": [
    "from sklearn.datasets import fetch_california_housing\n",
    "\n",
    "housing = fetch_california_housing()"
   ]
  },
  {
   "cell_type": "code",
   "execution_count": 3,
   "metadata": {},
   "outputs": [
    {
     "name": "stdout",
     "output_type": "stream",
     "text": [
      "(11610, 8) (11610,)\n",
      "(3870, 8) (3870,)\n",
      "(5160, 8) (5160,)\n"
     ]
    }
   ],
   "source": [
    "from sklearn.model_selection import train_test_split\n",
    "\n",
    "x_train_all, x_test, y_train_all, y_test = train_test_split(housing.data, housing.target, random_state=7)\n",
    "x_train, x_valid, y_train, y_valid = train_test_split(x_train_all, y_train_all, random_state=11)\n",
    "\n",
    "print(x_train.shape, y_train.shape)\n",
    "print(x_valid.shape, y_valid.shape)\n",
    "print(x_test.shape, y_test.shape)"
   ]
  },
  {
   "cell_type": "code",
   "execution_count": 4,
   "metadata": {},
   "outputs": [],
   "source": [
    "from sklearn.preprocessing import StandardScaler\n",
    "\n",
    "scaler = StandardScaler()\n",
    "x_train_scaled = scaler.fit_transform(x_train)\n",
    "x_valid_scaled = scaler.transform(x_valid)\n",
    "x_test_scaled = scaler.transform(x_test)"
   ]
  },
  {
   "cell_type": "code",
   "execution_count": 5,
   "metadata": {},
   "outputs": [],
   "source": [
    "output_dir = \"generate_csv\"\n",
    "if not os.path.exists(output_dir):\n",
    "    os.mkdir(output_dir)\n",
    "    \n",
    "def save_to_csv(output_dir, data, name_prefix, header=None, n_parts=10):\n",
    "    path_format = os.path.join(output_dir, \"{}_{:02d}.csv\")\n",
    "    filenames = []\n",
    "    \n",
    "    for file_idx, row_indices in enumerate(np.array_split(np.arange(len(data)), n_parts)):\n",
    "        part_csv = path_format.format(name_prefix, file_idx)\n",
    "        filenames.append(part_csv)\n",
    "        \n",
    "        with open(part_csv, \"wt\", encoding=\"utf-8\") as f:\n",
    "            if header is not None:\n",
    "                f.write(header + \"\\n\")\n",
    "            for row_index in row_indices:\n",
    "                f.write(\",\".join([repr(col) for col in data[row_index]]))\n",
    "                f.write(\"\\n\")\n",
    "            \n",
    "    return filenames\n",
    "\n",
    "train_data = np.c_[x_train_scaled, y_train]\n",
    "valid_data = np.c_[x_valid_scaled, y_valid]\n",
    "test_data = np.c_[x_test_scaled, y_test]\n",
    "\n",
    "header_cols = housing.feature_names + [\"MidianHouseValue\"]\n",
    "header_str = \",\".join(header_cols)\n",
    "\n",
    "train_filenames = save_to_csv(output_dir, train_data, \"train\", header_str, n_parts=20)\n",
    "valid_filenames = save_to_csv(output_dir, valid_data, \"valid\", header_str, n_parts=20)\n",
    "test_filenames = save_to_csv(output_dir, test_data, \"test\", header_str, n_parts=10)"
   ]
  },
  {
   "cell_type": "code",
   "execution_count": 6,
   "metadata": {},
   "outputs": [
    {
     "name": "stdout",
     "output_type": "stream",
     "text": [
      "train_filenames:\n",
      "['generate_csv\\\\train_00.csv',\n",
      " 'generate_csv\\\\train_01.csv',\n",
      " 'generate_csv\\\\train_02.csv',\n",
      " 'generate_csv\\\\train_03.csv',\n",
      " 'generate_csv\\\\train_04.csv',\n",
      " 'generate_csv\\\\train_05.csv',\n",
      " 'generate_csv\\\\train_06.csv',\n",
      " 'generate_csv\\\\train_07.csv',\n",
      " 'generate_csv\\\\train_08.csv',\n",
      " 'generate_csv\\\\train_09.csv',\n",
      " 'generate_csv\\\\train_10.csv',\n",
      " 'generate_csv\\\\train_11.csv',\n",
      " 'generate_csv\\\\train_12.csv',\n",
      " 'generate_csv\\\\train_13.csv',\n",
      " 'generate_csv\\\\train_14.csv',\n",
      " 'generate_csv\\\\train_15.csv',\n",
      " 'generate_csv\\\\train_16.csv',\n",
      " 'generate_csv\\\\train_17.csv',\n",
      " 'generate_csv\\\\train_18.csv',\n",
      " 'generate_csv\\\\train_19.csv']\n",
      "valid_filenames:\n",
      "['generate_csv\\\\valid_00.csv',\n",
      " 'generate_csv\\\\valid_01.csv',\n",
      " 'generate_csv\\\\valid_02.csv',\n",
      " 'generate_csv\\\\valid_03.csv',\n",
      " 'generate_csv\\\\valid_04.csv',\n",
      " 'generate_csv\\\\valid_05.csv',\n",
      " 'generate_csv\\\\valid_06.csv',\n",
      " 'generate_csv\\\\valid_07.csv',\n",
      " 'generate_csv\\\\valid_08.csv',\n",
      " 'generate_csv\\\\valid_09.csv',\n",
      " 'generate_csv\\\\valid_10.csv',\n",
      " 'generate_csv\\\\valid_11.csv',\n",
      " 'generate_csv\\\\valid_12.csv',\n",
      " 'generate_csv\\\\valid_13.csv',\n",
      " 'generate_csv\\\\valid_14.csv',\n",
      " 'generate_csv\\\\valid_15.csv',\n",
      " 'generate_csv\\\\valid_16.csv',\n",
      " 'generate_csv\\\\valid_17.csv',\n",
      " 'generate_csv\\\\valid_18.csv',\n",
      " 'generate_csv\\\\valid_19.csv']\n",
      "test_filenames:\n",
      "['generate_csv\\\\test_00.csv',\n",
      " 'generate_csv\\\\test_01.csv',\n",
      " 'generate_csv\\\\test_02.csv',\n",
      " 'generate_csv\\\\test_03.csv',\n",
      " 'generate_csv\\\\test_04.csv',\n",
      " 'generate_csv\\\\test_05.csv',\n",
      " 'generate_csv\\\\test_06.csv',\n",
      " 'generate_csv\\\\test_07.csv',\n",
      " 'generate_csv\\\\test_08.csv',\n",
      " 'generate_csv\\\\test_09.csv']\n"
     ]
    }
   ],
   "source": [
    "import pprint\n",
    "print(\"train_filenames:\")\n",
    "pprint.pprint(train_filenames)\n",
    "print(\"valid_filenames:\")\n",
    "pprint.pprint(valid_filenames)\n",
    "print(\"test_filenames:\")\n",
    "pprint.pprint(test_filenames)"
   ]
  },
  {
   "cell_type": "code",
   "execution_count": 7,
   "metadata": {},
   "outputs": [
    {
     "name": "stdout",
     "output_type": "stream",
     "text": [
      "tf.Tensor(b'generate_csv\\\\train_03.csv', shape=(), dtype=string)\n",
      "tf.Tensor(b'generate_csv\\\\train_13.csv', shape=(), dtype=string)\n",
      "tf.Tensor(b'generate_csv\\\\train_10.csv', shape=(), dtype=string)\n",
      "tf.Tensor(b'generate_csv\\\\train_15.csv', shape=(), dtype=string)\n",
      "tf.Tensor(b'generate_csv\\\\train_05.csv', shape=(), dtype=string)\n",
      "tf.Tensor(b'generate_csv\\\\train_12.csv', shape=(), dtype=string)\n",
      "tf.Tensor(b'generate_csv\\\\train_01.csv', shape=(), dtype=string)\n",
      "tf.Tensor(b'generate_csv\\\\train_04.csv', shape=(), dtype=string)\n",
      "tf.Tensor(b'generate_csv\\\\train_17.csv', shape=(), dtype=string)\n",
      "tf.Tensor(b'generate_csv\\\\train_06.csv', shape=(), dtype=string)\n",
      "tf.Tensor(b'generate_csv\\\\train_00.csv', shape=(), dtype=string)\n",
      "tf.Tensor(b'generate_csv\\\\train_02.csv', shape=(), dtype=string)\n",
      "tf.Tensor(b'generate_csv\\\\train_16.csv', shape=(), dtype=string)\n",
      "tf.Tensor(b'generate_csv\\\\train_14.csv', shape=(), dtype=string)\n",
      "tf.Tensor(b'generate_csv\\\\train_11.csv', shape=(), dtype=string)\n",
      "tf.Tensor(b'generate_csv\\\\train_07.csv', shape=(), dtype=string)\n",
      "tf.Tensor(b'generate_csv\\\\train_09.csv', shape=(), dtype=string)\n",
      "tf.Tensor(b'generate_csv\\\\train_19.csv', shape=(), dtype=string)\n",
      "tf.Tensor(b'generate_csv\\\\train_08.csv', shape=(), dtype=string)\n",
      "tf.Tensor(b'generate_csv\\\\train_18.csv', shape=(), dtype=string)\n"
     ]
    }
   ],
   "source": [
    "# 1. filename -> dataset\n",
    "# 2. read file -> dataset -> datasets -> merge\n",
    "# parse csv\n",
    "\n",
    "filename_dataset = tf.data.Dataset.list_files(train_filenames)\n",
    "for filename in filename_dataset:\n",
    "    print(filename)"
   ]
  },
  {
   "cell_type": "code",
   "execution_count": 9,
   "metadata": {},
   "outputs": [
    {
     "name": "stdout",
     "output_type": "stream",
     "text": [
      "b'-1.1199749330438333,-1.329843308393715,0.1419004518620726,0.4658136987980791,-0.10301777467500105,-0.10744184416176107,-0.7950524078397521,1.5304716763409,0.66'\n",
      "b'-1.1199749330438333,-1.329843308393715,0.1419004518620726,0.4658136987980791,-0.10301777467500105,-0.10744184416176107,-0.7950524078397521,1.5304716763409,0.66'\n",
      "b'-1.1199749330438333,-1.329843308393715,0.1419004518620726,0.4658136987980791,-0.10301777467500105,-0.10744184416176107,-0.7950524078397521,1.5304716763409,0.66'\n",
      "b'-1.1199749330438333,-1.329843308393715,0.1419004518620726,0.4658136987980791,-0.10301777467500105,-0.10744184416176107,-0.7950524078397521,1.5304716763409,0.66'\n",
      "b'-1.1199749330438333,-1.329843308393715,0.1419004518620726,0.4658136987980791,-0.10301777467500105,-0.10744184416176107,-0.7950524078397521,1.5304716763409,0.66'\n",
      "b'-0.9490938885377456,0.6726626072973063,0.28370554761513944,0.10655529643465292,-0.6546477749692311,-0.0623949278698749,0.21273656121863005,0.0024704978154519064,0.607'\n",
      "b'-0.9490938885377456,0.6726626072973063,0.28370554761513944,0.10655529643465292,-0.6546477749692311,-0.0623949278698749,0.21273656121863005,0.0024704978154519064,0.607'\n",
      "b'-0.9490938885377456,0.6726626072973063,0.28370554761513944,0.10655529643465292,-0.6546477749692311,-0.0623949278698749,0.21273656121863005,0.0024704978154519064,0.607'\n",
      "b'-0.9490938885377456,0.6726626072973063,0.28370554761513944,0.10655529643465292,-0.6546477749692311,-0.0623949278698749,0.21273656121863005,0.0024704978154519064,0.607'\n",
      "b'-0.9490938885377456,0.6726626072973063,0.28370554761513944,0.10655529643465292,-0.6546477749692311,-0.0623949278698749,0.21273656121863005,0.0024704978154519064,0.607'\n",
      "b'3.8743126570888804,-0.8492418886278699,1.2254810098923188,-0.023587924660354292,0.10202890306594632,0.03335714649304235,-1.2289615472954436,1.1709419872760878,5.00001'\n",
      "b'3.8743126570888804,-0.8492418886278699,1.2254810098923188,-0.023587924660354292,0.10202890306594632,0.03335714649304235,-1.2289615472954436,1.1709419872760878,5.00001'\n",
      "b'3.8743126570888804,-0.8492418886278699,1.2254810098923188,-0.023587924660354292,0.10202890306594632,0.03335714649304235,-1.2289615472954436,1.1709419872760878,5.00001'\n",
      "b'3.8743126570888804,-0.8492418886278699,1.2254810098923188,-0.023587924660354292,0.10202890306594632,0.03335714649304235,-1.2289615472954436,1.1709419872760878,5.00001'\n",
      "b'3.8743126570888804,-0.8492418886278699,1.2254810098923188,-0.023587924660354292,0.10202890306594632,0.03335714649304235,-1.2289615472954436,1.1709419872760878,5.00001'\n"
     ]
    }
   ],
   "source": [
    "n_readers = 5\n",
    "dataset = filename_dataset.interleave(\n",
    "    lambda fliename: tf.data.TextLineDataset(filename).skip(1),\n",
    "    cycle_length=n_readers\n",
    ")\n",
    "for line in dataset.take(15):\n",
    "    print(line.numpy())"
   ]
  },
  {
   "cell_type": "code",
   "execution_count": 12,
   "metadata": {},
   "outputs": [
    {
     "name": "stdout",
     "output_type": "stream",
     "text": [
      "[<tf.Tensor: shape=(), dtype=int32, numpy=1>, <tf.Tensor: shape=(), dtype=int32, numpy=2>, <tf.Tensor: shape=(), dtype=int32, numpy=3>, <tf.Tensor: shape=(), dtype=int32, numpy=4>, <tf.Tensor: shape=(), dtype=int32, numpy=5>]\n"
     ]
    }
   ],
   "source": [
    "# tf.io.decode_csv(str, record_defaults)\n",
    "\n",
    "sample_str = '1,2,3,4,5'\n",
    "record_defaults = [tf.constant(0, dtype=tf.int32)] * 5\n",
    "parse_fields = tf.io.decode_csv(sample_str, record_defaults)\n",
    "print(parse_fields)"
   ]
  },
  {
   "cell_type": "code",
   "execution_count": 13,
   "metadata": {},
   "outputs": [
    {
     "name": "stdout",
     "output_type": "stream",
     "text": [
      "[<tf.Tensor: shape=(), dtype=int32, numpy=1>, <tf.Tensor: shape=(), dtype=int32, numpy=2>, <tf.Tensor: shape=(), dtype=float32, numpy=3.0>, <tf.Tensor: shape=(), dtype=string, numpy=b'4'>, <tf.Tensor: shape=(), dtype=float32, numpy=5.0>]\n"
     ]
    }
   ],
   "source": [
    "# tf.io.decode_csv(str, record_defaults)\n",
    "\n",
    "sample_str = '1,2,3,4,5'\n",
    "record_defaults = [\n",
    "    tf.constant(0, dtype=tf.int32),\n",
    "    0,\n",
    "    np.nan,\n",
    "    \"hello\",\n",
    "    tf.constant([])]\n",
    "parse_fields = tf.io.decode_csv(sample_str, record_defaults)\n",
    "print(parse_fields)"
   ]
  },
  {
   "cell_type": "code",
   "execution_count": 14,
   "metadata": {},
   "outputs": [
    {
     "name": "stdout",
     "output_type": "stream",
     "text": [
      "Field 4 is required but missing in record 0! [Op:DecodeCSV]\n"
     ]
    }
   ],
   "source": [
    "try:\n",
    "    parse_fields = tf.io.decode_csv(',,,,', record_defaults)\n",
    "except tf.errors.InvalidArgumentError as ex:\n",
    "    print(ex)"
   ]
  },
  {
   "cell_type": "code",
   "execution_count": 15,
   "metadata": {},
   "outputs": [
    {
     "name": "stdout",
     "output_type": "stream",
     "text": [
      "Expect 5 fields but have 7 in record 0 [Op:DecodeCSV]\n"
     ]
    }
   ],
   "source": [
    "try:\n",
    "    parse_fields = tf.io.decode_csv('1,2,3,4,5,6,7', record_defaults)\n",
    "except tf.errors.InvalidArgumentError as ex:\n",
    "    print(ex)"
   ]
  },
  {
   "cell_type": "code",
   "execution_count": 19,
   "metadata": {},
   "outputs": [
    {
     "data": {
      "text/plain": [
       "(<tf.Tensor: shape=(8,), dtype=float32, numpy=\n",
       " array([ 3.8743126 , -0.8492419 ,  1.225481  , -0.02358793,  0.10202891,\n",
       "         0.03335715, -1.2289616 ,  1.170942  ], dtype=float32)>,\n",
       " <tf.Tensor: shape=(1,), dtype=float32, numpy=array([5.00001], dtype=float32)>)"
      ]
     },
     "execution_count": 19,
     "metadata": {},
     "output_type": "execute_result"
    }
   ],
   "source": [
    "def parse_csv_line(line, n_fields=9):\n",
    "    defs = [tf.constant(np.nan)] * n_fields\n",
    "    parse_fields = tf.io.decode_csv(line, record_defaults=defs)\n",
    "    x = tf.stack(parse_fields[0:-1])\n",
    "    y = tf.stack(parse_fields[-1:])\n",
    "    return x,y\n",
    "\n",
    "parse_csv_line(b'3.8743126570888804,-0.8492418886278699,1.2254810098923188,-0.023587924660354292,0.10202890306594632,0.03335714649304235,-1.2289615472954436,1.1709419872760878,5.00001',\n",
    "              n_fields=9)"
   ]
  },
  {
   "cell_type": "code",
   "execution_count": 20,
   "metadata": {},
   "outputs": [
    {
     "name": "stdout",
     "output_type": "stream",
     "text": [
      "WARNING:tensorflow:AutoGraph could not transform <function csv_reader_dataset.<locals>.<lambda> at 0x0000022A3F9561F0> and will run it as-is.\n",
      "Cause: could not parse the source code:\n",
      "\n",
      "        lambda filename: tf.data.TextLineDataset(filename).skip(1), cycle_length=n_readers\n",
      "\n",
      "This error may be avoided by creating the lambda in a standalone statement.\n",
      "\n",
      "To silence this warning, decorate the function with @tf.autograph.experimental.do_not_convert\n",
      "WARNING: AutoGraph could not transform <function csv_reader_dataset.<locals>.<lambda> at 0x0000022A3F9561F0> and will run it as-is.\n",
      "Cause: could not parse the source code:\n",
      "\n",
      "        lambda filename: tf.data.TextLineDataset(filename).skip(1), cycle_length=n_readers\n",
      "\n",
      "This error may be avoided by creating the lambda in a standalone statement.\n",
      "\n",
      "To silence this warning, decorate the function with @tf.autograph.experimental.do_not_convert\n",
      "x:\n",
      "<tf.Tensor: shape=(3, 8), dtype=float32, numpy=\n",
      "array([[-8.2195884e-01,  1.8741661e+00,  1.8212350e-01, -3.1700194e-02,\n",
      "        -6.0111791e-01, -1.4337493e-01,  1.0852206e+00, -8.6139947e-01],\n",
      "       [ 1.5782312e-01,  4.3236190e-01,  3.3799481e-01, -1.5880305e-02,\n",
      "        -3.7338907e-01, -5.3052455e-02,  8.0061346e-01, -1.2359096e+00],\n",
      "       [ 4.9710345e-02, -8.4924191e-01, -6.2146995e-02,  1.7878747e-01,\n",
      "        -8.0253541e-01,  5.0660671e-04,  6.4664572e-01, -1.1060793e+00]],\n",
      "      dtype=float32)>\n",
      "y:\n",
      "<tf.Tensor: shape=(3, 1), dtype=float32, numpy=\n",
      "array([[1.054],\n",
      "       [3.169],\n",
      "       [2.286]], dtype=float32)>\n",
      "x:\n",
      "<tf.Tensor: shape=(3, 8), dtype=float32, numpy=\n",
      "array([[-0.32652634,  0.4323619 , -0.09345459, -0.08402992,  0.8460036 ,\n",
      "        -0.02663165, -0.56176794,  0.1422876 ],\n",
      "       [-0.097193  , -1.2497431 ,  0.36232963,  0.02690608,  1.0338118 ,\n",
      "         0.04588159,  1.3418335 , -1.635387  ],\n",
      "       [-0.46794146, -0.92934215,  0.11909926, -0.06047011,  0.30344644,\n",
      "        -0.02185189,  1.8737221 , -1.0411643 ]], dtype=float32)>\n",
      "y:\n",
      "<tf.Tensor: shape=(3, 1), dtype=float32, numpy=\n",
      "array([[2.431],\n",
      "       [1.832],\n",
      "       [1.012]], dtype=float32)>\n"
     ]
    }
   ],
   "source": [
    "# 1. filename -> dataset\n",
    "# 2. read file -> dataset -> datasets -> merge\n",
    "# parse csv\n",
    "\n",
    "def csv_reader_dataset(filenames, n_readers=5, batch_size=32, n_parse_threads=5, shuffle_buffer_size=10000):\n",
    "    dataset = tf.data.Dataset.list_files(filenames)\n",
    "    dataset = dataset.repeat()\n",
    "    dataset = dataset.interleave(\n",
    "        lambda filename: tf.data.TextLineDataset(filename).skip(1), cycle_length=n_readers\n",
    "    )\n",
    "    dataset.shuffle(shuffle_buffer_size)\n",
    "    dataset = dataset.map(parse_csv_line, num_parallel_calls = n_parse_threads)\n",
    "    dataset = dataset.batch(batch_size)\n",
    "    return dataset\n",
    "\n",
    "train_set = csv_reader_dataset(train_filenames, batch_size=3)\n",
    "for x_batch, y_batch in train_set.take(2):\n",
    "    print(\"x:\")\n",
    "    pprint.pprint(x_batch)\n",
    "    print(\"y:\")\n",
    "    pprint.pprint(y_batch)"
   ]
  },
  {
   "cell_type": "code",
   "execution_count": 22,
   "metadata": {},
   "outputs": [
    {
     "name": "stdout",
     "output_type": "stream",
     "text": [
      "WARNING:tensorflow:AutoGraph could not transform <function csv_reader_dataset.<locals>.<lambda> at 0x0000022A413474C0> and will run it as-is.\n",
      "Cause: could not parse the source code:\n",
      "\n",
      "        lambda filename: tf.data.TextLineDataset(filename).skip(1), cycle_length=n_readers\n",
      "\n",
      "This error may be avoided by creating the lambda in a standalone statement.\n",
      "\n",
      "To silence this warning, decorate the function with @tf.autograph.experimental.do_not_convert\n",
      "WARNING: AutoGraph could not transform <function csv_reader_dataset.<locals>.<lambda> at 0x0000022A413474C0> and will run it as-is.\n",
      "Cause: could not parse the source code:\n",
      "\n",
      "        lambda filename: tf.data.TextLineDataset(filename).skip(1), cycle_length=n_readers\n",
      "\n",
      "This error may be avoided by creating the lambda in a standalone statement.\n",
      "\n",
      "To silence this warning, decorate the function with @tf.autograph.experimental.do_not_convert\n",
      "WARNING:tensorflow:AutoGraph could not transform <function csv_reader_dataset.<locals>.<lambda> at 0x0000022A41347940> and will run it as-is.\n",
      "Cause: could not parse the source code:\n",
      "\n",
      "        lambda filename: tf.data.TextLineDataset(filename).skip(1), cycle_length=n_readers\n",
      "\n",
      "This error may be avoided by creating the lambda in a standalone statement.\n",
      "\n",
      "To silence this warning, decorate the function with @tf.autograph.experimental.do_not_convert\n",
      "WARNING: AutoGraph could not transform <function csv_reader_dataset.<locals>.<lambda> at 0x0000022A41347940> and will run it as-is.\n",
      "Cause: could not parse the source code:\n",
      "\n",
      "        lambda filename: tf.data.TextLineDataset(filename).skip(1), cycle_length=n_readers\n",
      "\n",
      "This error may be avoided by creating the lambda in a standalone statement.\n",
      "\n",
      "To silence this warning, decorate the function with @tf.autograph.experimental.do_not_convert\n",
      "WARNING:tensorflow:AutoGraph could not transform <function csv_reader_dataset.<locals>.<lambda> at 0x0000022A3FD57790> and will run it as-is.\n",
      "Cause: could not parse the source code:\n",
      "\n",
      "        lambda filename: tf.data.TextLineDataset(filename).skip(1), cycle_length=n_readers\n",
      "\n",
      "This error may be avoided by creating the lambda in a standalone statement.\n",
      "\n",
      "To silence this warning, decorate the function with @tf.autograph.experimental.do_not_convert\n",
      "WARNING: AutoGraph could not transform <function csv_reader_dataset.<locals>.<lambda> at 0x0000022A3FD57790> and will run it as-is.\n",
      "Cause: could not parse the source code:\n",
      "\n",
      "        lambda filename: tf.data.TextLineDataset(filename).skip(1), cycle_length=n_readers\n",
      "\n",
      "This error may be avoided by creating the lambda in a standalone statement.\n",
      "\n",
      "To silence this warning, decorate the function with @tf.autograph.experimental.do_not_convert\n"
     ]
    }
   ],
   "source": [
    "batch_size = 32\n",
    "train_set = csv_reader_dataset(train_filenames, batch_size=batch_size)\n",
    "valid_set = csv_reader_dataset(valid_filenames, batch_size=batch_size)\n",
    "test_set = csv_reader_dataset(test_filenames, batch_size=batch_size)"
   ]
  },
  {
   "cell_type": "code",
   "execution_count": 24,
   "metadata": {},
   "outputs": [
    {
     "name": "stdout",
     "output_type": "stream",
     "text": [
      "Epoch 1/100\n",
      "348/348 [==============================] - 0s 742us/step - loss: 2.5510 - val_loss: 1.2734\n",
      "Epoch 2/100\n",
      "348/348 [==============================] - 0s 771us/step - loss: 0.8922 - val_loss: 0.7987\n",
      "Epoch 3/100\n",
      "348/348 [==============================] - 0s 547us/step - loss: 0.6943 - val_loss: 0.7106\n",
      "Epoch 4/100\n",
      "348/348 [==============================] - 0s 519us/step - loss: 0.6368 - val_loss: 0.6791\n",
      "Epoch 5/100\n",
      "348/348 [==============================] - 0s 518us/step - loss: 0.6345 - val_loss: 0.6569\n",
      "Epoch 6/100\n",
      "348/348 [==============================] - 0s 508us/step - loss: 0.5752 - val_loss: 0.6316\n",
      "Epoch 7/100\n",
      "348/348 [==============================] - 0s 504us/step - loss: 0.5812 - val_loss: 0.6055\n",
      "Epoch 8/100\n",
      "348/348 [==============================] - 0s 510us/step - loss: 0.5481 - val_loss: 0.5886\n",
      "Epoch 9/100\n",
      "348/348 [==============================] - 0s 519us/step - loss: 0.5341 - val_loss: 0.5747\n",
      "Epoch 10/100\n",
      "348/348 [==============================] - 0s 513us/step - loss: 0.5279 - val_loss: 0.5615\n",
      "Epoch 11/100\n",
      "348/348 [==============================] - 0s 509us/step - loss: 0.5245 - val_loss: 0.5469\n",
      "Epoch 12/100\n",
      "348/348 [==============================] - 0s 507us/step - loss: 0.4959 - val_loss: 0.5334\n",
      "Epoch 13/100\n",
      "348/348 [==============================] - 0s 513us/step - loss: 0.5027 - val_loss: 0.5302\n",
      "Epoch 14/100\n",
      "348/348 [==============================] - 0s 524us/step - loss: 0.4851 - val_loss: 0.5154\n",
      "Epoch 15/100\n",
      "348/348 [==============================] - 0s 536us/step - loss: 0.4876 - val_loss: 0.5139\n",
      "Epoch 16/100\n",
      "348/348 [==============================] - 0s 539us/step - loss: 0.4730 - val_loss: 0.5044\n",
      "Epoch 17/100\n",
      "348/348 [==============================] - 0s 519us/step - loss: 0.4758 - val_loss: 0.5002\n",
      "Epoch 18/100\n",
      "348/348 [==============================] - 0s 516us/step - loss: 0.4704 - val_loss: 0.4952\n",
      "Epoch 19/100\n",
      "348/348 [==============================] - 0s 527us/step - loss: 0.4579 - val_loss: 0.4883\n",
      "Epoch 20/100\n",
      "348/348 [==============================] - 0s 508us/step - loss: 0.4604 - val_loss: 0.4846\n",
      "Epoch 21/100\n",
      "348/348 [==============================] - 0s 510us/step - loss: 0.4578 - val_loss: 0.4826\n",
      "Epoch 22/100\n",
      "348/348 [==============================] - 0s 509us/step - loss: 0.4544 - val_loss: 0.4768\n",
      "Epoch 23/100\n",
      "348/348 [==============================] - 0s 515us/step - loss: 0.4466 - val_loss: 0.4733\n",
      "Epoch 24/100\n",
      "348/348 [==============================] - 0s 510us/step - loss: 0.4494 - val_loss: 0.4689\n",
      "Epoch 25/100\n",
      "348/348 [==============================] - 0s 510us/step - loss: 0.4437 - val_loss: 0.4684\n",
      "Epoch 26/100\n",
      "348/348 [==============================] - 0s 516us/step - loss: 0.4383 - val_loss: 0.4613\n",
      "Epoch 27/100\n",
      "348/348 [==============================] - 0s 524us/step - loss: 0.4404 - val_loss: 0.4618\n",
      "Epoch 28/100\n",
      "348/348 [==============================] - 0s 507us/step - loss: 0.4319 - val_loss: 0.4573\n",
      "Epoch 29/100\n",
      "348/348 [==============================] - 0s 510us/step - loss: 0.4370 - val_loss: 0.4536\n",
      "Epoch 30/100\n",
      "348/348 [==============================] - 0s 510us/step - loss: 0.4315 - val_loss: 0.4510\n",
      "Epoch 31/100\n",
      "348/348 [==============================] - 0s 520us/step - loss: 0.4317 - val_loss: 0.4531\n",
      "Epoch 32/100\n",
      "348/348 [==============================] - 0s 515us/step - loss: 0.4312 - val_loss: 0.4521\n",
      "Epoch 33/100\n",
      "348/348 [==============================] - 0s 516us/step - loss: 0.4172 - val_loss: 0.4476\n",
      "Epoch 34/100\n",
      "348/348 [==============================] - 0s 519us/step - loss: 0.4249 - val_loss: 0.4441\n",
      "Epoch 35/100\n",
      "348/348 [==============================] - 0s 522us/step - loss: 0.4378 - val_loss: 0.4425\n"
     ]
    }
   ],
   "source": [
    "model = keras.models.Sequential([\n",
    "    keras.layers.Dense(30, activation=\"relu\", input_shape=[8]),\n",
    "    keras.layers.Dense(1)\n",
    "])\n",
    "\n",
    "model.compile(loss=\"mean_squared_error\", optimizer=keras.optimizers.SGD(0.001))\n",
    "callbacks = [keras.callbacks.EarlyStopping(patience=5, min_delta=1e-2)]\n",
    "\n",
    "history = model.fit(train_set,\n",
    "                    validation_data=valid_set,\n",
    "                    steps_per_epoch = 11160 // batch_size,\n",
    "                    validation_steps = 3837 // batch_size,\n",
    "                    epochs=100,\n",
    "                    callbacks=callbacks)"
   ]
  },
  {
   "cell_type": "code",
   "execution_count": 25,
   "metadata": {},
   "outputs": [
    {
     "data": {
      "image/png": "[encoded data removed]",
      "text/plain": [
       "<Figure size 576x360 with 1 Axes>"
      ]
     },
     "metadata": {
      "needs_background": "light"
     },
     "output_type": "display_data"
    }
   ],
   "source": [
    "def plot_learning_curves(history):\n",
    "    pd.DataFrame(history.history).plot(figsize=(8, 5))\n",
    "    plt.grid(True)\n",
    "    plt.gca().set_ylim(0, 1)\n",
    "    plt.show()\n",
    "\n",
    "plot_learning_curves(history)"
   ]
  },
  {
   "cell_type": "code",
   "execution_count": 27,
   "metadata": {},
   "outputs": [
    {
     "name": "stdout",
     "output_type": "stream",
     "text": [
      "161/161 [==============================] - 0s 372us/step - loss: 0.4390\n"
     ]
    },
    {
     "data": {
      "text/plain": [
       "0.43904489278793335"
      ]
     },
     "execution_count": 27,
     "metadata": {},
     "output_type": "execute_result"
    }
   ],
   "source": [
    "model.evaluate(test_set, steps=5160//batch_size)"
   ]
  },
  {
   "cell_type": "code",
   "execution_count": null,
   "metadata": {},
   "outputs": [],
   "source": []
  }
 ],
 "metadata": {
  "kernelspec": {
   "display_name": "tf2_gpu",
   "language": "python",
   "name": "tf2_gpu"
  },
  "language_info": {
   "codemirror_mode": {
    "name": "ipython",
    "version": 3
   },
   "file_extension": ".py",
   "mimetype": "text/x-python",
   "name": "python",
   "nbconvert_exporter": "python",
   "pygments_lexer": "ipython3",
   "version": "3.8.3"
  }
 },
 "nbformat": 4,
 "nbformat_minor": 4
}
