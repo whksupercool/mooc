{
 "cells": [
  {
   "cell_type": "code",
   "execution_count": 1,
   "metadata": {},
   "outputs": [],
   "source": [
    "import matplotlib as mpl\n",
    "import matplotlib.pyplot as plt\n",
    "%matplotlib inline\n",
    "import numpy as np\n",
    "import sklearn\n",
    "import pandas as pd\n",
    "import os\n",
    "import sys\n",
    "import time\n",
    "import tensorflow as tf\n",
    "\n",
    "from tensorflow import keras"
   ]
  },
  {
   "cell_type": "code",
   "execution_count": 2,
   "metadata": {},
   "outputs": [
    {
     "name": "stdout",
     "output_type": "stream",
     "text": [
      ".. _california_housing_dataset:\n",
      "\n",
      "California Housing dataset\n",
      "--------------------------\n",
      "\n",
      "**Data Set Characteristics:**\n",
      "\n",
      "    :Number of Instances: 20640\n",
      "\n",
      "    :Number of Attributes: 8 numeric, predictive attributes and the target\n",
      "\n",
      "    :Attribute Information:\n",
      "        - MedInc        median income in block\n",
      "        - HouseAge      median house age in block\n",
      "        - AveRooms      average number of rooms\n",
      "        - AveBedrms     average number of bedrooms\n",
      "        - Population    block population\n",
      "        - AveOccup      average house occupancy\n",
      "        - Latitude      house block latitude\n",
      "        - Longitude     house block longitude\n",
      "\n",
      "    :Missing Attribute Values: None\n",
      "\n",
      "This dataset was obtained from the StatLib repository.\n",
      "http://lib.stat.cmu.edu/datasets/\n",
      "\n",
      "The target variable is the median house value for California districts.\n",
      "\n",
      "This dataset was derived from the 1990 U.S. census, using one row per census\n",
      "block group. A block group is the smallest geographical unit for which the U.S.\n",
      "Census Bureau publishes sample data (a block group typically has a population\n",
      "of 600 to 3,000 people).\n",
      "\n",
      "It can be downloaded/loaded using the\n",
      ":func:`sklearn.datasets.fetch_california_housing` function.\n",
      "\n",
      ".. topic:: References\n",
      "\n",
      "    - Pace, R. Kelley and Ronald Barry, Sparse Spatial Autoregressions,\n",
      "      Statistics and Probability Letters, 33 (1997) 291-297\n",
      "\n",
      "(20640, 8)\n",
      "(20640,)\n"
     ]
    }
   ],
   "source": [
    "from sklearn.datasets import fetch_california_housing\n",
    "\n",
    "housing = fetch_california_housing()\n",
    "# print(housing.DESCR)\n",
    "print(housing.data.shape)\n",
    "print(housing.target.shape)"
   ]
  },
  {
   "cell_type": "code",
   "execution_count": 4,
   "metadata": {},
   "outputs": [
    {
     "name": "stdout",
     "output_type": "stream",
     "text": [
      "(11610, 8) (11610,)\n",
      "(3870, 8) (3870,)\n",
      "(5160, 8) (5160,)\n"
     ]
    }
   ],
   "source": [
    "from sklearn.model_selection import train_test_split\n",
    "\n",
    "x_train_all, x_test, y_train_all, y_test = train_test_split(housing.data, housing.target, random_state=7)\n",
    "x_train, x_valid, y_train, y_valid = train_test_split(x_train_all, y_train_all, random_state=11)\n",
    "\n",
    "print(x_train.shape, y_train.shape)\n",
    "print(x_valid.shape, y_valid.shape)\n",
    "print(x_test.shape, y_test.shape)"
   ]
  },
  {
   "cell_type": "code",
   "execution_count": 5,
   "metadata": {},
   "outputs": [],
   "source": [
    "from sklearn.preprocessing import StandardScaler\n",
    "\n",
    "scaler = StandardScaler()\n",
    "x_train_scaled = scaler.fit_transform(x_train)\n",
    "x_valid_scaled = scaler.transform(x_valid)\n",
    "x_test_scaled = scaler.transform(x_test)"
   ]
  },
  {
   "cell_type": "code",
   "execution_count": 6,
   "metadata": {},
   "outputs": [
    {
     "name": "stdout",
     "output_type": "stream",
     "text": [
      "Model: \"sequential\"\n",
      "_________________________________________________________________\n",
      "Layer (type)                 Output Shape              Param #   \n",
      "=================================================================\n",
      "dense (Dense)                (None, 30)                270       \n",
      "_________________________________________________________________\n",
      "dense_1 (Dense)              (None, 1)                 31        \n",
      "=================================================================\n",
      "Total params: 301\n",
      "Trainable params: 301\n",
      "Non-trainable params: 0\n",
      "_________________________________________________________________\n"
     ]
    }
   ],
   "source": [
    "model = keras.models.Sequential([\n",
    "    keras.layers.Dense(30, activation=\"relu\", input_shape=x_train.shape[1:]),\n",
    "    keras.layers.Dense(1)\n",
    "])\n",
    "model.summary()\n",
    "model.compile(loss=\"mean_squared_error\", optimizer=keras.optimizers.SGD(0.001))\n",
    "callbacks = [keras.callbacks.EarlyStopping(patience=5, min_delta=1e-2)]"
   ]
  },
  {
   "cell_type": "code",
   "execution_count": 7,
   "metadata": {},
   "outputs": [
    {
     "name": "stdout",
     "output_type": "stream",
     "text": [
      "Epoch 1/100\n",
      "363/363 [==============================] - 0s 694us/step - loss: 1.9146 - val_loss: 1.0711\n",
      "Epoch 2/100\n",
      "363/363 [==============================] - 0s 440us/step - loss: 0.9309 - val_loss: 0.9167\n",
      "Epoch 3/100\n",
      "363/363 [==============================] - 0s 440us/step - loss: 0.8155 - val_loss: 0.8343\n",
      "Epoch 4/100\n",
      "363/363 [==============================] - 0s 448us/step - loss: 0.7448 - val_loss: 0.7756\n",
      "Epoch 5/100\n",
      "363/363 [==============================] - 0s 440us/step - loss: 0.6932 - val_loss: 0.7303\n",
      "Epoch 6/100\n",
      "363/363 [==============================] - 0s 431us/step - loss: 0.6532 - val_loss: 0.6936\n",
      "Epoch 7/100\n",
      "363/363 [==============================] - 0s 431us/step - loss: 0.6203 - val_loss: 0.6600\n",
      "Epoch 8/100\n",
      "363/363 [==============================] - 0s 437us/step - loss: 0.5920 - val_loss: 0.6314\n",
      "Epoch 9/100\n",
      "363/363 [==============================] - 0s 437us/step - loss: 0.5687 - val_loss: 0.6088\n",
      "Epoch 10/100\n",
      "363/363 [==============================] - 0s 434us/step - loss: 0.5497 - val_loss: 0.5881\n",
      "Epoch 11/100\n",
      "363/363 [==============================] - 0s 442us/step - loss: 0.5339 - val_loss: 0.5716\n",
      "Epoch 12/100\n",
      "363/363 [==============================] - 0s 459us/step - loss: 0.5203 - val_loss: 0.5576\n",
      "Epoch 13/100\n",
      "363/363 [==============================] - 0s 445us/step - loss: 0.5088 - val_loss: 0.5441\n",
      "Epoch 14/100\n",
      "363/363 [==============================] - 0s 440us/step - loss: 0.4987 - val_loss: 0.5329\n",
      "Epoch 15/100\n",
      "363/363 [==============================] - 0s 443us/step - loss: 0.4898 - val_loss: 0.5227\n",
      "Epoch 16/100\n",
      "363/363 [==============================] - 0s 441us/step - loss: 0.4823 - val_loss: 0.5141\n",
      "Epoch 17/100\n",
      "363/363 [==============================] - 0s 448us/step - loss: 0.4758 - val_loss: 0.5074\n",
      "Epoch 18/100\n",
      "363/363 [==============================] - 0s 436us/step - loss: 0.4697 - val_loss: 0.4999\n",
      "Epoch 19/100\n",
      "363/363 [==============================] - 0s 433us/step - loss: 0.4647 - val_loss: 0.4934\n",
      "Epoch 20/100\n",
      "363/363 [==============================] - 0s 451us/step - loss: 0.4598 - val_loss: 0.4876\n",
      "Epoch 21/100\n",
      "363/363 [==============================] - 0s 442us/step - loss: 0.4557 - val_loss: 0.4826\n",
      "Epoch 22/100\n",
      "363/363 [==============================] - 0s 430us/step - loss: 0.4516 - val_loss: 0.4791\n",
      "Epoch 23/100\n",
      "363/363 [==============================] - 0s 432us/step - loss: 0.4480 - val_loss: 0.4752\n",
      "Epoch 24/100\n",
      "363/363 [==============================] - 0s 425us/step - loss: 0.4447 - val_loss: 0.4717\n",
      "Epoch 25/100\n",
      "363/363 [==============================] - 0s 429us/step - loss: 0.4416 - val_loss: 0.4689\n",
      "Epoch 26/100\n",
      "363/363 [==============================] - 0s 431us/step - loss: 0.4386 - val_loss: 0.4638\n",
      "Epoch 27/100\n",
      "363/363 [==============================] - 0s 434us/step - loss: 0.4359 - val_loss: 0.4605\n",
      "Epoch 28/100\n",
      "363/363 [==============================] - 0s 426us/step - loss: 0.4334 - val_loss: 0.4590\n",
      "Epoch 29/100\n",
      "363/363 [==============================] - 0s 434us/step - loss: 0.4312 - val_loss: 0.4556\n",
      "Epoch 30/100\n",
      "363/363 [==============================] - 0s 437us/step - loss: 0.4292 - val_loss: 0.4526\n",
      "Epoch 31/100\n",
      "363/363 [==============================] - 0s 434us/step - loss: 0.4270 - val_loss: 0.4514\n",
      "Epoch 32/100\n",
      "363/363 [==============================] - 0s 447us/step - loss: 0.4253 - val_loss: 0.4487\n",
      "Epoch 33/100\n",
      "363/363 [==============================] - 0s 457us/step - loss: 0.4233 - val_loss: 0.4469\n",
      "Epoch 34/100\n",
      "363/363 [==============================] - 0s 442us/step - loss: 0.4217 - val_loss: 0.4456\n",
      "Epoch 35/100\n",
      "363/363 [==============================] - 0s 431us/step - loss: 0.4200 - val_loss: 0.4425\n",
      "Epoch 36/100\n",
      "363/363 [==============================] - 0s 430us/step - loss: 0.4184 - val_loss: 0.4417\n",
      "Epoch 37/100\n",
      "363/363 [==============================] - 0s 431us/step - loss: 0.4168 - val_loss: 0.4390\n"
     ]
    }
   ],
   "source": [
    "history = model.fit(x_train_scaled, y_train,\n",
    "                   validation_data=(x_valid_scaled, y_valid),\n",
    "                   epochs=100,\n",
    "                   callbacks=callbacks)"
   ]
  },
  {
   "cell_type": "code",
   "execution_count": 8,
   "metadata": {},
   "outputs": [
    {
     "data": {
      "image/png": "[encoded data removed]",
      "text/plain": [
       "<Figure size 576x360 with 1 Axes>"
      ]
     },
     "metadata": {
      "needs_background": "light"
     },
     "output_type": "display_data"
    }
   ],
   "source": [
    "def plot_learning_curves(history):\n",
    "    pd.DataFrame(history.history).plot(figsize=(8, 5))\n",
    "    plt.grid(True)\n",
    "    plt.gca().set_ylim(0, 1)\n",
    "    plt.show()\n",
    "\n",
    "plot_learning_curves(history)"
   ]
  },
  {
   "cell_type": "code",
   "execution_count": 10,
   "metadata": {},
   "outputs": [
    {
     "name": "stdout",
     "output_type": "stream",
     "text": [
      "162/162 [==============================] - 0s 283us/step - loss: 0.4344\n"
     ]
    },
    {
     "data": {
      "text/plain": [
       "0.4343852698802948"
      ]
     },
     "execution_count": 10,
     "metadata": {},
     "output_type": "execute_result"
    }
   ],
   "source": [
    "model.evaluate(x_test_scaled, y_test)"
   ]
  },
  {
   "cell_type": "code",
   "execution_count": null,
   "metadata": {},
   "outputs": [],
   "source": []
  }
 ],
 "metadata": {
  "kernelspec": {
   "display_name": "tf2_gpu",
   "language": "python",
   "name": "tf2_gpu"
  },
  "language_info": {
   "codemirror_mode": {
    "name": "ipython",
    "version": 3
   },
   "file_extension": ".py",
   "mimetype": "text/x-python",
   "name": "python",
   "nbconvert_exporter": "python",
   "pygments_lexer": "ipython3",
   "version": "3.8.3"
  }
 },
 "nbformat": 4,
 "nbformat_minor": 4
}
